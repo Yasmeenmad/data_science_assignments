{
 "cells": [
  {
   "cell_type": "markdown",
   "metadata": {},
   "source": [
    "## The Birthday Paradox"
   ]
  },
  {
   "cell_type": "markdown",
   "metadata": {},
   "source": [
    "There is a famous problem in statistics that concerns a room full of people: Same Birthday!\n",
    "\n",
    "An instructor offers a prize of `$20` to anyone who thinks that two people in the room have the same birthday. Your assignment is to build a function to tell the instructor how many people need to be in the room to give him/her a better than 50% chance of winning the `$20`. That is to say, how many people need to be in a room in order for the probability of two of them having the same birthday is greater than 50%. Do the same for 95% and 99%."
   ]
  },
  {
   "cell_type": "code",
   "execution_count": 1,
   "metadata": {},
   "outputs": [],
   "source": [
    "# article link : https://betterexplained.com/articles/understanding-the-birthday-paradox/\n",
    "# I use a formula form this article to find the probability of a match for any number of people n\n",
    "# the formula :  p(n)= 1 -((364/356)^(n(n-1)/2)), n is number of people\n",
    "\n",
    "# create a function that have one input which is the number of people in the room\n",
    "# then the function will calculate the probability of two of them having the same birthday\n",
    "def probability_of_same_birthday(number):\n",
    "    formula = 1-((364/365)**((number**2 - number)/2))\n",
    "    return formula"
   ]
  },
  {
   "cell_type": "code",
   "execution_count": 2,
   "metadata": {},
   "outputs": [
    {
     "data": {
      "text/plain": [
       "0.19264507847148415"
      ]
     },
     "execution_count": 2,
     "metadata": {},
     "output_type": "execute_result"
    }
   ],
   "source": [
    "# try a random number of people to see the probability\n",
    "probability_of_same_birthday(13)"
   ]
  },
  {
   "cell_type": "code",
   "execution_count": 3,
   "metadata": {},
   "outputs": [
    {
     "data": {
      "text/plain": [
       "0.6717091395807101"
      ]
     },
     "execution_count": 3,
     "metadata": {},
     "output_type": "execute_result"
    }
   ],
   "source": [
    "# 29 people will give a probability greater than 50%\n",
    "probability_of_same_birthday(29)"
   ]
  },
  {
   "cell_type": "code",
   "execution_count": 4,
   "metadata": {},
   "outputs": [
    {
     "data": {
      "text/plain": [
       "0.9771892561665184"
      ]
     },
     "execution_count": 4,
     "metadata": {},
     "output_type": "execute_result"
    }
   ],
   "source": [
    "# 53 people will give a probability greater than 95%\n",
    "probability_of_same_birthday(53)"
   ]
  },
  {
   "cell_type": "code",
   "execution_count": 5,
   "metadata": {},
   "outputs": [
    {
     "data": {
      "text/plain": [
       "0.9986739074045339"
      ]
     },
     "execution_count": 5,
     "metadata": {},
     "output_type": "execute_result"
    }
   ],
   "source": [
    "# 70 people will give a probability greater than 99%\n",
    "probability_of_same_birthday(70)"
   ]
  }
 ],
 "metadata": {
  "kernelspec": {
   "display_name": "Python [default]",
   "language": "python",
   "name": "python3"
  },
  "language_info": {
   "codemirror_mode": {
    "name": "ipython",
    "version": 3
   },
   "file_extension": ".py",
   "mimetype": "text/x-python",
   "name": "python",
   "nbconvert_exporter": "python",
   "pygments_lexer": "ipython3",
   "version": "3.7.1"
  }
 },
 "nbformat": 4,
 "nbformat_minor": 2
}
