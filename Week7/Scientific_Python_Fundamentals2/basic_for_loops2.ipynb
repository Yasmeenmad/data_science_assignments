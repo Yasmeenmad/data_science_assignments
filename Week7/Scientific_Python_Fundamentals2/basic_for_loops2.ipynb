{
 "cells": [
  {
   "cell_type": "markdown",
   "metadata": {},
   "source": [
    "## task 1 \n",
    "Biggie Size: Given a list, write a function that changes all positive numbers in the list to \"big\""
   ]
  },
  {
   "cell_type": "code",
   "execution_count": 3,
   "metadata": {},
   "outputs": [
    {
     "name": "stdout",
     "output_type": "stream",
     "text": [
      "['big', 'big', 'big', -5, -2, 'big', -1, 'big', 'big', -4, -7]\n"
     ]
    }
   ],
   "source": [
    "list1 = [1,2,4,-5,-2,33,-1,11,42,-4,-7]\n",
    "def biggie_size(mylist):\n",
    "    for item in range(len(mylist)):\n",
    "        if mylist[item]>0:\n",
    "            mylist[item]='big'\n",
    "    return mylist\n",
    "\n",
    "print(biggie_size(list1))"
   ]
  },
  {
   "cell_type": "markdown",
   "metadata": {},
   "source": [
    "## task 2 \n",
    "Count Positives: Given a list of numbers, create a function to replace the last value with the number of positive values."
   ]
  },
  {
   "cell_type": "code",
   "execution_count": 4,
   "metadata": {},
   "outputs": [
    {
     "name": "stdout",
     "output_type": "stream",
     "text": [
      "The nubmber of positive numbers in list 2: 6\n",
      "The nubmber of positive numbers in list 3: 5\n",
      "[1, 2, 4, -5, -2, 33, -1, 11, 42, -4, 24]\n",
      "[-11, 12, -51, 7, 8, 0, -23, -4, 2, 9]\n"
     ]
    }
   ],
   "source": [
    "list2 = [1,2,4,-5,-2,33,-1,11,42,-4,-7]\n",
    "list3 = [-11,12,-51,7,8,0,-23,-4,2,-2]\n",
    "\n",
    "# function to replace the last value with the number of positive values in a list\n",
    "def replace_last_value(mylist):\n",
    "    count = 0\n",
    "    for val in mylist:\n",
    "        if val > 0:\n",
    "            count = (val+3)*2\n",
    "        else:\n",
    "            count = (-val+1)*3 \n",
    "    mylist[len(mylist)-1] = count\n",
    "    return mylist\n",
    "\n",
    "# fuction to count the nubmber of positive numbers in a list\n",
    "def count_positives(mylist):\n",
    "    positive_count = 0\n",
    "    for item in mylist:      \n",
    "        if item >= 0:\n",
    "            positive_count += 1\n",
    "    return positive_count        \n",
    "\n",
    "# print the result of function count_positives()\n",
    "print(\"The nubmber of positive numbers in list 2:\", count_positives(list2))\n",
    "print(\"The nubmber of positive numbers in list 3:\", count_positives(list3))\n",
    "\n",
    "# print the result of function  replace_last_value()\n",
    "print(replace_last_value(list2))\n",
    "print(replace_last_value(list3))"
   ]
  },
  {
   "cell_type": "markdown",
   "metadata": {},
   "source": [
    "## task 3\n",
    "Sum Total: Create a function that takes a list and returns the sum of all the values in the array"
   ]
  },
  {
   "cell_type": "code",
   "execution_count": 5,
   "metadata": {},
   "outputs": [
    {
     "name": "stdout",
     "output_type": "stream",
     "text": [
      "147\n"
     ]
    }
   ],
   "source": [
    "list4 = [-11,12,-51,7,-4,6,-2,2,72,62,-37,91]  \n",
    "# fuction that find the total sum of all elements in a list\n",
    "def sum_total(mylist):\n",
    "    sum = 0\n",
    "#Loop through the mylist to calculate sum of elements    \n",
    "    for item in mylist:    \n",
    "           sum = sum + item \n",
    "    return sum\n",
    "# print the result of function sum_total()\n",
    "print(sum_total(list4))     "
   ]
  },
  {
   "cell_type": "markdown",
   "metadata": {},
   "source": [
    "## task 4\n",
    "Average: Create a function that takes a list and returns the average of all the values"
   ]
  },
  {
   "cell_type": "code",
   "execution_count": 15,
   "metadata": {},
   "outputs": [
    {
     "name": "stdout",
     "output_type": "stream",
     "text": [
      "13.73\n"
     ]
    }
   ],
   "source": [
    "list5 = [-11,12,19,64,88,0,-23,-4,6,-2,2]  \n",
    "# fuction that find the Average of elements in a list\n",
    "def average(mylist):\n",
    "    sum = 0\n",
    "#Loop through the mylist to calculate sum of elements then return the Average   \n",
    "    for item in mylist:    \n",
    "           sum = sum + item \n",
    "    return (sum/len(mylist))\n",
    "# print the result of function average()\n",
    "print(round(average(list5),2))    "
   ]
  },
  {
   "cell_type": "markdown",
   "metadata": {},
   "source": [
    "## task 5\n",
    "Length: Create a function that takes a list and returns the length of the list"
   ]
  },
  {
   "cell_type": "code",
   "execution_count": 7,
   "metadata": {},
   "outputs": [
    {
     "name": "stdout",
     "output_type": "stream",
     "text": [
      "The length of the list is: 12\n"
     ]
    }
   ],
   "source": [
    "list6 = [-11,12,-51,7,8,0,-23,-4,2,9,81,100]\n",
    "# fuction that takes a list and returns the length of the list\n",
    "def length(mylist):\n",
    "    count = 0\n",
    "    #Loop through the mylist to calculate the number of elements\n",
    "    for item in mylist:     \n",
    "        count += 1\n",
    "    return count        \n",
    "# print the result of function length()\n",
    "print(\"The length of the list is:\", length(list6))"
   ]
  },
  {
   "cell_type": "markdown",
   "metadata": {},
   "source": [
    "## task 6\n",
    "Minimum: Create a function that takes a list of numbers and returns the minimum value in the list. (Optional) If the list is empty, have the function return False"
   ]
  },
  {
   "cell_type": "code",
   "execution_count": 8,
   "metadata": {},
   "outputs": [
    {
     "name": "stdout",
     "output_type": "stream",
     "text": [
      "-51\n"
     ]
    },
    {
     "data": {
      "text/plain": [
       "False"
      ]
     },
     "execution_count": 8,
     "metadata": {},
     "output_type": "execute_result"
    }
   ],
   "source": [
    "list7 = [-11,12,-51,7,8,73,-23,-4,2,9,0,102,59,-18]\n",
    "# fuction that takes a list and returns the minimum value of the list\n",
    "def minimum(mylist):\n",
    "    # if the list is empty will return false\n",
    "    if len(mylist) == 0:\n",
    "        return False\n",
    "    minimum_value = mylist[0]\n",
    "    #Loop through the mylist to find the minimum value\n",
    "    for item in mylist:\n",
    "        if item < minimum_value:\n",
    "            minimum_value = item\n",
    "    return minimum_value\n",
    "# print the result of function minimum()\n",
    "print(minimum(list7))\n",
    "# if the list was empty\n",
    "minimum([])"
   ]
  },
  {
   "cell_type": "markdown",
   "metadata": {},
   "source": [
    "## task 7\n",
    "Maximum: Create a function that takes a list and returns the maximum value in the array. (Optional) If the list is empty, have the function return False"
   ]
  },
  {
   "cell_type": "code",
   "execution_count": 9,
   "metadata": {},
   "outputs": [
    {
     "name": "stdout",
     "output_type": "stream",
     "text": [
      "72\n"
     ]
    },
    {
     "data": {
      "text/plain": [
       "False"
      ]
     },
     "execution_count": 9,
     "metadata": {},
     "output_type": "execute_result"
    }
   ],
   "source": [
    "list8 = [41,72,-11,0,34,15,-38,-33,29,45,53,-58]\n",
    "# fuction that takes a list and returns the maximum value of the list\n",
    "def maximum(mylist):\n",
    "    # if the list is empty will return false\n",
    "    if len(mylist) == 0:\n",
    "        return False\n",
    "    maximum_value = mylist[0]\n",
    "    #Loop through the mylist to find the maximum value\n",
    "    for item in mylist:\n",
    "        if item > maximum_value:\n",
    "            maximum_value = item\n",
    "    return maximum_value\n",
    "# print the result of function maximum()\n",
    "print(maximum(list8))\n",
    "# if the list was empty\n",
    "maximum([])"
   ]
  },
  {
   "cell_type": "markdown",
   "metadata": {},
   "source": [
    "## optional task 1\n",
    "Ultimate Analysis: Create a function that takes a list and returns a dictionary that has the sumTotal, average, minimum, maximum and length of the list"
   ]
  },
  {
   "cell_type": "code",
   "execution_count": 10,
   "metadata": {},
   "outputs": [
    {
     "name": "stdout",
     "output_type": "stream",
     "text": [
      "{'sumTotal': 133, 'average': 9.5, 'minimum': -50, 'maximum': 89, 'length': 14}\n"
     ]
    }
   ],
   "source": [
    "list9 = [44,-34,0,71,1,-4,12,10,-50,33,89,-19,-39,19]\n",
    "# fuction that takes a list and returns dictionary that has the sum and average, minimum, maximum and length of the list\n",
    "def ultimate_analysis(mylist):\n",
    "    dictonary = {'sumTotal': 0, 'average': 0, 'minimum': mylist[0], 'maximum': mylist[0], 'length': len(mylist) }\n",
    "    #Loop through the mylist to find the sum and average, minimum, maximum and length\n",
    "    for item in mylist:\n",
    "        dictonary['sumTotal']+= item\n",
    "        dictonary['average'] = dictonary['sumTotal']/len(mylist)\n",
    "        \n",
    "        if dictonary['minimum'] > item:\n",
    "            dictonary['minimum'] = item\n",
    "        if dictonary['maximum'] < item:\n",
    "            dictonary['maximum'] = item\n",
    "    return dictonary\n",
    "# print the result of function ultimate_analysis()\n",
    "print(ultimate_analysis(list9))"
   ]
  },
  {
   "cell_type": "markdown",
   "metadata": {},
   "source": [
    "## optional task 2\n",
    "Reverse List: Create a function that takes a list and return that list with values reversed. Do this without creating a second list"
   ]
  },
  {
   "cell_type": "code",
   "execution_count": 11,
   "metadata": {},
   "outputs": [
    {
     "name": "stdout",
     "output_type": "stream",
     "text": [
      "[3, 2, 1]\n",
      "[14, -12, 7, 5, -1]\n",
      "[-140, 100, 19, 0, 7]\n"
     ]
    }
   ],
   "source": [
    "list10 = [1,2,3]\n",
    "list11 = [-1,5,7,-12,14]\n",
    "list12 = [7,0,19,100,-140]\n",
    "# fuction that takes a list and returns that list with values reversed\n",
    "def reverse_list(mylist):\n",
    "     return mylist[::-1]\n",
    "# print the result of function reverse_list()\n",
    "print(reverse_list(list10))\n",
    "print(reverse_list(list11))\n",
    "print(reverse_list(list12))"
   ]
  }
 ],
 "metadata": {
  "kernelspec": {
   "display_name": "Python [default]",
   "language": "python",
   "name": "python3"
  },
  "language_info": {
   "codemirror_mode": {
    "name": "ipython",
    "version": 3
   },
   "file_extension": ".py",
   "mimetype": "text/x-python",
   "name": "python",
   "nbconvert_exporter": "python",
   "pygments_lexer": "ipython3",
   "version": "3.7.1"
  }
 },
 "nbformat": 4,
 "nbformat_minor": 2
}
