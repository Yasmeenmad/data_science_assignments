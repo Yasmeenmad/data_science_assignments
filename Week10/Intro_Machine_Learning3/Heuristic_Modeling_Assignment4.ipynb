{
 "cells": [
  {
   "cell_type": "markdown",
   "metadata": {},
   "source": [
    "# Heuristic Models For Seattle Weather"
   ]
  },
  {
   "cell_type": "code",
   "execution_count": 1,
   "metadata": {},
   "outputs": [],
   "source": [
    "# import packges \n",
    "import pandas as pd\n",
    "import numpy as np\n",
    "%matplotlib inline\n",
    "import time\n",
    "import random\n",
    "from random import randint\n",
    "import datetime\n",
    "from sklearn.model_selection import train_test_split\n",
    "from sklearn.metrics import confusion_matrix"
   ]
  },
  {
   "cell_type": "code",
   "execution_count": 2,
   "metadata": {},
   "outputs": [],
   "source": [
    "# Load Data\n",
    "df = pd.read_csv('https://raw.githubusercontent.com/Yasmeenmad/data_science_bootcamp/main/Week10/Intro_Machine_Learning1/seattle_weather_1948-2017.csv')"
   ]
  },
  {
   "cell_type": "code",
   "execution_count": 3,
   "metadata": {},
   "outputs": [
    {
     "data": {
      "text/html": [
       "<div>\n",
       "<style scoped>\n",
       "    .dataframe tbody tr th:only-of-type {\n",
       "        vertical-align: middle;\n",
       "    }\n",
       "\n",
       "    .dataframe tbody tr th {\n",
       "        vertical-align: top;\n",
       "    }\n",
       "\n",
       "    .dataframe thead th {\n",
       "        text-align: right;\n",
       "    }\n",
       "</style>\n",
       "<table border=\"1\" class=\"dataframe\">\n",
       "  <thead>\n",
       "    <tr style=\"text-align: right;\">\n",
       "      <th></th>\n",
       "      <th>DATE</th>\n",
       "      <th>PRCP</th>\n",
       "      <th>TMAX</th>\n",
       "      <th>TMIN</th>\n",
       "      <th>RAIN</th>\n",
       "    </tr>\n",
       "  </thead>\n",
       "  <tbody>\n",
       "    <tr>\n",
       "      <th>0</th>\n",
       "      <td>1948-01-01</td>\n",
       "      <td>0.47</td>\n",
       "      <td>51</td>\n",
       "      <td>42</td>\n",
       "      <td>True</td>\n",
       "    </tr>\n",
       "    <tr>\n",
       "      <th>1</th>\n",
       "      <td>1948-01-02</td>\n",
       "      <td>0.59</td>\n",
       "      <td>45</td>\n",
       "      <td>36</td>\n",
       "      <td>True</td>\n",
       "    </tr>\n",
       "    <tr>\n",
       "      <th>2</th>\n",
       "      <td>1948-01-03</td>\n",
       "      <td>0.42</td>\n",
       "      <td>45</td>\n",
       "      <td>35</td>\n",
       "      <td>True</td>\n",
       "    </tr>\n",
       "    <tr>\n",
       "      <th>3</th>\n",
       "      <td>1948-01-04</td>\n",
       "      <td>0.31</td>\n",
       "      <td>45</td>\n",
       "      <td>34</td>\n",
       "      <td>True</td>\n",
       "    </tr>\n",
       "    <tr>\n",
       "      <th>4</th>\n",
       "      <td>1948-01-05</td>\n",
       "      <td>0.17</td>\n",
       "      <td>45</td>\n",
       "      <td>32</td>\n",
       "      <td>True</td>\n",
       "    </tr>\n",
       "  </tbody>\n",
       "</table>\n",
       "</div>"
      ],
      "text/plain": [
       "         DATE  PRCP  TMAX  TMIN  RAIN\n",
       "0  1948-01-01  0.47    51    42  True\n",
       "1  1948-01-02  0.59    45    36  True\n",
       "2  1948-01-03  0.42    45    35  True\n",
       "3  1948-01-04  0.31    45    34  True\n",
       "4  1948-01-05  0.17    45    32  True"
      ]
     },
     "execution_count": 3,
     "metadata": {},
     "output_type": "execute_result"
    }
   ],
   "source": [
    "df.head()"
   ]
  },
  {
   "cell_type": "code",
   "execution_count": 4,
   "metadata": {},
   "outputs": [],
   "source": [
    "# droop the NaN values\n",
    "df = df.dropna()\n",
    "# set the type of 'RAIN' column to bool \n",
    "df[\"RAIN\"] = df[\"RAIN\"].astype(bool)"
   ]
  },
  {
   "cell_type": "code",
   "execution_count": 5,
   "metadata": {},
   "outputs": [],
   "source": [
    "# Separate your data set into training and testing. (80/20 split)\n",
    "# Split into training and test sets\n",
    "\n",
    "training, testing = train_test_split(\n",
    "    df, \n",
    "    train_size=0.8, # 80% of data to train\n",
    "    test_size=0.2, # 20% of data to test\n",
    ")"
   ]
  },
  {
   "cell_type": "code",
   "execution_count": 6,
   "metadata": {},
   "outputs": [
    {
     "data": {
      "text/plain": [
       "False    0.573352\n",
       "True     0.426648\n",
       "Name: RAIN, dtype: float64"
      ]
     },
     "execution_count": 6,
     "metadata": {},
     "output_type": "execute_result"
    }
   ],
   "source": [
    "# our baseline model\n",
    "df[\"RAIN\"].value_counts(normalize=True)"
   ]
  },
  {
   "cell_type": "code",
   "execution_count": 7,
   "metadata": {},
   "outputs": [
    {
     "data": {
      "text/plain": [
       "False    0.574127\n",
       "True     0.425873\n",
       "Name: RAIN, dtype: float64"
      ]
     },
     "execution_count": 7,
     "metadata": {},
     "output_type": "execute_result"
    }
   ],
   "source": [
    "# Make sure we see the same class distribution in our test data labels\n",
    "# Check class labels distribution in training\n",
    "training[\"RAIN\"].value_counts(normalize=True)"
   ]
  },
  {
   "cell_type": "code",
   "execution_count": 8,
   "metadata": {},
   "outputs": [
    {
     "data": {
      "text/plain": [
       "False    0.570254\n",
       "True     0.429746\n",
       "Name: RAIN, dtype: float64"
      ]
     },
     "execution_count": 8,
     "metadata": {},
     "output_type": "execute_result"
    }
   ],
   "source": [
    "# Check class labels distribution in testing\n",
    "testing[\"RAIN\"].value_counts(normalize=True)"
   ]
  },
  {
   "cell_type": "markdown",
   "metadata": {},
   "source": [
    "### Classification Heuristic Model"
   ]
  },
  {
   "cell_type": "code",
   "execution_count": 9,
   "metadata": {},
   "outputs": [],
   "source": [
    "# Create function to perform our heuristic\n",
    "def heuristic_rain(df):\n",
    "    \n",
    "    \"\"\"\n",
    "    Simple heuristic:\n",
    "    \n",
    "    If it rained yesterday or the day before, if max temperature from 30 to 70 for yesterday or the day before, if min \n",
    "    temperature from 25 to 60 for yesterday or the day before and if precipitation of rain range from 0.01 to 5.02 \n",
    "    for yesterday or the day before then it will rain else predict no rain\n",
    "    \n",
    "    Frist two rows are predicted false be default\n",
    "    \"\"\"\n",
    "    \n",
    "    preds = []\n",
    "    for x in range(len(df)):\n",
    "        # If first two rows then predict false\n",
    "        if x <2:\n",
    "            preds.append(False)\n",
    "        else:\n",
    "\n",
    "            if ((df.iloc[x-1][\"RAIN\"] == True) & (df.iloc[x-2][\"RAIN\"] == True) &\n",
    "                ((df.iloc[x-1][\"TMAX\"] <= 70) & (df.iloc[x-1][\"TMAX\"] >= 30)) &\n",
    "                ((df.iloc[x-2][\"TMAX\"] <= 70) & (df.iloc[x-2][\"TMAX\"] >= 30)) &\n",
    "                ((df.iloc[x-1][\"TMIN\"] <= 60) & (df.iloc[x-1][\"TMIN\"] >= 25)) &\n",
    "                ((df.iloc[x-2][\"TMIN\"] <= 60) & (df.iloc[x-2][\"TMIN\"] >= 25)) &\n",
    "                ((df.iloc[x-1][\"PRCP\"] <= 5.02) & (df.iloc[x-1][\"PRCP\"] >= 0.01)) &\n",
    "                ((df.iloc[x-2][\"PRCP\"] <= 5.02) & (df.iloc[x-2][\"PRCP\"] >= 0.01))):\n",
    "                preds.append(True)\n",
    "\n",
    "                \n",
    "            else:\n",
    "                # Predict false if the above is not true\n",
    "                preds.append(False)\n",
    "    return preds"
   ]
  },
  {
   "cell_type": "code",
   "execution_count": 10,
   "metadata": {},
   "outputs": [],
   "source": [
    "# sort index\n",
    "training = training.sort_index()"
   ]
  },
  {
   "cell_type": "code",
   "execution_count": 11,
   "metadata": {},
   "outputs": [],
   "source": [
    "# add the rain prediction column to the dataframe\n",
    "training['preds_rain'] = heuristic_rain(training)"
   ]
  },
  {
   "cell_type": "code",
   "execution_count": 12,
   "metadata": {},
   "outputs": [
    {
     "data": {
      "text/html": [
       "<div>\n",
       "<style scoped>\n",
       "    .dataframe tbody tr th:only-of-type {\n",
       "        vertical-align: middle;\n",
       "    }\n",
       "\n",
       "    .dataframe tbody tr th {\n",
       "        vertical-align: top;\n",
       "    }\n",
       "\n",
       "    .dataframe thead th {\n",
       "        text-align: right;\n",
       "    }\n",
       "</style>\n",
       "<table border=\"1\" class=\"dataframe\">\n",
       "  <thead>\n",
       "    <tr style=\"text-align: right;\">\n",
       "      <th></th>\n",
       "      <th>DATE</th>\n",
       "      <th>PRCP</th>\n",
       "      <th>TMAX</th>\n",
       "      <th>TMIN</th>\n",
       "      <th>RAIN</th>\n",
       "      <th>preds_rain</th>\n",
       "    </tr>\n",
       "  </thead>\n",
       "  <tbody>\n",
       "    <tr>\n",
       "      <th>0</th>\n",
       "      <td>1948-01-01</td>\n",
       "      <td>0.47</td>\n",
       "      <td>51</td>\n",
       "      <td>42</td>\n",
       "      <td>True</td>\n",
       "      <td>False</td>\n",
       "    </tr>\n",
       "    <tr>\n",
       "      <th>1</th>\n",
       "      <td>1948-01-02</td>\n",
       "      <td>0.59</td>\n",
       "      <td>45</td>\n",
       "      <td>36</td>\n",
       "      <td>True</td>\n",
       "      <td>False</td>\n",
       "    </tr>\n",
       "    <tr>\n",
       "      <th>2</th>\n",
       "      <td>1948-01-03</td>\n",
       "      <td>0.42</td>\n",
       "      <td>45</td>\n",
       "      <td>35</td>\n",
       "      <td>True</td>\n",
       "      <td>True</td>\n",
       "    </tr>\n",
       "    <tr>\n",
       "      <th>3</th>\n",
       "      <td>1948-01-04</td>\n",
       "      <td>0.31</td>\n",
       "      <td>45</td>\n",
       "      <td>34</td>\n",
       "      <td>True</td>\n",
       "      <td>True</td>\n",
       "    </tr>\n",
       "    <tr>\n",
       "      <th>7</th>\n",
       "      <td>1948-01-08</td>\n",
       "      <td>0.04</td>\n",
       "      <td>48</td>\n",
       "      <td>35</td>\n",
       "      <td>True</td>\n",
       "      <td>True</td>\n",
       "    </tr>\n",
       "    <tr>\n",
       "      <th>...</th>\n",
       "      <td>...</td>\n",
       "      <td>...</td>\n",
       "      <td>...</td>\n",
       "      <td>...</td>\n",
       "      <td>...</td>\n",
       "      <td>...</td>\n",
       "    </tr>\n",
       "    <tr>\n",
       "      <th>25545</th>\n",
       "      <td>2017-12-09</td>\n",
       "      <td>0.00</td>\n",
       "      <td>44</td>\n",
       "      <td>29</td>\n",
       "      <td>False</td>\n",
       "      <td>False</td>\n",
       "    </tr>\n",
       "    <tr>\n",
       "      <th>25547</th>\n",
       "      <td>2017-12-11</td>\n",
       "      <td>0.00</td>\n",
       "      <td>49</td>\n",
       "      <td>29</td>\n",
       "      <td>False</td>\n",
       "      <td>False</td>\n",
       "    </tr>\n",
       "    <tr>\n",
       "      <th>25548</th>\n",
       "      <td>2017-12-12</td>\n",
       "      <td>0.00</td>\n",
       "      <td>46</td>\n",
       "      <td>32</td>\n",
       "      <td>False</td>\n",
       "      <td>False</td>\n",
       "    </tr>\n",
       "    <tr>\n",
       "      <th>25549</th>\n",
       "      <td>2017-12-13</td>\n",
       "      <td>0.00</td>\n",
       "      <td>48</td>\n",
       "      <td>34</td>\n",
       "      <td>False</td>\n",
       "      <td>False</td>\n",
       "    </tr>\n",
       "    <tr>\n",
       "      <th>25550</th>\n",
       "      <td>2017-12-14</td>\n",
       "      <td>0.00</td>\n",
       "      <td>50</td>\n",
       "      <td>36</td>\n",
       "      <td>False</td>\n",
       "      <td>False</td>\n",
       "    </tr>\n",
       "  </tbody>\n",
       "</table>\n",
       "<p>20438 rows × 6 columns</p>\n",
       "</div>"
      ],
      "text/plain": [
       "             DATE  PRCP  TMAX  TMIN   RAIN  preds_rain\n",
       "0      1948-01-01  0.47    51    42   True       False\n",
       "1      1948-01-02  0.59    45    36   True       False\n",
       "2      1948-01-03  0.42    45    35   True        True\n",
       "3      1948-01-04  0.31    45    34   True        True\n",
       "7      1948-01-08  0.04    48    35   True        True\n",
       "...           ...   ...   ...   ...    ...         ...\n",
       "25545  2017-12-09  0.00    44    29  False       False\n",
       "25547  2017-12-11  0.00    49    29  False       False\n",
       "25548  2017-12-12  0.00    46    32  False       False\n",
       "25549  2017-12-13  0.00    48    34  False       False\n",
       "25550  2017-12-14  0.00    50    36  False       False\n",
       "\n",
       "[20438 rows x 6 columns]"
      ]
     },
     "execution_count": 12,
     "metadata": {},
     "output_type": "execute_result"
    }
   ],
   "source": [
    "# show the dataframe\n",
    "training"
   ]
  },
  {
   "cell_type": "markdown",
   "metadata": {},
   "source": [
    "### Regression Heuristic Model"
   ]
  },
  {
   "cell_type": "code",
   "execution_count": 14,
   "metadata": {},
   "outputs": [],
   "source": [
    "# Create function to perform our heuristic\n",
    "def heuristic_prcp(df):\n",
    "    \n",
    "    \"\"\"\n",
    "    Simple heuristic:\n",
    "    If it rained yesterday and today is raining then will predict a rain precipitation from 0.02 to 0.08\n",
    "    If If it didn't rain yesterday and today is raining then will predict a rain precipitation from 0.01 to 0.02\n",
    "    \n",
    "    \"\"\"\n",
    "    \n",
    "    preds = []\n",
    "    for x in range(len(df)):\n",
    "        # If first two rows then predict false\n",
    "        if x <2:\n",
    "            preds.append(0)\n",
    "        else:\n",
    "            if ((df[\"RAIN\"].iloc[x] == True) & (df[\"RAIN\"].iloc[x-1] == False)):\n",
    "                precipitation = round((float(random.randint(100,200)) / 10000),2)\n",
    "                preds.append(precipitation)\n",
    "            \n",
    "            elif ((df[\"RAIN\"].iloc[x] == True) & (df[\"RAIN\"].iloc[x-1] == True) & ( df[\"RAIN\"].iloc[x-2] == True)):\n",
    "                precipitation = round((float(random.randint(1000,1500)) / 10000),2)\n",
    "                preds.append(precipitation)\n",
    "            \n",
    "            elif ((df[\"RAIN\"].iloc[x] == True) & (df[\"RAIN\"].iloc[x-1] == True)):\n",
    "                precipitation = round((float(random.randint(200,800)) / 10000),2)\n",
    "                preds.append(precipitation)\n",
    "            \n",
    "   \n",
    "            else:\n",
    "                # Predict 0 if the above is not true\n",
    "                preds.append(0)\n",
    "    return preds"
   ]
  },
  {
   "cell_type": "code",
   "execution_count": 15,
   "metadata": {},
   "outputs": [],
   "source": [
    "# add the prcp prediction column to the dataframe\n",
    "training['preds_prcp'] = heuristic_prcp(training)"
   ]
  },
  {
   "cell_type": "code",
   "execution_count": 16,
   "metadata": {
    "scrolled": false
   },
   "outputs": [
    {
     "data": {
      "text/html": [
       "<div>\n",
       "<style scoped>\n",
       "    .dataframe tbody tr th:only-of-type {\n",
       "        vertical-align: middle;\n",
       "    }\n",
       "\n",
       "    .dataframe tbody tr th {\n",
       "        vertical-align: top;\n",
       "    }\n",
       "\n",
       "    .dataframe thead th {\n",
       "        text-align: right;\n",
       "    }\n",
       "</style>\n",
       "<table border=\"1\" class=\"dataframe\">\n",
       "  <thead>\n",
       "    <tr style=\"text-align: right;\">\n",
       "      <th></th>\n",
       "      <th>DATE</th>\n",
       "      <th>PRCP</th>\n",
       "      <th>TMAX</th>\n",
       "      <th>TMIN</th>\n",
       "      <th>RAIN</th>\n",
       "      <th>preds_rain</th>\n",
       "      <th>preds_prcp</th>\n",
       "    </tr>\n",
       "  </thead>\n",
       "  <tbody>\n",
       "    <tr>\n",
       "      <th>0</th>\n",
       "      <td>1948-01-01</td>\n",
       "      <td>0.47</td>\n",
       "      <td>51</td>\n",
       "      <td>42</td>\n",
       "      <td>True</td>\n",
       "      <td>False</td>\n",
       "      <td>0.00</td>\n",
       "    </tr>\n",
       "    <tr>\n",
       "      <th>1</th>\n",
       "      <td>1948-01-02</td>\n",
       "      <td>0.59</td>\n",
       "      <td>45</td>\n",
       "      <td>36</td>\n",
       "      <td>True</td>\n",
       "      <td>False</td>\n",
       "      <td>0.00</td>\n",
       "    </tr>\n",
       "    <tr>\n",
       "      <th>2</th>\n",
       "      <td>1948-01-03</td>\n",
       "      <td>0.42</td>\n",
       "      <td>45</td>\n",
       "      <td>35</td>\n",
       "      <td>True</td>\n",
       "      <td>True</td>\n",
       "      <td>0.11</td>\n",
       "    </tr>\n",
       "    <tr>\n",
       "      <th>3</th>\n",
       "      <td>1948-01-04</td>\n",
       "      <td>0.31</td>\n",
       "      <td>45</td>\n",
       "      <td>34</td>\n",
       "      <td>True</td>\n",
       "      <td>True</td>\n",
       "      <td>0.14</td>\n",
       "    </tr>\n",
       "    <tr>\n",
       "      <th>7</th>\n",
       "      <td>1948-01-08</td>\n",
       "      <td>0.04</td>\n",
       "      <td>48</td>\n",
       "      <td>35</td>\n",
       "      <td>True</td>\n",
       "      <td>True</td>\n",
       "      <td>0.11</td>\n",
       "    </tr>\n",
       "    <tr>\n",
       "      <th>...</th>\n",
       "      <td>...</td>\n",
       "      <td>...</td>\n",
       "      <td>...</td>\n",
       "      <td>...</td>\n",
       "      <td>...</td>\n",
       "      <td>...</td>\n",
       "      <td>...</td>\n",
       "    </tr>\n",
       "    <tr>\n",
       "      <th>25545</th>\n",
       "      <td>2017-12-09</td>\n",
       "      <td>0.00</td>\n",
       "      <td>44</td>\n",
       "      <td>29</td>\n",
       "      <td>False</td>\n",
       "      <td>False</td>\n",
       "      <td>0.00</td>\n",
       "    </tr>\n",
       "    <tr>\n",
       "      <th>25547</th>\n",
       "      <td>2017-12-11</td>\n",
       "      <td>0.00</td>\n",
       "      <td>49</td>\n",
       "      <td>29</td>\n",
       "      <td>False</td>\n",
       "      <td>False</td>\n",
       "      <td>0.00</td>\n",
       "    </tr>\n",
       "    <tr>\n",
       "      <th>25548</th>\n",
       "      <td>2017-12-12</td>\n",
       "      <td>0.00</td>\n",
       "      <td>46</td>\n",
       "      <td>32</td>\n",
       "      <td>False</td>\n",
       "      <td>False</td>\n",
       "      <td>0.00</td>\n",
       "    </tr>\n",
       "    <tr>\n",
       "      <th>25549</th>\n",
       "      <td>2017-12-13</td>\n",
       "      <td>0.00</td>\n",
       "      <td>48</td>\n",
       "      <td>34</td>\n",
       "      <td>False</td>\n",
       "      <td>False</td>\n",
       "      <td>0.00</td>\n",
       "    </tr>\n",
       "    <tr>\n",
       "      <th>25550</th>\n",
       "      <td>2017-12-14</td>\n",
       "      <td>0.00</td>\n",
       "      <td>50</td>\n",
       "      <td>36</td>\n",
       "      <td>False</td>\n",
       "      <td>False</td>\n",
       "      <td>0.00</td>\n",
       "    </tr>\n",
       "  </tbody>\n",
       "</table>\n",
       "<p>20438 rows × 7 columns</p>\n",
       "</div>"
      ],
      "text/plain": [
       "             DATE  PRCP  TMAX  TMIN   RAIN  preds_rain  preds_prcp\n",
       "0      1948-01-01  0.47    51    42   True       False        0.00\n",
       "1      1948-01-02  0.59    45    36   True       False        0.00\n",
       "2      1948-01-03  0.42    45    35   True        True        0.11\n",
       "3      1948-01-04  0.31    45    34   True        True        0.14\n",
       "7      1948-01-08  0.04    48    35   True        True        0.11\n",
       "...           ...   ...   ...   ...    ...         ...         ...\n",
       "25545  2017-12-09  0.00    44    29  False       False        0.00\n",
       "25547  2017-12-11  0.00    49    29  False       False        0.00\n",
       "25548  2017-12-12  0.00    46    32  False       False        0.00\n",
       "25549  2017-12-13  0.00    48    34  False       False        0.00\n",
       "25550  2017-12-14  0.00    50    36  False       False        0.00\n",
       "\n",
       "[20438 rows x 7 columns]"
      ]
     },
     "execution_count": 16,
     "metadata": {},
     "output_type": "execute_result"
    }
   ],
   "source": [
    "# show the dataframe\n",
    "training"
   ]
  },
  {
   "cell_type": "markdown",
   "metadata": {},
   "source": [
    "### Model Evaluation Functions"
   ]
  },
  {
   "cell_type": "code",
   "execution_count": 13,
   "metadata": {},
   "outputs": [],
   "source": [
    "# create a function that calculate the the Precision and Recall for the classification heuristic model\n",
    "# for the 'RAIN' column\n",
    "def classification_model_evaluation(true_val, pred_val):\n",
    "    # calculate the True Positive, False Positive, False Negative using the confusion_matrix\n",
    "    # to calculate Precision and Recall\n",
    "    TP = confusion_matrix(training['RAIN'], training['preds_rain'])[1][1]\n",
    "    FP = confusion_matrix(training['RAIN'], training['preds_rain'])[0][1]\n",
    "    FN = confusion_matrix(training['RAIN'], training['preds_rain'])[1][0]\n",
    "    \n",
    "    # calculate Precision and Recall\n",
    "    precision = TP/(TP+FP)\n",
    "    recall = TP/(TP+FN)\n",
    "    return \"Precision = {val1} , Recall = {val2} \".format(val1 = precision, val2 = recall)\n",
    "\n",
    "\n",
    "# create a function that calculate the MSE, MAE and SSE for the regression heuristic model\n",
    "# for the 'PRCP' column    \n",
    "def regression_model_evaluation(true_val, pred_val):\n",
    "    # calculate the MSE, MAE, SSE\n",
    "    SSE = sum((pred_val - true_val)**2)\n",
    "    MSE = (1/len(true_val))* SSE\n",
    "    MAE = (1/len(true_val))* sum(abs(pred_val - true_val))\n",
    "    return \"Sum Of Squared Error = {val1} , Mean Squared Error = {val2}, Mean Absolute Error = {val3} \".format(val1 = SSE, val2 = MSE, val3 = MAE)"
   ]
  },
  {
   "cell_type": "code",
   "execution_count": 17,
   "metadata": {},
   "outputs": [
    {
     "data": {
      "text/plain": [
       "'Precision = 0.6675471698113208 , Recall = 0.4064797794117647 '"
      ]
     },
     "execution_count": 17,
     "metadata": {},
     "output_type": "execute_result"
    }
   ],
   "source": [
    "# passing the actual values 'RAIN' column and the predicted values 'preds_rain' column\n",
    "# in classification_model_evaluation to show the Precision and Recall\n",
    "classification_model_evaluation(training['RAIN'],training['preds_rain'])"
   ]
  },
  {
   "cell_type": "code",
   "execution_count": 18,
   "metadata": {},
   "outputs": [
    {
     "data": {
      "text/plain": [
       "'Sum Of Squared Error = 1118.8152000000161 , Mean Squared Error = 0.05474191212447481, Mean Absolute Error = 0.08843624620803993 '"
      ]
     },
     "execution_count": 18,
     "metadata": {},
     "output_type": "execute_result"
    }
   ],
   "source": [
    "# passing the actual values 'PRCP' column and the predicted values 'preds_prcp' column\n",
    "# in regression_model_evaluation to show the SSE, MSE and MAE\n",
    "regression_model_evaluation(training['PRCP'],training['preds_prcp'])"
   ]
  },
  {
   "cell_type": "code",
   "execution_count": 22,
   "metadata": {},
   "outputs": [],
   "source": [
    "# we have run the code 5 times and saved the results\n",
    "# the Precision results for each run\n",
    "Precision = [0.6659719590754074 , 0.6661648475724501, 0.6701590271281571,\n",
    "             0.6664799253034547, 0.6675471698113208] \n",
    "\n",
    "# the Recall results for each run\n",
    "Recall = [0.4048140043763676, 0.405730659025788, 0.40960548885077186, \n",
    "          0.40681636840305485, 0.4064797794117647] \n",
    "\n",
    "# the SSE results for each run\n",
    "SSE = [1143.175100000017 , 1133.8321000000171, 1075.4262000000153,\n",
    "       1148.6816000000147, 1118.8152000000161] \n",
    "\n",
    "# the MSE results for each run\n",
    "MSE = [0.05593380467756224, 0.055476666014287954, 0.05261895488795457, \n",
    "       0.056203229278795126, 0.05474191212447481] \n",
    "\n",
    "# the MAE results for each run\n",
    "MAE = [0.08890155592523351, 0.0885649280751503, 0.08718563460220793, \n",
    "       0.08988648595752653, 0.08843624620803993] "
   ]
  },
  {
   "cell_type": "code",
   "execution_count": 23,
   "metadata": {},
   "outputs": [],
   "source": [
    "# create a function to calculate the average of a list\n",
    "def Average(lst):\n",
    "    return sum(lst) / len(lst)"
   ]
  },
  {
   "cell_type": "code",
   "execution_count": 33,
   "metadata": {},
   "outputs": [
    {
     "name": "stdout",
     "output_type": "stream",
     "text": [
      "The Precision average score is:  0.6672645857781581\n",
      "The Recall average score is:  0.40668926001354944\n",
      "The SSE average score is:  1123.9860400000161\n",
      "The MSE average score is:  0.05499491339661494\n",
      "The MAE average score is:  0.08859497015363163\n"
     ]
    }
   ],
   "source": [
    "# print the results\n",
    "print(\"The Precision average score is: \",Average(Precision)), \n",
    "print(\"The Recall average score is: \",Average(Recall)),\n",
    "print(\"The SSE average score is: \",Average(SSE)),\n",
    "print(\"The MSE average score is: \",Average(MSE)), \n",
    "print(\"The MAE average score is: \",Average(MAE))"
   ]
  }
 ],
 "metadata": {
  "kernelspec": {
   "display_name": "Python [default]",
   "language": "python",
   "name": "python3"
  },
  "language_info": {
   "codemirror_mode": {
    "name": "ipython",
    "version": 3
   },
   "file_extension": ".py",
   "mimetype": "text/x-python",
   "name": "python",
   "nbconvert_exporter": "python",
   "pygments_lexer": "ipython3",
   "version": "3.7.1"
  }
 },
 "nbformat": 4,
 "nbformat_minor": 4
}
