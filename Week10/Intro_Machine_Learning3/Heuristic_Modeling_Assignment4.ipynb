{
 "cells": [
  {
   "cell_type": "markdown",
   "metadata": {},
   "source": [
    "# Heuristic Models For Seattle Weather"
   ]
  },
  {
   "cell_type": "code",
   "execution_count": 1,
   "metadata": {},
   "outputs": [],
   "source": [
    "# import packges \n",
    "import pandas as pd\n",
    "import numpy as np\n",
    "%matplotlib inline\n",
    "import time\n",
    "import random\n",
    "from random import randint\n",
    "import datetime\n",
    "from sklearn.model_selection import train_test_split\n",
    "from sklearn.metrics import confusion_matrix"
   ]
  },
  {
   "cell_type": "code",
   "execution_count": 2,
   "metadata": {},
   "outputs": [],
   "source": [
    "# Load Data\n",
    "df = pd.read_csv('https://raw.githubusercontent.com/Yasmeenmad/data_science_bootcamp/main/Week10/Intro_Machine_Learning1/seattle_weather_1948-2017.csv')"
   ]
  },
  {
   "cell_type": "code",
   "execution_count": 3,
   "metadata": {},
   "outputs": [
    {
     "data": {
      "text/html": [
       "<div>\n",
       "<style scoped>\n",
       "    .dataframe tbody tr th:only-of-type {\n",
       "        vertical-align: middle;\n",
       "    }\n",
       "\n",
       "    .dataframe tbody tr th {\n",
       "        vertical-align: top;\n",
       "    }\n",
       "\n",
       "    .dataframe thead th {\n",
       "        text-align: right;\n",
       "    }\n",
       "</style>\n",
       "<table border=\"1\" class=\"dataframe\">\n",
       "  <thead>\n",
       "    <tr style=\"text-align: right;\">\n",
       "      <th></th>\n",
       "      <th>DATE</th>\n",
       "      <th>PRCP</th>\n",
       "      <th>TMAX</th>\n",
       "      <th>TMIN</th>\n",
       "      <th>RAIN</th>\n",
       "    </tr>\n",
       "  </thead>\n",
       "  <tbody>\n",
       "    <tr>\n",
       "      <th>0</th>\n",
       "      <td>1948-01-01</td>\n",
       "      <td>0.47</td>\n",
       "      <td>51</td>\n",
       "      <td>42</td>\n",
       "      <td>True</td>\n",
       "    </tr>\n",
       "    <tr>\n",
       "      <th>1</th>\n",
       "      <td>1948-01-02</td>\n",
       "      <td>0.59</td>\n",
       "      <td>45</td>\n",
       "      <td>36</td>\n",
       "      <td>True</td>\n",
       "    </tr>\n",
       "    <tr>\n",
       "      <th>2</th>\n",
       "      <td>1948-01-03</td>\n",
       "      <td>0.42</td>\n",
       "      <td>45</td>\n",
       "      <td>35</td>\n",
       "      <td>True</td>\n",
       "    </tr>\n",
       "    <tr>\n",
       "      <th>3</th>\n",
       "      <td>1948-01-04</td>\n",
       "      <td>0.31</td>\n",
       "      <td>45</td>\n",
       "      <td>34</td>\n",
       "      <td>True</td>\n",
       "    </tr>\n",
       "    <tr>\n",
       "      <th>4</th>\n",
       "      <td>1948-01-05</td>\n",
       "      <td>0.17</td>\n",
       "      <td>45</td>\n",
       "      <td>32</td>\n",
       "      <td>True</td>\n",
       "    </tr>\n",
       "  </tbody>\n",
       "</table>\n",
       "</div>"
      ],
      "text/plain": [
       "         DATE  PRCP  TMAX  TMIN  RAIN\n",
       "0  1948-01-01  0.47    51    42  True\n",
       "1  1948-01-02  0.59    45    36  True\n",
       "2  1948-01-03  0.42    45    35  True\n",
       "3  1948-01-04  0.31    45    34  True\n",
       "4  1948-01-05  0.17    45    32  True"
      ]
     },
     "execution_count": 3,
     "metadata": {},
     "output_type": "execute_result"
    }
   ],
   "source": [
    "df.head()"
   ]
  },
  {
   "cell_type": "code",
   "execution_count": 4,
   "metadata": {},
   "outputs": [],
   "source": [
    "# droop the NaN values\n",
    "df = df.dropna()\n",
    "# set the type of 'RAIN' column to bool \n",
    "df[\"RAIN\"] = df[\"RAIN\"].astype(bool)"
   ]
  },
  {
   "cell_type": "code",
   "execution_count": 5,
   "metadata": {},
   "outputs": [],
   "source": [
    "# Separate your data set into training and testing. (80/20 split)\n",
    "# Split into training and test sets\n",
    "\n",
    "training, testing = train_test_split(\n",
    "    df, \n",
    "    train_size=0.8, # 80% of data to train\n",
    "    test_size=0.2, # 20% of data to test\n",
    ")"
   ]
  },
  {
   "cell_type": "code",
   "execution_count": 6,
   "metadata": {},
   "outputs": [
    {
     "data": {
      "text/plain": [
       "False    0.573352\n",
       "True     0.426648\n",
       "Name: RAIN, dtype: float64"
      ]
     },
     "execution_count": 6,
     "metadata": {},
     "output_type": "execute_result"
    }
   ],
   "source": [
    "# our baseline model\n",
    "df[\"RAIN\"].value_counts(normalize=True)"
   ]
  },
  {
   "cell_type": "code",
   "execution_count": 7,
   "metadata": {},
   "outputs": [
    {
     "data": {
      "text/plain": [
       "False    0.577258\n",
       "True     0.422742\n",
       "Name: RAIN, dtype: float64"
      ]
     },
     "execution_count": 7,
     "metadata": {},
     "output_type": "execute_result"
    }
   ],
   "source": [
    "# Make sure we see the same class distribution in our test data labels\n",
    "# Check class labels distribution in training\n",
    "training[\"RAIN\"].value_counts(normalize=True)"
   ]
  },
  {
   "cell_type": "code",
   "execution_count": 8,
   "metadata": {},
   "outputs": [
    {
     "data": {
      "text/plain": [
       "False    0.55773\n",
       "True     0.44227\n",
       "Name: RAIN, dtype: float64"
      ]
     },
     "execution_count": 8,
     "metadata": {},
     "output_type": "execute_result"
    }
   ],
   "source": [
    "# Check class labels distribution in testing\n",
    "testing[\"RAIN\"].value_counts(normalize=True)"
   ]
  },
  {
   "cell_type": "markdown",
   "metadata": {},
   "source": [
    "### Classification Heuristic Model"
   ]
  },
  {
   "cell_type": "code",
   "execution_count": 9,
   "metadata": {},
   "outputs": [],
   "source": [
    "# Create function to perform our heuristic\n",
    "def heuristic_rain(df):\n",
    "    \n",
    "    \"\"\"\n",
    "    Simple heuristic:\n",
    "    \n",
    "    If it rained yesterday or the day before, if max temperature from 30 to 70 for yesterday or the day before, if min \n",
    "    temperature from 25 to 60 for yesterday or the day before and if precipitation of rain range from 0.01 to 5.02 \n",
    "    for yesterday or the day before then it will rain else predict no rain\n",
    "    \n",
    "    Frist two rows are predicted false be default\n",
    "    \"\"\"\n",
    "    \n",
    "    preds = []\n",
    "    for x in range(len(df)):\n",
    "        # If first two rows then predict false\n",
    "        if x <2:\n",
    "            preds.append(False)\n",
    "        else:\n",
    "\n",
    "            if ((df.iloc[x-1][\"RAIN\"] == True) & (df.iloc[x-2][\"RAIN\"] == True) &\n",
    "                ((df.iloc[x-1][\"TMAX\"] <= 70) & (df.iloc[x-1][\"TMAX\"] >= 30)) &\n",
    "                ((df.iloc[x-2][\"TMAX\"] <= 70) & (df.iloc[x-2][\"TMAX\"] >= 30)) &\n",
    "                ((df.iloc[x-1][\"TMIN\"] <= 60) & (df.iloc[x-1][\"TMIN\"] >= 25)) &\n",
    "                ((df.iloc[x-2][\"TMIN\"] <= 60) & (df.iloc[x-2][\"TMIN\"] >= 25)) &\n",
    "                ((df.iloc[x-1][\"PRCP\"] <= 5.02) & (df.iloc[x-1][\"PRCP\"] >= 0.01)) &\n",
    "                ((df.iloc[x-2][\"PRCP\"] <= 5.02) & (df.iloc[x-2][\"PRCP\"] >= 0.01))):\n",
    "                preds.append(True)\n",
    "\n",
    "                \n",
    "            else:\n",
    "                # Predict false if the above is not true\n",
    "                preds.append(False)\n",
    "    return preds"
   ]
  },
  {
   "cell_type": "code",
   "execution_count": 10,
   "metadata": {},
   "outputs": [],
   "source": [
    "# sort index\n",
    "testing = testing.sort_index()"
   ]
  },
  {
   "cell_type": "code",
   "execution_count": 11,
   "metadata": {},
   "outputs": [],
   "source": [
    "# add the rain prediction column to the dataframe\n",
    "testing['preds_rain'] = heuristic_rain(testing)"
   ]
  },
  {
   "cell_type": "code",
   "execution_count": 12,
   "metadata": {},
   "outputs": [
    {
     "data": {
      "text/html": [
       "<div>\n",
       "<style scoped>\n",
       "    .dataframe tbody tr th:only-of-type {\n",
       "        vertical-align: middle;\n",
       "    }\n",
       "\n",
       "    .dataframe tbody tr th {\n",
       "        vertical-align: top;\n",
       "    }\n",
       "\n",
       "    .dataframe thead th {\n",
       "        text-align: right;\n",
       "    }\n",
       "</style>\n",
       "<table border=\"1\" class=\"dataframe\">\n",
       "  <thead>\n",
       "    <tr style=\"text-align: right;\">\n",
       "      <th></th>\n",
       "      <th>DATE</th>\n",
       "      <th>PRCP</th>\n",
       "      <th>TMAX</th>\n",
       "      <th>TMIN</th>\n",
       "      <th>RAIN</th>\n",
       "      <th>preds_rain</th>\n",
       "    </tr>\n",
       "  </thead>\n",
       "  <tbody>\n",
       "    <tr>\n",
       "      <th>5</th>\n",
       "      <td>1948-01-06</td>\n",
       "      <td>0.44</td>\n",
       "      <td>48</td>\n",
       "      <td>39</td>\n",
       "      <td>True</td>\n",
       "      <td>False</td>\n",
       "    </tr>\n",
       "    <tr>\n",
       "      <th>27</th>\n",
       "      <td>1948-01-28</td>\n",
       "      <td>0.00</td>\n",
       "      <td>53</td>\n",
       "      <td>25</td>\n",
       "      <td>False</td>\n",
       "      <td>False</td>\n",
       "    </tr>\n",
       "    <tr>\n",
       "      <th>30</th>\n",
       "      <td>1948-01-31</td>\n",
       "      <td>0.21</td>\n",
       "      <td>35</td>\n",
       "      <td>27</td>\n",
       "      <td>True</td>\n",
       "      <td>False</td>\n",
       "    </tr>\n",
       "    <tr>\n",
       "      <th>33</th>\n",
       "      <td>1948-02-03</td>\n",
       "      <td>0.20</td>\n",
       "      <td>38</td>\n",
       "      <td>26</td>\n",
       "      <td>True</td>\n",
       "      <td>False</td>\n",
       "    </tr>\n",
       "    <tr>\n",
       "      <th>36</th>\n",
       "      <td>1948-02-06</td>\n",
       "      <td>0.00</td>\n",
       "      <td>43</td>\n",
       "      <td>20</td>\n",
       "      <td>False</td>\n",
       "      <td>True</td>\n",
       "    </tr>\n",
       "    <tr>\n",
       "      <th>...</th>\n",
       "      <td>...</td>\n",
       "      <td>...</td>\n",
       "      <td>...</td>\n",
       "      <td>...</td>\n",
       "      <td>...</td>\n",
       "      <td>...</td>\n",
       "    </tr>\n",
       "    <tr>\n",
       "      <th>25519</th>\n",
       "      <td>2017-11-13</td>\n",
       "      <td>0.81</td>\n",
       "      <td>55</td>\n",
       "      <td>45</td>\n",
       "      <td>True</td>\n",
       "      <td>True</td>\n",
       "    </tr>\n",
       "    <tr>\n",
       "      <th>25528</th>\n",
       "      <td>2017-11-22</td>\n",
       "      <td>0.52</td>\n",
       "      <td>68</td>\n",
       "      <td>56</td>\n",
       "      <td>True</td>\n",
       "      <td>True</td>\n",
       "    </tr>\n",
       "    <tr>\n",
       "      <th>25530</th>\n",
       "      <td>2017-11-24</td>\n",
       "      <td>0.01</td>\n",
       "      <td>52</td>\n",
       "      <td>46</td>\n",
       "      <td>True</td>\n",
       "      <td>True</td>\n",
       "    </tr>\n",
       "    <tr>\n",
       "      <th>25534</th>\n",
       "      <td>2017-11-28</td>\n",
       "      <td>0.68</td>\n",
       "      <td>47</td>\n",
       "      <td>43</td>\n",
       "      <td>True</td>\n",
       "      <td>True</td>\n",
       "    </tr>\n",
       "    <tr>\n",
       "      <th>25549</th>\n",
       "      <td>2017-12-13</td>\n",
       "      <td>0.00</td>\n",
       "      <td>48</td>\n",
       "      <td>34</td>\n",
       "      <td>False</td>\n",
       "      <td>True</td>\n",
       "    </tr>\n",
       "  </tbody>\n",
       "</table>\n",
       "<p>5110 rows × 6 columns</p>\n",
       "</div>"
      ],
      "text/plain": [
       "             DATE  PRCP  TMAX  TMIN   RAIN  preds_rain\n",
       "5      1948-01-06  0.44    48    39   True       False\n",
       "27     1948-01-28  0.00    53    25  False       False\n",
       "30     1948-01-31  0.21    35    27   True       False\n",
       "33     1948-02-03  0.20    38    26   True       False\n",
       "36     1948-02-06  0.00    43    20  False        True\n",
       "...           ...   ...   ...   ...    ...         ...\n",
       "25519  2017-11-13  0.81    55    45   True        True\n",
       "25528  2017-11-22  0.52    68    56   True        True\n",
       "25530  2017-11-24  0.01    52    46   True        True\n",
       "25534  2017-11-28  0.68    47    43   True        True\n",
       "25549  2017-12-13  0.00    48    34  False        True\n",
       "\n",
       "[5110 rows x 6 columns]"
      ]
     },
     "execution_count": 12,
     "metadata": {},
     "output_type": "execute_result"
    }
   ],
   "source": [
    "# show the dataframe\n",
    "testing"
   ]
  },
  {
   "cell_type": "markdown",
   "metadata": {},
   "source": [
    "### Regression Heuristic Model"
   ]
  },
  {
   "cell_type": "code",
   "execution_count": 13,
   "metadata": {},
   "outputs": [],
   "source": [
    "# Create function to perform our heuristic\n",
    "def heuristic_prcp(df):\n",
    "    \n",
    "    \"\"\"\n",
    "    Simple heuristic:\n",
    "    If it rained yesterday and today is raining then will predict a rain precipitation from 0.02 to 0.08\n",
    "    If If it didn't rain yesterday and today is raining then will predict a rain precipitation from 0.01 to 0.02\n",
    "    \n",
    "    \"\"\"\n",
    "    \n",
    "    preds = []\n",
    "    for x in range(len(df)):\n",
    "        # If first two rows then predict false\n",
    "        if x <2:\n",
    "            preds.append(0)\n",
    "        else:\n",
    "            if ((df[\"RAIN\"].iloc[x] == True) & (df[\"RAIN\"].iloc[x-1] == False)):\n",
    "                precipitation = round((float(random.randint(100,200)) / 10000),2)\n",
    "                preds.append(precipitation)\n",
    "            \n",
    "            elif ((df[\"RAIN\"].iloc[x] == True) & (df[\"RAIN\"].iloc[x-1] == True) & ( df[\"RAIN\"].iloc[x-2] == True)):\n",
    "                precipitation = round((float(random.randint(1000,1500)) / 10000),2)\n",
    "                preds.append(precipitation)\n",
    "            \n",
    "            elif ((df[\"RAIN\"].iloc[x] == True) & (df[\"RAIN\"].iloc[x-1] == True)):\n",
    "                precipitation = round((float(random.randint(200,800)) / 10000),2)\n",
    "                preds.append(precipitation)\n",
    "            \n",
    "   \n",
    "            else:\n",
    "                # Predict 0 if the above is not true\n",
    "                preds.append(0)\n",
    "    return preds"
   ]
  },
  {
   "cell_type": "code",
   "execution_count": 14,
   "metadata": {},
   "outputs": [],
   "source": [
    "# add the prcp prediction column to the dataframe\n",
    "testing['preds_prcp'] = heuristic_prcp(testing)"
   ]
  },
  {
   "cell_type": "code",
   "execution_count": 15,
   "metadata": {
    "scrolled": false
   },
   "outputs": [
    {
     "data": {
      "text/html": [
       "<div>\n",
       "<style scoped>\n",
       "    .dataframe tbody tr th:only-of-type {\n",
       "        vertical-align: middle;\n",
       "    }\n",
       "\n",
       "    .dataframe tbody tr th {\n",
       "        vertical-align: top;\n",
       "    }\n",
       "\n",
       "    .dataframe thead th {\n",
       "        text-align: right;\n",
       "    }\n",
       "</style>\n",
       "<table border=\"1\" class=\"dataframe\">\n",
       "  <thead>\n",
       "    <tr style=\"text-align: right;\">\n",
       "      <th></th>\n",
       "      <th>DATE</th>\n",
       "      <th>PRCP</th>\n",
       "      <th>TMAX</th>\n",
       "      <th>TMIN</th>\n",
       "      <th>RAIN</th>\n",
       "      <th>preds_rain</th>\n",
       "      <th>preds_prcp</th>\n",
       "    </tr>\n",
       "  </thead>\n",
       "  <tbody>\n",
       "    <tr>\n",
       "      <th>5</th>\n",
       "      <td>1948-01-06</td>\n",
       "      <td>0.44</td>\n",
       "      <td>48</td>\n",
       "      <td>39</td>\n",
       "      <td>True</td>\n",
       "      <td>False</td>\n",
       "      <td>0.00</td>\n",
       "    </tr>\n",
       "    <tr>\n",
       "      <th>27</th>\n",
       "      <td>1948-01-28</td>\n",
       "      <td>0.00</td>\n",
       "      <td>53</td>\n",
       "      <td>25</td>\n",
       "      <td>False</td>\n",
       "      <td>False</td>\n",
       "      <td>0.00</td>\n",
       "    </tr>\n",
       "    <tr>\n",
       "      <th>30</th>\n",
       "      <td>1948-01-31</td>\n",
       "      <td>0.21</td>\n",
       "      <td>35</td>\n",
       "      <td>27</td>\n",
       "      <td>True</td>\n",
       "      <td>False</td>\n",
       "      <td>0.01</td>\n",
       "    </tr>\n",
       "    <tr>\n",
       "      <th>33</th>\n",
       "      <td>1948-02-03</td>\n",
       "      <td>0.20</td>\n",
       "      <td>38</td>\n",
       "      <td>26</td>\n",
       "      <td>True</td>\n",
       "      <td>False</td>\n",
       "      <td>0.07</td>\n",
       "    </tr>\n",
       "    <tr>\n",
       "      <th>36</th>\n",
       "      <td>1948-02-06</td>\n",
       "      <td>0.00</td>\n",
       "      <td>43</td>\n",
       "      <td>20</td>\n",
       "      <td>False</td>\n",
       "      <td>True</td>\n",
       "      <td>0.00</td>\n",
       "    </tr>\n",
       "    <tr>\n",
       "      <th>...</th>\n",
       "      <td>...</td>\n",
       "      <td>...</td>\n",
       "      <td>...</td>\n",
       "      <td>...</td>\n",
       "      <td>...</td>\n",
       "      <td>...</td>\n",
       "      <td>...</td>\n",
       "    </tr>\n",
       "    <tr>\n",
       "      <th>25519</th>\n",
       "      <td>2017-11-13</td>\n",
       "      <td>0.81</td>\n",
       "      <td>55</td>\n",
       "      <td>45</td>\n",
       "      <td>True</td>\n",
       "      <td>True</td>\n",
       "      <td>0.12</td>\n",
       "    </tr>\n",
       "    <tr>\n",
       "      <th>25528</th>\n",
       "      <td>2017-11-22</td>\n",
       "      <td>0.52</td>\n",
       "      <td>68</td>\n",
       "      <td>56</td>\n",
       "      <td>True</td>\n",
       "      <td>True</td>\n",
       "      <td>0.13</td>\n",
       "    </tr>\n",
       "    <tr>\n",
       "      <th>25530</th>\n",
       "      <td>2017-11-24</td>\n",
       "      <td>0.01</td>\n",
       "      <td>52</td>\n",
       "      <td>46</td>\n",
       "      <td>True</td>\n",
       "      <td>True</td>\n",
       "      <td>0.10</td>\n",
       "    </tr>\n",
       "    <tr>\n",
       "      <th>25534</th>\n",
       "      <td>2017-11-28</td>\n",
       "      <td>0.68</td>\n",
       "      <td>47</td>\n",
       "      <td>43</td>\n",
       "      <td>True</td>\n",
       "      <td>True</td>\n",
       "      <td>0.10</td>\n",
       "    </tr>\n",
       "    <tr>\n",
       "      <th>25549</th>\n",
       "      <td>2017-12-13</td>\n",
       "      <td>0.00</td>\n",
       "      <td>48</td>\n",
       "      <td>34</td>\n",
       "      <td>False</td>\n",
       "      <td>True</td>\n",
       "      <td>0.00</td>\n",
       "    </tr>\n",
       "  </tbody>\n",
       "</table>\n",
       "<p>5110 rows × 7 columns</p>\n",
       "</div>"
      ],
      "text/plain": [
       "             DATE  PRCP  TMAX  TMIN   RAIN  preds_rain  preds_prcp\n",
       "5      1948-01-06  0.44    48    39   True       False        0.00\n",
       "27     1948-01-28  0.00    53    25  False       False        0.00\n",
       "30     1948-01-31  0.21    35    27   True       False        0.01\n",
       "33     1948-02-03  0.20    38    26   True       False        0.07\n",
       "36     1948-02-06  0.00    43    20  False        True        0.00\n",
       "...           ...   ...   ...   ...    ...         ...         ...\n",
       "25519  2017-11-13  0.81    55    45   True        True        0.12\n",
       "25528  2017-11-22  0.52    68    56   True        True        0.13\n",
       "25530  2017-11-24  0.01    52    46   True        True        0.10\n",
       "25534  2017-11-28  0.68    47    43   True        True        0.10\n",
       "25549  2017-12-13  0.00    48    34  False        True        0.00\n",
       "\n",
       "[5110 rows x 7 columns]"
      ]
     },
     "execution_count": 15,
     "metadata": {},
     "output_type": "execute_result"
    }
   ],
   "source": [
    "# show the dataframe\n",
    "testing"
   ]
  },
  {
   "cell_type": "markdown",
   "metadata": {},
   "source": [
    "### Model Evaluation Functions"
   ]
  },
  {
   "cell_type": "code",
   "execution_count": 16,
   "metadata": {},
   "outputs": [],
   "source": [
    "# create a function that calculate the the Precision and Recall for the classification heuristic model\n",
    "# for the 'RAIN' column\n",
    "def classification_model_evaluation(true_val, pred_val):\n",
    "    # calculate the True Positive, False Positive, False Negative using the confusion_matrix\n",
    "    # to calculate Precision and Recall\n",
    "    TP = confusion_matrix(testing['RAIN'], testing['preds_rain'])[1][1]\n",
    "    FP = confusion_matrix(testing['RAIN'], testing['preds_rain'])[0][1]\n",
    "    FN = confusion_matrix(testing['RAIN'], testing['preds_rain'])[1][0]\n",
    "    \n",
    "    # calculate Precision and Recall\n",
    "    precision = TP/(TP+FP)\n",
    "    recall = TP/(TP+FN)\n",
    "    return \"Precision = {val1} , Recall = {val2} \".format(val1 = precision, val2 = recall)\n",
    "\n",
    "\n",
    "# create a function that calculate the MSE, MAE and SSE for the regression heuristic model\n",
    "# for the 'PRCP' column    \n",
    "def regression_model_evaluation(true_val, pred_val):\n",
    "    # calculate the MSE, MAE, SSE\n",
    "    SSE = sum((pred_val - true_val)**2)\n",
    "    MSE = (1/len(true_val))* SSE\n",
    "    MAE = (1/len(true_val))* sum(abs(pred_val - true_val))\n",
    "    return \"Sum Of Squared Error = {val1} , Mean Squared Error = {val2}, Mean Absolute Error = {val3} \".format(val1 = SSE, val2 = MSE, val3 = MAE)"
   ]
  },
  {
   "cell_type": "code",
   "execution_count": 17,
   "metadata": {},
   "outputs": [
    {
     "data": {
      "text/plain": [
       "'Precision = 0.5806182121971596 , Recall = 0.3075221238938053 '"
      ]
     },
     "execution_count": 17,
     "metadata": {},
     "output_type": "execute_result"
    }
   ],
   "source": [
    "# passing the actual values 'RAIN' column and the predicted values 'preds_rain' column\n",
    "# in classification_model_evaluation to show the Precision and Recall\n",
    "classification_model_evaluation(testing['RAIN'],testing['preds_rain'])"
   ]
  },
  {
   "cell_type": "code",
   "execution_count": 18,
   "metadata": {},
   "outputs": [
    {
     "data": {
      "text/plain": [
       "'Sum Of Squared Error = 310.52300000000105 , Mean Squared Error = 0.06076771037182017, Mean Absolute Error = 0.09588649706457895 '"
      ]
     },
     "execution_count": 18,
     "metadata": {},
     "output_type": "execute_result"
    }
   ],
   "source": [
    "# passing the actual values 'PRCP' column and the predicted values 'preds_prcp' column\n",
    "# in regression_model_evaluation to show the SSE, MSE and MAE\n",
    "regression_model_evaluation(testing['PRCP'], testing['preds_prcp'])"
   ]
  },
  {
   "cell_type": "code",
   "execution_count": 22,
   "metadata": {},
   "outputs": [],
   "source": [
    "# we have run the code 5 times and saved the results\n",
    "# the Precision results for each run\n",
    "Precision = [0.5924978687127025 , 0.5641263940520446, 0.581981981981982,\n",
    "             0.5943877551020408, 0.5806182121971596] \n",
    "\n",
    "# the Recall results for each run\n",
    "Recall = [0.31533575317604357, 0.2836448598130841, 0.29962894248608535, \n",
    "          0.3207893529141808, 0.3075221238938053] \n",
    "\n",
    "# the SSE results for each run\n",
    "SSE = [273.46180000000106 , 316.4404000000003, 282.87520000000103,\n",
    "       374.83390000000134, 310.52300000000105] \n",
    "\n",
    "# the MSE results for each run\n",
    "MSE = [0.05351502935420765, 0.06192571428571435, 0.05535718199608631, \n",
    "       0.0733530136986304, 0.06076771037182017] \n",
    "\n",
    "# the MAE results for each run\n",
    "MAE = [0.09019569471624228, 0.08919765166340479, 0.09038747553816023, \n",
    "       0.09914872798434399, 0.09588649706457895] "
   ]
  },
  {
   "cell_type": "code",
   "execution_count": 20,
   "metadata": {},
   "outputs": [],
   "source": [
    "# create a function to calculate the average of a list\n",
    "def Average(lst):\n",
    "    return sum(lst) / len(lst)"
   ]
  },
  {
   "cell_type": "code",
   "execution_count": 23,
   "metadata": {},
   "outputs": [
    {
     "name": "stdout",
     "output_type": "stream",
     "text": [
      "The Precision average score is:  0.5827224424091859\n",
      "The Recall average score is:  0.30538420645663983\n",
      "The SSE average score is:  311.62686000000093\n",
      "The MSE average score is:  0.060983729941291774\n",
      "The MAE average score is:  0.09296320939334604\n"
     ]
    }
   ],
   "source": [
    "# print the results\n",
    "print(\"The Precision average score is: \",Average(Precision)), \n",
    "print(\"The Recall average score is: \",Average(Recall)),\n",
    "print(\"The SSE average score is: \",Average(SSE)),\n",
    "print(\"The MSE average score is: \",Average(MSE)), \n",
    "print(\"The MAE average score is: \",Average(MAE))"
   ]
  }
 ],
 "metadata": {
  "kernelspec": {
   "display_name": "Python [default]",
   "language": "python",
   "name": "python3"
  },
  "language_info": {
   "codemirror_mode": {
    "name": "ipython",
    "version": 3
   },
   "file_extension": ".py",
   "mimetype": "text/x-python",
   "name": "python",
   "nbconvert_exporter": "python",
   "pygments_lexer": "ipython3",
   "version": "3.7.1"
  }
 },
 "nbformat": 4,
 "nbformat_minor": 4
}
