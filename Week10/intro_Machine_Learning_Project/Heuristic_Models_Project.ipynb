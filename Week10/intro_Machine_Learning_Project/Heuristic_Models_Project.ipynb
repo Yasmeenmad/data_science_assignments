{
 "cells": [
  {
   "cell_type": "markdown",
   "metadata": {
    "id": "lapMA-xTlHcS"
   },
   "source": [
    "# Heuristic Model for Titanic Dataset"
   ]
  },
  {
   "cell_type": "code",
   "execution_count": 1,
   "metadata": {
    "id": "0DBsWMnDfWJN"
   },
   "outputs": [],
   "source": [
    "# import packges \n",
    "import seaborn as sns\n",
    "import pandas as pd\n",
    "import numpy as np\n",
    "import warnings\n",
    "warnings.filterwarnings('ignore')\n",
    "import matplotlib.pyplot as plt\n",
    "import category_encoders as ce\n",
    "from sklearn.linear_model import LinearRegression, LogisticRegression\n",
    "from sklearn.preprocessing import StandardScaler\n",
    "from sklearn.model_selection import train_test_split\n",
    "from sklearn.pipeline import make_pipeline\n",
    "from sklearn.metrics import mean_squared_error, mean_absolute_error, accuracy_score, accuracy_score, recall_score, precision_score"
   ]
  },
  {
   "cell_type": "code",
   "execution_count": 2,
   "metadata": {},
   "outputs": [],
   "source": [
    "# load the titanic dataset\n",
    "titanic = sns.load_dataset(\"titanic\")"
   ]
  },
  {
   "cell_type": "markdown",
   "metadata": {},
   "source": [
    "### Variables and Definitions\n",
    "- **survived**: 0 = No, 1 = Yes\n",
    "- **pclass**: Ticket class\t1 = 1st, 2 = 2nd, 3 = 3rd, (1st = Upper, 2nd = Middle, 3rd = Lower)\n",
    "- **sibsp**: the number of brothers, sisters, stepbrothers, stepsisters, husband and wife aboard the Titanic\t\n",
    "- **parch**: Number of Parents/Children Aboard, Some children travelled only with a nanny, therefore parch=0 for them\t\n",
    "- **ticket**: Ticket number\t\n",
    "- **fare**:\tPassenger fare\t\n",
    "- **cabin**: Cabin number\t\n",
    "- **embarked**: Port of Embarkation\tC = Cherbourg, Q = Queenstown, S = Southampton"
   ]
  },
  {
   "cell_type": "code",
   "execution_count": 3,
   "metadata": {
    "scrolled": true
   },
   "outputs": [
    {
     "data": {
      "text/html": [
       "<div>\n",
       "<style scoped>\n",
       "    .dataframe tbody tr th:only-of-type {\n",
       "        vertical-align: middle;\n",
       "    }\n",
       "\n",
       "    .dataframe tbody tr th {\n",
       "        vertical-align: top;\n",
       "    }\n",
       "\n",
       "    .dataframe thead th {\n",
       "        text-align: right;\n",
       "    }\n",
       "</style>\n",
       "<table border=\"1\" class=\"dataframe\">\n",
       "  <thead>\n",
       "    <tr style=\"text-align: right;\">\n",
       "      <th></th>\n",
       "      <th>survived</th>\n",
       "      <th>pclass</th>\n",
       "      <th>sex</th>\n",
       "      <th>age</th>\n",
       "      <th>sibsp</th>\n",
       "      <th>parch</th>\n",
       "      <th>fare</th>\n",
       "      <th>embarked</th>\n",
       "      <th>class</th>\n",
       "      <th>who</th>\n",
       "      <th>adult_male</th>\n",
       "      <th>deck</th>\n",
       "      <th>embark_town</th>\n",
       "      <th>alive</th>\n",
       "      <th>alone</th>\n",
       "    </tr>\n",
       "  </thead>\n",
       "  <tbody>\n",
       "    <tr>\n",
       "      <th>0</th>\n",
       "      <td>0</td>\n",
       "      <td>3</td>\n",
       "      <td>male</td>\n",
       "      <td>22.0</td>\n",
       "      <td>1</td>\n",
       "      <td>0</td>\n",
       "      <td>7.2500</td>\n",
       "      <td>S</td>\n",
       "      <td>Third</td>\n",
       "      <td>man</td>\n",
       "      <td>True</td>\n",
       "      <td>NaN</td>\n",
       "      <td>Southampton</td>\n",
       "      <td>no</td>\n",
       "      <td>False</td>\n",
       "    </tr>\n",
       "    <tr>\n",
       "      <th>1</th>\n",
       "      <td>1</td>\n",
       "      <td>1</td>\n",
       "      <td>female</td>\n",
       "      <td>38.0</td>\n",
       "      <td>1</td>\n",
       "      <td>0</td>\n",
       "      <td>71.2833</td>\n",
       "      <td>C</td>\n",
       "      <td>First</td>\n",
       "      <td>woman</td>\n",
       "      <td>False</td>\n",
       "      <td>C</td>\n",
       "      <td>Cherbourg</td>\n",
       "      <td>yes</td>\n",
       "      <td>False</td>\n",
       "    </tr>\n",
       "    <tr>\n",
       "      <th>2</th>\n",
       "      <td>1</td>\n",
       "      <td>3</td>\n",
       "      <td>female</td>\n",
       "      <td>26.0</td>\n",
       "      <td>0</td>\n",
       "      <td>0</td>\n",
       "      <td>7.9250</td>\n",
       "      <td>S</td>\n",
       "      <td>Third</td>\n",
       "      <td>woman</td>\n",
       "      <td>False</td>\n",
       "      <td>NaN</td>\n",
       "      <td>Southampton</td>\n",
       "      <td>yes</td>\n",
       "      <td>True</td>\n",
       "    </tr>\n",
       "    <tr>\n",
       "      <th>3</th>\n",
       "      <td>1</td>\n",
       "      <td>1</td>\n",
       "      <td>female</td>\n",
       "      <td>35.0</td>\n",
       "      <td>1</td>\n",
       "      <td>0</td>\n",
       "      <td>53.1000</td>\n",
       "      <td>S</td>\n",
       "      <td>First</td>\n",
       "      <td>woman</td>\n",
       "      <td>False</td>\n",
       "      <td>C</td>\n",
       "      <td>Southampton</td>\n",
       "      <td>yes</td>\n",
       "      <td>False</td>\n",
       "    </tr>\n",
       "    <tr>\n",
       "      <th>4</th>\n",
       "      <td>0</td>\n",
       "      <td>3</td>\n",
       "      <td>male</td>\n",
       "      <td>35.0</td>\n",
       "      <td>0</td>\n",
       "      <td>0</td>\n",
       "      <td>8.0500</td>\n",
       "      <td>S</td>\n",
       "      <td>Third</td>\n",
       "      <td>man</td>\n",
       "      <td>True</td>\n",
       "      <td>NaN</td>\n",
       "      <td>Southampton</td>\n",
       "      <td>no</td>\n",
       "      <td>True</td>\n",
       "    </tr>\n",
       "  </tbody>\n",
       "</table>\n",
       "</div>"
      ],
      "text/plain": [
       "   survived  pclass     sex   age  sibsp  parch     fare embarked  class  \\\n",
       "0         0       3    male  22.0      1      0   7.2500        S  Third   \n",
       "1         1       1  female  38.0      1      0  71.2833        C  First   \n",
       "2         1       3  female  26.0      0      0   7.9250        S  Third   \n",
       "3         1       1  female  35.0      1      0  53.1000        S  First   \n",
       "4         0       3    male  35.0      0      0   8.0500        S  Third   \n",
       "\n",
       "     who  adult_male deck  embark_town alive  alone  \n",
       "0    man        True  NaN  Southampton    no  False  \n",
       "1  woman       False    C    Cherbourg   yes  False  \n",
       "2  woman       False  NaN  Southampton   yes   True  \n",
       "3  woman       False    C  Southampton   yes  False  \n",
       "4    man        True  NaN  Southampton    no   True  "
      ]
     },
     "execution_count": 3,
     "metadata": {},
     "output_type": "execute_result"
    }
   ],
   "source": [
    "# Dataset head\n",
    "titanic.head()"
   ]
  },
  {
   "cell_type": "markdown",
   "metadata": {},
   "source": [
    "# Cleaning Data"
   ]
  },
  {
   "cell_type": "code",
   "execution_count": 4,
   "metadata": {},
   "outputs": [],
   "source": [
    "# rename some unclear columns\n",
    "titanic = titanic.rename(columns = {'sex': 'gender', 'parch': 'parent', 'who':'passenger_type'}, inplace = False)"
   ]
  },
  {
   "cell_type": "code",
   "execution_count": 5,
   "metadata": {},
   "outputs": [],
   "source": [
    "# drop the duplicate columns and unused column\n",
    "titanic = titanic.drop(['pclass','alive','embarked','deck'], axis = 1)"
   ]
  },
  {
   "cell_type": "code",
   "execution_count": 6,
   "metadata": {},
   "outputs": [],
   "source": [
    "# replacing missing values with mean for 'age' column\n",
    "titanic['age'] = titanic['age'].replace(np.NaN, round(titanic['age'].mean()))\n",
    "\n",
    "# Filling missing values using forward and backward fill for the 'embark_town' column\n",
    "titanic[\"embark_town\"] = titanic[\"embark_town\"].fillna(method='ffill').fillna(method='bfill')"
   ]
  },
  {
   "cell_type": "code",
   "execution_count": 7,
   "metadata": {},
   "outputs": [
    {
     "data": {
      "text/plain": [
       "survived          0\n",
       "gender            0\n",
       "age               0\n",
       "sibsp             0\n",
       "parent            0\n",
       "fare              0\n",
       "class             0\n",
       "passenger_type    0\n",
       "adult_male        0\n",
       "embark_town       0\n",
       "alone             0\n",
       "dtype: int64"
      ]
     },
     "execution_count": 7,
     "metadata": {},
     "output_type": "execute_result"
    }
   ],
   "source": [
    "# check for the missing values\n",
    "titanic.isnull().sum()"
   ]
  },
  {
   "cell_type": "code",
   "execution_count": 8,
   "metadata": {},
   "outputs": [
    {
     "data": {
      "text/html": [
       "<div>\n",
       "<style scoped>\n",
       "    .dataframe tbody tr th:only-of-type {\n",
       "        vertical-align: middle;\n",
       "    }\n",
       "\n",
       "    .dataframe tbody tr th {\n",
       "        vertical-align: top;\n",
       "    }\n",
       "\n",
       "    .dataframe thead th {\n",
       "        text-align: right;\n",
       "    }\n",
       "</style>\n",
       "<table border=\"1\" class=\"dataframe\">\n",
       "  <thead>\n",
       "    <tr style=\"text-align: right;\">\n",
       "      <th></th>\n",
       "      <th>survived</th>\n",
       "      <th>gender</th>\n",
       "      <th>age</th>\n",
       "      <th>sibsp</th>\n",
       "      <th>parent</th>\n",
       "      <th>fare</th>\n",
       "      <th>class</th>\n",
       "      <th>passenger_type</th>\n",
       "      <th>adult_male</th>\n",
       "      <th>embark_town</th>\n",
       "      <th>alone</th>\n",
       "    </tr>\n",
       "  </thead>\n",
       "  <tbody>\n",
       "    <tr>\n",
       "      <th>0</th>\n",
       "      <td>0</td>\n",
       "      <td>male</td>\n",
       "      <td>22.0</td>\n",
       "      <td>1</td>\n",
       "      <td>0</td>\n",
       "      <td>7.2500</td>\n",
       "      <td>Third</td>\n",
       "      <td>man</td>\n",
       "      <td>True</td>\n",
       "      <td>Southampton</td>\n",
       "      <td>False</td>\n",
       "    </tr>\n",
       "    <tr>\n",
       "      <th>1</th>\n",
       "      <td>1</td>\n",
       "      <td>female</td>\n",
       "      <td>38.0</td>\n",
       "      <td>1</td>\n",
       "      <td>0</td>\n",
       "      <td>71.2833</td>\n",
       "      <td>First</td>\n",
       "      <td>woman</td>\n",
       "      <td>False</td>\n",
       "      <td>Cherbourg</td>\n",
       "      <td>False</td>\n",
       "    </tr>\n",
       "    <tr>\n",
       "      <th>2</th>\n",
       "      <td>1</td>\n",
       "      <td>female</td>\n",
       "      <td>26.0</td>\n",
       "      <td>0</td>\n",
       "      <td>0</td>\n",
       "      <td>7.9250</td>\n",
       "      <td>Third</td>\n",
       "      <td>woman</td>\n",
       "      <td>False</td>\n",
       "      <td>Southampton</td>\n",
       "      <td>True</td>\n",
       "    </tr>\n",
       "    <tr>\n",
       "      <th>3</th>\n",
       "      <td>1</td>\n",
       "      <td>female</td>\n",
       "      <td>35.0</td>\n",
       "      <td>1</td>\n",
       "      <td>0</td>\n",
       "      <td>53.1000</td>\n",
       "      <td>First</td>\n",
       "      <td>woman</td>\n",
       "      <td>False</td>\n",
       "      <td>Southampton</td>\n",
       "      <td>False</td>\n",
       "    </tr>\n",
       "    <tr>\n",
       "      <th>4</th>\n",
       "      <td>0</td>\n",
       "      <td>male</td>\n",
       "      <td>35.0</td>\n",
       "      <td>0</td>\n",
       "      <td>0</td>\n",
       "      <td>8.0500</td>\n",
       "      <td>Third</td>\n",
       "      <td>man</td>\n",
       "      <td>True</td>\n",
       "      <td>Southampton</td>\n",
       "      <td>True</td>\n",
       "    </tr>\n",
       "  </tbody>\n",
       "</table>\n",
       "</div>"
      ],
      "text/plain": [
       "   survived  gender   age  sibsp  parent     fare  class passenger_type  \\\n",
       "0         0    male  22.0      1       0   7.2500  Third            man   \n",
       "1         1  female  38.0      1       0  71.2833  First          woman   \n",
       "2         1  female  26.0      0       0   7.9250  Third          woman   \n",
       "3         1  female  35.0      1       0  53.1000  First          woman   \n",
       "4         0    male  35.0      0       0   8.0500  Third            man   \n",
       "\n",
       "   adult_male  embark_town  alone  \n",
       "0        True  Southampton  False  \n",
       "1       False    Cherbourg  False  \n",
       "2       False  Southampton   True  \n",
       "3       False  Southampton  False  \n",
       "4        True  Southampton   True  "
      ]
     },
     "execution_count": 8,
     "metadata": {},
     "output_type": "execute_result"
    }
   ],
   "source": [
    "# Dataset head\n",
    "titanic.head()"
   ]
  },
  {
   "cell_type": "markdown",
   "metadata": {},
   "source": [
    "# EDA"
   ]
  },
  {
   "cell_type": "code",
   "execution_count": 9,
   "metadata": {},
   "outputs": [
    {
     "name": "stdout",
     "output_type": "stream",
     "text": [
      "<class 'pandas.core.frame.DataFrame'>\n",
      "RangeIndex: 891 entries, 0 to 890\n",
      "Data columns (total 11 columns):\n",
      " #   Column          Non-Null Count  Dtype   \n",
      "---  ------          --------------  -----   \n",
      " 0   survived        891 non-null    int64   \n",
      " 1   gender          891 non-null    object  \n",
      " 2   age             891 non-null    float64 \n",
      " 3   sibsp           891 non-null    int64   \n",
      " 4   parent          891 non-null    int64   \n",
      " 5   fare            891 non-null    float64 \n",
      " 6   class           891 non-null    category\n",
      " 7   passenger_type  891 non-null    object  \n",
      " 8   adult_male      891 non-null    bool    \n",
      " 9   embark_town     891 non-null    object  \n",
      " 10  alone           891 non-null    bool    \n",
      "dtypes: bool(2), category(1), float64(2), int64(3), object(3)\n",
      "memory usage: 58.5+ KB\n"
     ]
    },
    {
     "data": {
      "text/plain": [
       "(891, 11)"
      ]
     },
     "execution_count": 9,
     "metadata": {},
     "output_type": "execute_result"
    }
   ],
   "source": [
    "# general information of dataset\n",
    "titanic.info()\n",
    "titanic.shape"
   ]
  },
  {
   "cell_type": "code",
   "execution_count": 10,
   "metadata": {},
   "outputs": [
    {
     "data": {
      "text/html": [
       "<div>\n",
       "<style scoped>\n",
       "    .dataframe tbody tr th:only-of-type {\n",
       "        vertical-align: middle;\n",
       "    }\n",
       "\n",
       "    .dataframe tbody tr th {\n",
       "        vertical-align: top;\n",
       "    }\n",
       "\n",
       "    .dataframe thead th {\n",
       "        text-align: right;\n",
       "    }\n",
       "</style>\n",
       "<table border=\"1\" class=\"dataframe\">\n",
       "  <thead>\n",
       "    <tr style=\"text-align: right;\">\n",
       "      <th></th>\n",
       "      <th>survived</th>\n",
       "      <th>age</th>\n",
       "      <th>sibsp</th>\n",
       "      <th>parent</th>\n",
       "      <th>fare</th>\n",
       "    </tr>\n",
       "  </thead>\n",
       "  <tbody>\n",
       "    <tr>\n",
       "      <th>count</th>\n",
       "      <td>891.000000</td>\n",
       "      <td>891.000000</td>\n",
       "      <td>891.000000</td>\n",
       "      <td>891.000000</td>\n",
       "      <td>891.000000</td>\n",
       "    </tr>\n",
       "    <tr>\n",
       "      <th>mean</th>\n",
       "      <td>0.383838</td>\n",
       "      <td>29.758889</td>\n",
       "      <td>0.523008</td>\n",
       "      <td>0.381594</td>\n",
       "      <td>32.204208</td>\n",
       "    </tr>\n",
       "    <tr>\n",
       "      <th>std</th>\n",
       "      <td>0.486592</td>\n",
       "      <td>13.002570</td>\n",
       "      <td>1.102743</td>\n",
       "      <td>0.806057</td>\n",
       "      <td>49.693429</td>\n",
       "    </tr>\n",
       "    <tr>\n",
       "      <th>min</th>\n",
       "      <td>0.000000</td>\n",
       "      <td>0.420000</td>\n",
       "      <td>0.000000</td>\n",
       "      <td>0.000000</td>\n",
       "      <td>0.000000</td>\n",
       "    </tr>\n",
       "    <tr>\n",
       "      <th>25%</th>\n",
       "      <td>0.000000</td>\n",
       "      <td>22.000000</td>\n",
       "      <td>0.000000</td>\n",
       "      <td>0.000000</td>\n",
       "      <td>7.910400</td>\n",
       "    </tr>\n",
       "    <tr>\n",
       "      <th>50%</th>\n",
       "      <td>0.000000</td>\n",
       "      <td>30.000000</td>\n",
       "      <td>0.000000</td>\n",
       "      <td>0.000000</td>\n",
       "      <td>14.454200</td>\n",
       "    </tr>\n",
       "    <tr>\n",
       "      <th>75%</th>\n",
       "      <td>1.000000</td>\n",
       "      <td>35.000000</td>\n",
       "      <td>1.000000</td>\n",
       "      <td>0.000000</td>\n",
       "      <td>31.000000</td>\n",
       "    </tr>\n",
       "    <tr>\n",
       "      <th>max</th>\n",
       "      <td>1.000000</td>\n",
       "      <td>80.000000</td>\n",
       "      <td>8.000000</td>\n",
       "      <td>6.000000</td>\n",
       "      <td>512.329200</td>\n",
       "    </tr>\n",
       "  </tbody>\n",
       "</table>\n",
       "</div>"
      ],
      "text/plain": [
       "         survived         age       sibsp      parent        fare\n",
       "count  891.000000  891.000000  891.000000  891.000000  891.000000\n",
       "mean     0.383838   29.758889    0.523008    0.381594   32.204208\n",
       "std      0.486592   13.002570    1.102743    0.806057   49.693429\n",
       "min      0.000000    0.420000    0.000000    0.000000    0.000000\n",
       "25%      0.000000   22.000000    0.000000    0.000000    7.910400\n",
       "50%      0.000000   30.000000    0.000000    0.000000   14.454200\n",
       "75%      1.000000   35.000000    1.000000    0.000000   31.000000\n",
       "max      1.000000   80.000000    8.000000    6.000000  512.329200"
      ]
     },
     "execution_count": 10,
     "metadata": {},
     "output_type": "execute_result"
    }
   ],
   "source": [
    "# describe all the numerical columns\n",
    "titanic.describe()"
   ]
  },
  {
   "cell_type": "code",
   "execution_count": 11,
   "metadata": {},
   "outputs": [
    {
     "data": {
      "text/html": [
       "<div>\n",
       "<style scoped>\n",
       "    .dataframe tbody tr th:only-of-type {\n",
       "        vertical-align: middle;\n",
       "    }\n",
       "\n",
       "    .dataframe tbody tr th {\n",
       "        vertical-align: top;\n",
       "    }\n",
       "\n",
       "    .dataframe thead th {\n",
       "        text-align: right;\n",
       "    }\n",
       "</style>\n",
       "<table border=\"1\" class=\"dataframe\">\n",
       "  <thead>\n",
       "    <tr style=\"text-align: right;\">\n",
       "      <th></th>\n",
       "      <th>gender</th>\n",
       "      <th>passenger_type</th>\n",
       "      <th>embark_town</th>\n",
       "    </tr>\n",
       "  </thead>\n",
       "  <tbody>\n",
       "    <tr>\n",
       "      <th>count</th>\n",
       "      <td>891</td>\n",
       "      <td>891</td>\n",
       "      <td>891</td>\n",
       "    </tr>\n",
       "    <tr>\n",
       "      <th>unique</th>\n",
       "      <td>2</td>\n",
       "      <td>3</td>\n",
       "      <td>3</td>\n",
       "    </tr>\n",
       "    <tr>\n",
       "      <th>top</th>\n",
       "      <td>male</td>\n",
       "      <td>man</td>\n",
       "      <td>Southampton</td>\n",
       "    </tr>\n",
       "    <tr>\n",
       "      <th>freq</th>\n",
       "      <td>577</td>\n",
       "      <td>537</td>\n",
       "      <td>644</td>\n",
       "    </tr>\n",
       "  </tbody>\n",
       "</table>\n",
       "</div>"
      ],
      "text/plain": [
       "       gender passenger_type  embark_town\n",
       "count     891            891          891\n",
       "unique      2              3            3\n",
       "top      male            man  Southampton\n",
       "freq      577            537          644"
      ]
     },
     "execution_count": 11,
     "metadata": {},
     "output_type": "execute_result"
    }
   ],
   "source": [
    "# describe all the categorical columns\n",
    "titanic.describe(include='object')"
   ]
  },
  {
   "cell_type": "code",
   "execution_count": 12,
   "metadata": {},
   "outputs": [
    {
     "data": {
      "image/png": "[encoded data removed]",
      "text/plain": [
       "<Figure size 432x360 with 1 Axes>"
      ]
     },
     "metadata": {
      "needs_background": "light"
     },
     "output_type": "display_data"
    }
   ],
   "source": [
    "# the size of our plot\n",
    "plt.figure(figsize=(6,5))\n",
    "\n",
    "# plot Surviving And The Passenger Gender\n",
    "sns.countplot(x = \"survived\",data=titanic,hue=\"gender\")\n",
    "\n",
    "# plot title and y axis label\n",
    "plt.title('Surviving And The Passenger Gender')\n",
    "plt.ylabel('Number Of People)');"
   ]
  },
  {
   "cell_type": "code",
   "execution_count": 13,
   "metadata": {},
   "outputs": [
    {
     "data": {
      "image/png": "[encoded data removed]",
      "text/plain": [
       "<Figure size 432x360 with 1 Axes>"
      ]
     },
     "metadata": {
      "needs_background": "light"
     },
     "output_type": "display_data"
    }
   ],
   "source": [
    "# the size of our plot\n",
    "plt.figure(figsize=(6,5))\n",
    "\n",
    "# Surviving And The Passenger Type \n",
    "sns.countplot(x = \"survived\",data=titanic,hue=\"passenger_type\")\n",
    "\n",
    "# plot title and y axis label\n",
    "plt.title('Surviving And The Passenger Type')\n",
    "plt.ylabel('Number Of People)');"
   ]
  },
  {
   "cell_type": "code",
   "execution_count": 14,
   "metadata": {},
   "outputs": [
    {
     "data": {
      "image/png": "[encoded data removed]",
      "text/plain": [
       "<Figure size 432x360 with 1 Axes>"
      ]
     },
     "metadata": {
      "needs_background": "light"
     },
     "output_type": "display_data"
    }
   ],
   "source": [
    "# the size of our plot\n",
    "plt.figure(figsize=(6,5))\n",
    "\n",
    "# plot Surviving And The Passenger Class Type\n",
    "sns.countplot(x = \"survived\",data=titanic,hue=\"class\")\n",
    "\n",
    "# plot title and y axis label\n",
    "plt.title('Surviving And The Passenger Class Type')\n",
    "plt.ylabel('Number Of People)');"
   ]
  },
  {
   "cell_type": "code",
   "execution_count": 15,
   "metadata": {},
   "outputs": [
    {
     "data": {
      "image/png": "[encoded data removed]",
      "text/plain": [
       "<Figure size 720x360 with 1 Axes>"
      ]
     },
     "metadata": {
      "needs_background": "light"
     },
     "output_type": "display_data"
    }
   ],
   "source": [
    "# the size of our plot\n",
    "plt.figure(figsize=(10,5))\n",
    "\n",
    "# plot Not Surviving Percentage by number of parents/Children Aboard\n",
    "sns.barplot(x=(titanic[titanic[\"survived\"] == 0])[\"parent\"].value_counts().sort_index().index,\n",
    "            y=((titanic[titanic[\"survived\"] == 0])[\"parent\"].value_counts().sort_index().values/(titanic[\"parent\"].value_counts().sort_index().values))*100,\n",
    "            data= titanic[titanic[\"survived\"] == 0])\n",
    "\n",
    "# plot title and x, y axis labels                                                \n",
    "plt.title(\"Not Surviving Percentage By Number of Parents/Children Aboard\");\n",
    "plt.xlabel('Number Of Parents/Children Aboard')\n",
    "plt.ylabel('Not Surviving Percentage(%)');"
   ]
  },
  {
   "cell_type": "code",
   "execution_count": 16,
   "metadata": {},
   "outputs": [
    {
     "data": {
      "image/png": "[encoded data removed]",
      "text/plain": [
       "<Figure size 432x360 with 1 Axes>"
      ]
     },
     "metadata": {
      "needs_background": "light"
     },
     "output_type": "display_data"
    }
   ],
   "source": [
    "# the size of our plot\n",
    "plt.figure(figsize=(6,5))\n",
    "\n",
    "# plot Not Surviving Percentage by Adult Male\n",
    "sns.barplot(x=(titanic[titanic[\"survived\"] == 0])[\"adult_male\"].value_counts().sort_index().index,\n",
    "            y=((titanic[titanic[\"survived\"] == 0])[\"adult_male\"].value_counts().sort_index().values/(titanic[\"adult_male\"].value_counts().sort_index().values))*100,\n",
    "            data= titanic[titanic[\"survived\"] == 0])\n",
    " \n",
    "# plot title and x, y axis labels    \n",
    "plt.title(\"Not Surviving Percentage by If The Male Was Adult Male Or Not?\");\n",
    "plt.xlabel('Adult Male')\n",
    "plt.ylabel('Not Surviving Percentage(%)');"
   ]
  },
  {
   "cell_type": "code",
   "execution_count": 17,
   "metadata": {},
   "outputs": [
    {
     "data": {
      "image/png": "[encoded data removed]",
      "text/plain": [
       "<Figure size 432x360 with 1 Axes>"
      ]
     },
     "metadata": {
      "needs_background": "light"
     },
     "output_type": "display_data"
    }
   ],
   "source": [
    "# the size of our plot\n",
    "plt.figure(figsize=(6,5))\n",
    "\n",
    "# Not Surviving Percentage by The Passenger Class\n",
    "sns.barplot(x=(titanic[titanic[\"survived\"] == 0])[\"class\"].value_counts().sort_index().index,\n",
    "            y=((titanic[titanic[\"survived\"] == 0])[\"class\"].value_counts().sort_index().values/(titanic[\"class\"].value_counts().sort_index().values))*100,\n",
    "            data= titanic[titanic[\"survived\"] == 0])\n",
    "\n",
    "# plot title and x, y axis labels\n",
    "plt.title(\"Not Surviving Percentage by The Passenger Class\");\n",
    "plt.xlabel('class')\n",
    "plt.ylabel('Not Surviving Percentage(%)');"
   ]
  },
  {
   "cell_type": "code",
   "execution_count": 18,
   "metadata": {},
   "outputs": [
    {
     "data": {
      "image/png": "[encoded data removed]",
      "text/plain": [
       "<Figure size 432x360 with 1 Axes>"
      ]
     },
     "metadata": {
      "needs_background": "light"
     },
     "output_type": "display_data"
    }
   ],
   "source": [
    "# the size of our plot\n",
    "plt.figure(figsize=(6,5))\n",
    "\n",
    "# plot Not Surviving Percentage by The Passenger Gender\n",
    "sns.barplot(x=(titanic[titanic[\"survived\"] == 0])[\"gender\"].value_counts().sort_index().index,\n",
    "            y=((titanic[titanic[\"survived\"] == 0])[\"gender\"].value_counts().sort_index().values/(titanic[\"gender\"].value_counts().sort_index().values))*100,\n",
    "            data= titanic[titanic[\"survived\"] == 0])\n",
    "\n",
    "# plot title and x, y axis labels                                                \n",
    "plt.title(\"Not Surviving Percentage by The Passenger Gender\");\n",
    "plt.xlabel('Gender')\n",
    "plt.ylabel('Not Surviving Percentage(%)');"
   ]
  },
  {
   "cell_type": "code",
   "execution_count": 19,
   "metadata": {},
   "outputs": [],
   "source": [
    "# drop unwanted ages to calculate the not surviving percentage by age\n",
    "titanic_age = titanic.set_index(\"age\").drop([0.42, 0.67, 0.75, 0.83, 0.92,5,12,13,53,63,80])"
   ]
  },
  {
   "cell_type": "code",
   "execution_count": 20,
   "metadata": {},
   "outputs": [],
   "source": [
    "# restet the index of the new dataframe\n",
    "titanic_age = titanic_age.reset_index()"
   ]
  },
  {
   "cell_type": "code",
   "execution_count": 21,
   "metadata": {},
   "outputs": [
    {
     "data": {
      "image/png": "[encoded data removed]",
      "text/plain": [
       "<Figure size 2880x576 with 1 Axes>"
      ]
     },
     "metadata": {
      "needs_background": "light"
     },
     "output_type": "display_data"
    }
   ],
   "source": [
    "# the size of our plot\n",
    "plt.figure(figsize=(40,8))\n",
    "\n",
    "# plot Not Surviving Percentage by The Passenger Age\n",
    "sns.barplot(x=(titanic[titanic[\"survived\"] == 0])[\"age\"].value_counts().sort_index().index,\n",
    "            y=((titanic[titanic[\"survived\"] == 0])[\"age\"].value_counts().sort_index().values/(titanic_age[\"age\"].value_counts().sort_index().values))*100,\n",
    "            data= titanic[titanic[\"survived\"] == 0])\n",
    "\n",
    "# plot title and x, y axis labels\n",
    "plt.title(\"Not Surviving Percentage by Age\");\n",
    "plt.xlabel('Age')\n",
    "plt.ylabel('Not Surviving Percentage(%)');"
   ]
  },
  {
   "cell_type": "code",
   "execution_count": 22,
   "metadata": {},
   "outputs": [
    {
     "data": {
      "image/png": "[encoded data removed]",
      "text/plain": [
       "<Figure size 432x360 with 1 Axes>"
      ]
     },
     "metadata": {
      "needs_background": "light"
     },
     "output_type": "display_data"
    }
   ],
   "source": [
    "# the size of our plot\n",
    "plt.figure(figsize=(6,5))\n",
    "\n",
    "# plot Not Surviving Percentage by Passenger Type\n",
    "sns.barplot(x=(titanic[titanic[\"survived\"] == 0])[\"passenger_type\"].value_counts().sort_index().index,\n",
    "            y=((titanic[titanic[\"survived\"] == 0])[\"passenger_type\"].value_counts().sort_index().values/(titanic[\"passenger_type\"].value_counts().sort_index().values))*100,\n",
    "            data= titanic[titanic[\"survived\"] == 0])\n",
    "                                                \n",
    "# plot title and x, y axis labels\n",
    "plt.title(\"Not Surviving Percentage by Passenger Type\");\n",
    "plt.xlabel('Passenger Type')\n",
    "plt.ylabel('Not Surviving Percentage(%)');"
   ]
  },
  {
   "cell_type": "markdown",
   "metadata": {},
   "source": [
    "# Split The Dataset\n",
    "\n",
    "##### (80/20 split)"
   ]
  },
  {
   "cell_type": "code",
   "execution_count": 23,
   "metadata": {},
   "outputs": [],
   "source": [
    "# Separate the data set into training and testing. (80/20 split)\n",
    "\n",
    "training, testing = train_test_split(\n",
    "    titanic, \n",
    "    train_size=0.8, # 80% of data to train\n",
    "    test_size=0.2) # 20% of data to test"
   ]
  },
  {
   "cell_type": "markdown",
   "metadata": {},
   "source": [
    "##### (70/30 split)"
   ]
  },
  {
   "cell_type": "code",
   "execution_count": 24,
   "metadata": {},
   "outputs": [],
   "source": [
    "# Separate the data set into training and testing. (70/30 split)\n",
    "\n",
    "training, testing = train_test_split(\n",
    "    titanic, \n",
    "    train_size=0.7, # 70% of data to train\n",
    "    test_size=0.3) # 30% of data to test"
   ]
  },
  {
   "cell_type": "code",
   "execution_count": 25,
   "metadata": {},
   "outputs": [
    {
     "data": {
      "text/plain": [
       "0    0.616162\n",
       "1    0.383838\n",
       "Name: survived, dtype: float64"
      ]
     },
     "execution_count": 25,
     "metadata": {},
     "output_type": "execute_result"
    }
   ],
   "source": [
    "# baseline model (Majority Class)\n",
    "titanic[\"survived\"].value_counts(normalize=True)"
   ]
  },
  {
   "cell_type": "code",
   "execution_count": 26,
   "metadata": {},
   "outputs": [
    {
     "data": {
      "text/plain": [
       "0    0.585821\n",
       "1    0.414179\n",
       "Name: survived, dtype: float64"
      ]
     },
     "execution_count": 26,
     "metadata": {},
     "output_type": "execute_result"
    }
   ],
   "source": [
    "# Check class labels distribution in testing\n",
    "testing[\"survived\"].value_counts(normalize=True)"
   ]
  },
  {
   "cell_type": "code",
   "execution_count": 27,
   "metadata": {},
   "outputs": [
    {
     "data": {
      "text/plain": [
       "0    0.629213\n",
       "1    0.370787\n",
       "Name: survived, dtype: float64"
      ]
     },
     "execution_count": 27,
     "metadata": {},
     "output_type": "execute_result"
    }
   ],
   "source": [
    "# Check class labels distribution in training\n",
    "training[\"survived\"].value_counts(normalize=True)"
   ]
  },
  {
   "cell_type": "markdown",
   "metadata": {},
   "source": [
    "# Classification Heuristic Model\n",
    "### The First Heuristic Model"
   ]
  },
  {
   "cell_type": "code",
   "execution_count": 28,
   "metadata": {},
   "outputs": [],
   "source": [
    "# Building the classification Heuristic model\n",
    "\n",
    "# Create function to perform classification heuristic model\n",
    "def classification_model(df):\n",
    "    \n",
    "    \"\"\"\n",
    "    if number of parents = 0 or 4 or 5 or 6 then predict survived = 0,\n",
    "    if alone = True then predict survived = 0,\n",
    "    if adult_male = True then predict survived = 0,\n",
    "    if gender = male then predict survived = 0,\n",
    "    if passenger_type = man then predict survived = 0,\n",
    "    if embark town = Queenstown or Southampton then predict survived = 0,\n",
    "    if class = Third then predict survived = 0,\n",
    "    if age = (2, 7, 9, 11, 16, 18, 19, 20, 21, 22, 23, 25, 26, 28, 29, 30, 33, 34, 37, 38, 39, 41, 43, 44, 45,\n",
    "    51, 54, 62,10, 14.5, 20.5, 23.5, 24.5, 28.5, 30.5, 34.5, 36.5, 40.5, 45.5,46, 55.5,57, 59, 61, 64, 65, 66,\n",
    "    70, 70.5,71,74) then predict survived = 0\n",
    "    \n",
    "    \"\"\"\n",
    "    # initial empty lists\n",
    "    preds = []\n",
    "    \n",
    "    # for-loop to iterate through the whole dataset\n",
    "    # x is the row for each passenger\n",
    "    for x in range(len(df)):\n",
    "        # if number of parents = 0 or 4 or 5 or 6 then predict the passenger will not survive\n",
    "        if (titanic.iloc[x][\"parent\"] > 3 | titanic.iloc[x][\"parent\"] == 0):\n",
    "            preds.append(0)\n",
    "        \n",
    "        # if alone = True then predict the passenger will not survive\n",
    "        elif titanic.iloc[x][\"alone\"] == True:\n",
    "            preds.append(0)\n",
    "        \n",
    "        # if adult_male = True then predict the passenger will not survive\n",
    "        elif titanic.iloc[x][\"adult_male\"] == True:\n",
    "            preds.append(0)\n",
    "        \n",
    "        # if gender = male then predict the passenger will not survive\n",
    "        elif titanic.iloc[x][\"gender\"] == 'male':\n",
    "            preds.append(0)\n",
    "\n",
    "        # if passenger_type = man then predict the passenger will not survive\n",
    "        elif titanic.iloc[x][\"passenger_type\"] == 'man':\n",
    "            preds.append(0)\n",
    "        \n",
    "        # if class = Third then predict the passenger will not survive\n",
    "        elif titanic.iloc[x][\"class\"] == 'Third' or titanic.iloc[x][\"class\"] == 'Second':\n",
    "            preds.append(0)\n",
    "        \n",
    "         # if embark town = Queenstown or  Southampton then predict the passenger will not survive\n",
    "        elif titanic.iloc[x][\"embark_town\"] == 'Southampton' or titanic.iloc[x][\"embark_town\"] == 'Queenstown':\n",
    "            preds.append(0)\n",
    "            \n",
    "        # if age = (2, 7, 9, 11, 16, 18, 19, 20, 21, 22, 23, 25, 26, 28, 29, 30, 33, 34, 37, 38, 39, 41, 43, 44, 45,\n",
    "        # 51, 54, 62,10, 14.5, 20.5, 23.5, 24.5, 28.5, 30.5, 34.5, 36.5, 40.5, 45.5, 46, 55.5,57, 59, 61, 64, 65, 66,\n",
    "        # 70, 70.5, 71, 74) then predict the passenger will not survive\n",
    "        elif (titanic.iloc[x][\"age\"] == 2 or titanic.iloc[x][\"age\"] == 7 or \n",
    "              (titanic.iloc[x][\"age\"] > 8 and titanic.iloc[x][\"age\"] < 12 )or\n",
    "              titanic.iloc[x][\"age\"] == 14.5 or titanic.iloc[x][\"age\"] == 16 or \n",
    "              (titanic.iloc[x][\"age\"] > 17 and titanic.iloc[x][\"age\"] < 24) or\n",
    "              titanic.iloc[x][\"age\"] == 25 or titanic.iloc[x][\"age\"] == 26 or \n",
    "              (titanic.iloc[x][\"age\"] > 27 and titanic.iloc[x][\"age\"] < 31) or \n",
    "              (titanic.iloc[x][\"age\"] > 33 and titanic.iloc[x][\"age\"] < 35) or\n",
    "              (titanic.iloc[x][\"age\"] > 36 and titanic.iloc[x][\"age\"] < 40) or\n",
    "              titanic.iloc[x][\"age\"] == 40.5 or titanic.iloc[x][\"age\"] == 41 or \n",
    "              (titanic.iloc[x][\"age\"] > 42 and titanic.iloc[x][\"age\"] < 47) or\n",
    "              titanic.iloc[x][\"age\"] == 51 or titanic.iloc[x][\"age\"] == 54 or\n",
    "              titanic.iloc[x][\"age\"] == 55.5 or titanic.iloc[x][\"age\"] == 57 or\n",
    "              titanic.iloc[x][\"age\"] == 59 or titanic.iloc[x][\"age\"] == 61 or\n",
    "              titanic.iloc[x][\"age\"] == 62 or (titanic.iloc[x][\"age\"] > 63 and\n",
    "              titanic.iloc[x][\"age\"] < 80)):\n",
    "            preds.append(0)\n",
    "            \n",
    "        \n",
    "        # if else then predict the passenger will survive\n",
    "        else:\n",
    "            preds.append(1)\n",
    "    \n",
    "    # return the list\n",
    "    return preds"
   ]
  },
  {
   "cell_type": "markdown",
   "metadata": {},
   "source": [
    "### The Second Heuristic Model"
   ]
  },
  {
   "cell_type": "code",
   "execution_count": 29,
   "metadata": {},
   "outputs": [],
   "source": [
    "# Building the classification Heuristic model\n",
    "\n",
    "# Create function to perform classification heuristic model\n",
    "def classification_model(df):\n",
    "    \n",
    "    \"\"\"\n",
    "    Simple heuristic:\n",
    "    if gender = female, then predict survived = 1, \n",
    "    else the passenger will not survived\n",
    "    \"\"\"\n",
    "    # initial empty lists\n",
    "    preds = []\n",
    "    \n",
    "    # for-loop to iterate through the whole dataset\n",
    "    # x is the row for each passenger\n",
    "    for x in range(len(df)):\n",
    "        # if gender = female then predict the passenger will survive\n",
    "        if titanic.iloc[x][\"gender\"] == 'female':\n",
    "            preds.append(1)\n",
    "        else:\n",
    "            preds.append(0)\n",
    "    \n",
    "    # return the list\n",
    "    return preds"
   ]
  },
  {
   "cell_type": "markdown",
   "metadata": {},
   "source": [
    "### The Third Heuristic Model"
   ]
  },
  {
   "cell_type": "code",
   "execution_count": 30,
   "metadata": {},
   "outputs": [],
   "source": [
    "# Building the classification Heuristic model\n",
    "\n",
    "# Create function to perform classification heuristic model\n",
    "def classification_model(df):\n",
    "    \n",
    "    \"\"\"\n",
    "    Simple heuristic:\n",
    "    if gender = female, then predict survived = 1, \n",
    "    if gender = male, then predict survived = 0,\n",
    "    if gender = female & class = Third & embark_town = Southampton & fare > 8, then predict survived = 0, \n",
    "    else the passenger will not survived\n",
    "    \"\"\"\n",
    "    # initial empty lists\n",
    "    preds = []\n",
    "    \n",
    "    # for-loop to iterate through the whole dataset\n",
    "    # x is the row for each passenger\n",
    "    for x in range(len(df)):\n",
    "        # if gender = male then predict the passenger will not survive\n",
    "        if titanic.iloc[x][\"gender\"] == 'female':\n",
    "            preds.append(1)\n",
    "            \n",
    "        elif titanic.iloc[x][\"gender\"] == 'male':\n",
    "            preds.append(0)\n",
    "            \n",
    "        # if gender = male then predict the passenger will not survive\n",
    "        elif titanic.iloc[x][\"gender\"] == 'female' & titanic.iloc[x][\"class\"] == 'Third' & titanic.iloc[x][\"embark_town\"] == 'Southampton' & titanic.iloc[x][\"fare\"] > 8 :\n",
    "            preds.append(0)\n",
    "            \n",
    "        # if else then predict the passenger will survive\n",
    "        else:\n",
    "            preds.append(0)\n",
    "    \n",
    "    # return the list\n",
    "    return preds"
   ]
  },
  {
   "cell_type": "markdown",
   "metadata": {},
   "source": [
    "### The Fourth Heuristic Model"
   ]
  },
  {
   "cell_type": "code",
   "execution_count": 31,
   "metadata": {},
   "outputs": [],
   "source": [
    "# Building the classification Heuristic model\n",
    "\n",
    "# Create function to perform classification heuristic model\n",
    "def classification_model(df):\n",
    "    \n",
    "    \"\"\"\n",
    "    Simple heuristic:\n",
    "    if gender = female & class = Third & age < 15, then predict survived = 1, \n",
    "    else the passenger will not survived\n",
    "    \"\"\"\n",
    "    # initial empty lists\n",
    "    preds = []\n",
    "    \n",
    "    # for-loop to iterate through the whole dataset\n",
    "    # x is the row for each passenger\n",
    "    for x in range(len(df)):\n",
    "        # if gender = male then predict the passenger will not survive\n",
    "        if ((titanic.iloc[x][\"gender\"]=='female') & (titanic.iloc[x][\"class\"]=='Third') & (titanic.iloc[x][\"age\"]<15)):\n",
    "            preds.append(1)\n",
    "            \n",
    "        # if else then predict the passenger will survive\n",
    "        else:\n",
    "            preds.append(0)\n",
    "    \n",
    "    # return the list\n",
    "    return preds"
   ]
  },
  {
   "cell_type": "code",
   "execution_count": 32,
   "metadata": {},
   "outputs": [],
   "source": [
    "# add the 'survived_preds' column to the dataframe\n",
    "testing['survived_preds'] = classification_model(testing)"
   ]
  },
  {
   "cell_type": "markdown",
   "metadata": {
    "id": "fYpJ2jdYf-Et"
   },
   "source": [
    "## Classification Cost Function"
   ]
  },
  {
   "cell_type": "code",
   "execution_count": 33,
   "metadata": {
    "id": "zd2iMnKAmBcP"
   },
   "outputs": [],
   "source": [
    "# create a function that calculate the the Precision, Recall and Accuracy for the classification heuristic model\n",
    "# for the 'survived' column\n",
    "# y_test_c is the actual values\n",
    "# y_pred_c is the predicted  values\n",
    "def classification_model_evaluation(y_test_c, y_pred_c):\n",
    "    \n",
    "    # calculate the scores from sklearn.metrics package\n",
    "    accuracy  = accuracy_score(y_test_c, y_pred_c)\n",
    "    precision = precision_score(y_test_c, y_pred_c)\n",
    "    recall    = recall_score(y_test_c, y_pred_c)\n",
    "    \n",
    "    # return the scores\n",
    "    return \"Accuracy Score = {val1}, Precision Score = {val2} , Recall Score = {val3} \".format(val1 = accuracy, val2 = precision, val3 = recall)"
   ]
  },
  {
   "cell_type": "code",
   "execution_count": 34,
   "metadata": {},
   "outputs": [
    {
     "data": {
      "text/plain": [
       "'Accuracy Score = 0.5671641791044776, Precision Score = 0.2727272727272727 , Recall Score = 0.02702702702702703 '"
      ]
     },
     "execution_count": 34,
     "metadata": {},
     "output_type": "execute_result"
    }
   ],
   "source": [
    "classification_model_evaluation(testing[\"survived\"],testing[\"survived_preds\"])"
   ]
  },
  {
   "cell_type": "markdown",
   "metadata": {},
   "source": [
    "# Heuristic Models Scores"
   ]
  },
  {
   "cell_type": "markdown",
   "metadata": {},
   "source": [
    "### The First Heuristic Model\n",
    "- 80 - 20 split\n",
    "\n",
    "Accuracy Score = 0.5957820738137083, Precision Score = 0.625 , Recall Score = 0.021551724137931036\n",
    "- 70 - 30 split\n",
    "\n",
    "Accuracy Score = 0.6455223880597015, Precision Score = 0.5 , Recall Score = 0.010526315789473684\n",
    "\n",
    "\n",
    "### The Second Heuristic Model\n",
    "- 80 - 20 split\n",
    "\n",
    "Accuracy Score = 0.5043936731107206, Precision Score = 0.375 , Recall Score = 0.3391304347826087\n",
    "- 70 - 30 split\n",
    "\n",
    "Accuracy Score = 0.5401606425702812, Precision Score = 0.42245989304812837 , Recall Score = 0.395\n",
    "\n",
    "\n",
    "### The Third Heuristic Model\n",
    "- 80 - 20 split\n",
    "\n",
    "Accuracy Score = 0.5289982425307557, Precision Score = 0.40384615384615385 , Recall Score = 0.3684210526315789\n",
    "- 70 - 30 split\n",
    "\n",
    "Accuracy Score = 0.5401606425702812, Precision Score = 0.42245989304812837 , Recall Score = 0.395\n",
    "\n",
    "\n",
    "### The Fourth Heuristic Model\n",
    "- 80 - 20 split\n",
    "\n",
    "Accuracy Score = 0.5922671353251318, Precision Score = 0.5217391304347826 , Recall Score = 0.05150214592274678\n",
    "- 70 - 30 split\n",
    "\n",
    "Accuracy Score = 0.5983935742971888, Precision Score = 0.47368421052631576 , Recall Score = 0.04522613065326633 "
   ]
  },
  {
   "cell_type": "markdown",
   "metadata": {},
   "source": [
    "# Logistic Regression model"
   ]
  },
  {
   "cell_type": "code",
   "execution_count": 35,
   "metadata": {},
   "outputs": [
    {
     "name": "stdout",
     "output_type": "stream",
     "text": [
      "Recall Score:  0.9629629629629629\n",
      "Precision Score:  0.7878787878787878\n",
      "Accuracy Score:  0.8260869565217391\n"
     ]
    }
   ],
   "source": [
    "# load the titanic dataset\n",
    "titanic = sns.load_dataset(\"titanic\").dropna()\n",
    "\n",
    "# split the titanic dataset\n",
    "x_train_c, x_test_c, y_train_c, y_test_c = train_test_split(titanic.drop([\"survived\", \"alive\", \"adult_male\"], axis=1), titanic[\"survived\"])\n",
    "\n",
    "# Logistic Regression model\n",
    "pipe_c = make_pipeline(ce.OrdinalEncoder(), StandardScaler(), LogisticRegression()).fit(x_train_c, y_train_c)\n",
    "\n",
    "# predict 'survived' column\n",
    "y_pred_c = pipe_c.predict(x_test_c)\n",
    "\n",
    "# print the scores\n",
    "print(\"Recall Score: \",recall_score(y_test_c, y_pred_c))\n",
    "print(\"Precision Score: \",precision_score(y_test_c, y_pred_c))\n",
    "print(\"Accuracy Score: \",accuracy_score(y_test_c, y_pred_c))"
   ]
  },
  {
   "cell_type": "markdown",
   "metadata": {
    "id": "N0gtvZ0xk50L"
   },
   "source": [
    "# Heuristic Model for Tips Dataset"
   ]
  },
  {
   "cell_type": "code",
   "execution_count": 36,
   "metadata": {},
   "outputs": [],
   "source": [
    "# Answered\n",
    "\n",
    "#  Regression Model on tips model\n",
    "\n",
    "tips_data = sns.load_dataset(\"tips\").dropna()\n",
    "\n",
    "x_train_r, x_test_r, y_train_r, y_test_r = train_test_split(tips_data.drop(\"total_bill\", axis=1), tips_data[\"total_bill\"])\n",
    "\n",
    "pipeline = make_pipeline(ce.OrdinalEncoder(), StandardScaler() , LinearRegression()).fit(x_train_r, y_train_r)\n",
    "\n",
    "\n",
    "y_pred_r = pipeline.predict(x_test_r)\n"
   ]
  },
  {
   "cell_type": "code",
   "execution_count": 37,
   "metadata": {},
   "outputs": [
    {
     "name": "stdout",
     "output_type": "stream",
     "text": [
      "MSE:  31.755299824130294\n",
      "MAE:  4.20578334829971\n",
      "RMSE:  5.635184098512691\n"
     ]
    }
   ],
   "source": [
    "# Cost Functions for the Linear Regression (Tips)\n",
    "\n",
    "print(\"MSE: \", mean_squared_error(y_test_r, y_pred_r))\n",
    "print(\"MAE: \",mean_absolute_error(y_test_r, y_pred_r))\n",
    "print(\"RMSE: \",mean_squared_error(y_test_r, y_pred_r, squared=False))"
   ]
  },
  {
   "cell_type": "code",
   "execution_count": 38,
   "metadata": {},
   "outputs": [
    {
     "data": {
      "text/html": [
       "<div>\n",
       "<style scoped>\n",
       "    .dataframe tbody tr th:only-of-type {\n",
       "        vertical-align: middle;\n",
       "    }\n",
       "\n",
       "    .dataframe tbody tr th {\n",
       "        vertical-align: top;\n",
       "    }\n",
       "\n",
       "    .dataframe thead th {\n",
       "        text-align: right;\n",
       "    }\n",
       "</style>\n",
       "<table border=\"1\" class=\"dataframe\">\n",
       "  <thead>\n",
       "    <tr style=\"text-align: right;\">\n",
       "      <th></th>\n",
       "      <th>total_bill</th>\n",
       "      <th>tip</th>\n",
       "      <th>sex</th>\n",
       "      <th>smoker</th>\n",
       "      <th>day</th>\n",
       "      <th>time</th>\n",
       "      <th>size</th>\n",
       "    </tr>\n",
       "  </thead>\n",
       "  <tbody>\n",
       "    <tr>\n",
       "      <th>0</th>\n",
       "      <td>16.99</td>\n",
       "      <td>1.01</td>\n",
       "      <td>Female</td>\n",
       "      <td>No</td>\n",
       "      <td>Sun</td>\n",
       "      <td>Dinner</td>\n",
       "      <td>2</td>\n",
       "    </tr>\n",
       "    <tr>\n",
       "      <th>1</th>\n",
       "      <td>10.34</td>\n",
       "      <td>1.66</td>\n",
       "      <td>Male</td>\n",
       "      <td>No</td>\n",
       "      <td>Sun</td>\n",
       "      <td>Dinner</td>\n",
       "      <td>3</td>\n",
       "    </tr>\n",
       "    <tr>\n",
       "      <th>2</th>\n",
       "      <td>21.01</td>\n",
       "      <td>3.50</td>\n",
       "      <td>Male</td>\n",
       "      <td>No</td>\n",
       "      <td>Sun</td>\n",
       "      <td>Dinner</td>\n",
       "      <td>3</td>\n",
       "    </tr>\n",
       "    <tr>\n",
       "      <th>3</th>\n",
       "      <td>23.68</td>\n",
       "      <td>3.31</td>\n",
       "      <td>Male</td>\n",
       "      <td>No</td>\n",
       "      <td>Sun</td>\n",
       "      <td>Dinner</td>\n",
       "      <td>2</td>\n",
       "    </tr>\n",
       "    <tr>\n",
       "      <th>4</th>\n",
       "      <td>24.59</td>\n",
       "      <td>3.61</td>\n",
       "      <td>Female</td>\n",
       "      <td>No</td>\n",
       "      <td>Sun</td>\n",
       "      <td>Dinner</td>\n",
       "      <td>4</td>\n",
       "    </tr>\n",
       "  </tbody>\n",
       "</table>\n",
       "</div>"
      ],
      "text/plain": [
       "   total_bill   tip     sex smoker  day    time  size\n",
       "0       16.99  1.01  Female     No  Sun  Dinner     2\n",
       "1       10.34  1.66    Male     No  Sun  Dinner     3\n",
       "2       21.01  3.50    Male     No  Sun  Dinner     3\n",
       "3       23.68  3.31    Male     No  Sun  Dinner     2\n",
       "4       24.59  3.61  Female     No  Sun  Dinner     4"
      ]
     },
     "execution_count": 38,
     "metadata": {},
     "output_type": "execute_result"
    }
   ],
   "source": [
    "tips_data.head()"
   ]
  },
  {
   "cell_type": "code",
   "execution_count": 39,
   "metadata": {
    "id": "EiUhvDL9l9Ka"
   },
   "outputs": [
    {
     "data": {
      "text/plain": [
       "<matplotlib.axes._subplots.AxesSubplot at 0x22b66200c88>"
      ]
     },
     "execution_count": 39,
     "metadata": {},
     "output_type": "execute_result"
    },
    {
     "data": {
      "image/png": "[encoded data removed]",
      "text/plain": [
       "<Figure size 432x288 with 1 Axes>"
      ]
     },
     "metadata": {
      "needs_background": "light"
     },
     "output_type": "display_data"
    }
   ],
   "source": [
    "#Inspecting Dataset to come up with an assumption to build the Heuristic Model\n",
    "\n",
    "# inspect smoking, sex of the people vs. the total bill they pay\n",
    "\n",
    "sns.barplot(x=\"smoker\", y = 'total_bill', data = tips_data)\n",
    "\n",
    "# Conclusion: Smoking feature is irrelevent "
   ]
  },
  {
   "cell_type": "code",
   "execution_count": 40,
   "metadata": {},
   "outputs": [
    {
     "data": {
      "text/plain": [
       "<matplotlib.axes._subplots.AxesSubplot at 0x22b662af240>"
      ]
     },
     "execution_count": 40,
     "metadata": {},
     "output_type": "execute_result"
    },
    {
     "data": {
      "image/png": "[encoded data removed]",
      "text/plain": [
       "<Figure size 432x288 with 1 Axes>"
      ]
     },
     "metadata": {
      "needs_background": "light"
     },
     "output_type": "display_data"
    }
   ],
   "source": [
    "\n",
    "sns.barplot(x=\"sex\", y = 'total_bill', hue = \"smoker\", data = tips_data)\n",
    "\n",
    "# Conclusion: Sex and Smoking feature are irrelevent "
   ]
  },
  {
   "cell_type": "code",
   "execution_count": 41,
   "metadata": {
    "id": "CVsRKC0ckxcg"
   },
   "outputs": [
    {
     "data": {
      "text/plain": [
       "<matplotlib.axes._subplots.AxesSubplot at 0x22b665414a8>"
      ]
     },
     "execution_count": 41,
     "metadata": {},
     "output_type": "execute_result"
    },
    {
     "data": {
      "image/png": "[encoded data removed]",
      "text/plain": [
       "<Figure size 2880x504 with 1 Axes>"
      ]
     },
     "metadata": {
      "needs_background": "light"
     },
     "output_type": "display_data"
    }
   ],
   "source": [
    "\n",
    "f, a = plt.subplots(figsize=(40, 7))\n",
    "\n",
    "sns.barplot(ax = a, x=\"tip\", y = 'total_bill', data = tips_data)\n",
    "\n",
    "# we can see that the higher tips correlates with higher bill, but it is more effective at higher tips "
   ]
  },
  {
   "cell_type": "code",
   "execution_count": 42,
   "metadata": {},
   "outputs": [
    {
     "data": {
      "text/plain": [
       "<matplotlib.axes._subplots.AxesSubplot at 0x22b6601e0f0>"
      ]
     },
     "execution_count": 42,
     "metadata": {},
     "output_type": "execute_result"
    },
    {
     "data": {
      "image/png": "[encoded data removed]",
      "text/plain": [
       "<Figure size 432x288 with 1 Axes>"
      ]
     },
     "metadata": {
      "needs_background": "light"
     },
     "output_type": "display_data"
    }
   ],
   "source": [
    "sns.barplot(x=\"size\", y = 'total_bill', data = tips_data)\n",
    "\n",
    "# Found it! Size is very correlated with the total bill"
   ]
  },
  {
   "cell_type": "code",
   "execution_count": 43,
   "metadata": {},
   "outputs": [
    {
     "data": {
      "text/plain": [
       "array([ 3.94678491, -0.38057521,  1.30089188,  0.15784494, -0.85516411,\n",
       "        3.71973022])"
      ]
     },
     "execution_count": 43,
     "metadata": {},
     "output_type": "execute_result"
    }
   ],
   "source": [
    "# Getting the trained Linear Regression Model Weights to help us get a good Heuristic Model\n",
    "\n",
    "pipeline.named_steps['linearregression'].coef_\n",
    "\n",
    "# as we see the size and the tip features have the larget weights/coefficients, then we can use this value\n",
    "# to build a heurtistic models"
   ]
  },
  {
   "cell_type": "code",
   "execution_count": 44,
   "metadata": {},
   "outputs": [],
   "source": [
    "# Build your Heuristic model here\n",
    "\n",
    "def tips_heuristic_model(data):\n",
    "    size = data['size']\n",
    "    tips = data['tip']\n",
    "    \n",
    "    feature_weights = {'size': 3.2, \n",
    "                       'tip': 4}\n",
    "    \n",
    "    bill = feature_weights['size'] * size + feature_weights['tip'] * tips\n",
    "    \n",
    "    return bill\n",
    "    \n",
    "\n",
    "# Test Model \n",
    "\n",
    "y_pred_h = tips_heuristic_model(x_test_r)"
   ]
  },
  {
   "cell_type": "code",
   "execution_count": 45,
   "metadata": {},
   "outputs": [
    {
     "name": "stdout",
     "output_type": "stream",
     "text": [
      "MSE for Heuristics Model:  31.817854098360662\n",
      "MAE for Heuristics Model:  4.18344262295082\n",
      "RMSE for Heuristics Model:  5.64073169884552\n"
     ]
    }
   ],
   "source": [
    "# Add your cost functions for your Heuristic Model here\n",
    "\n",
    "print(\"MSE for Heuristics Model: \", mean_squared_error(y_test_r, y_pred_h))\n",
    "print(\"MAE for Heuristics Model: \", mean_absolute_error(y_test_r, y_pred_h))\n",
    "print(\"RMSE for Heuristics Model: \", mean_squared_error(y_test_r, y_pred_h, squared=False))\n",
    "\n",
    "\n",
    "# We have error that is very close to the Linear Regression Model!!"
   ]
  }
 ],
 "metadata": {
  "colab": {
   "collapsed_sections": [],
   "name": "Weekend Project 10.ipynb",
   "provenance": []
  },
  "kernelspec": {
   "display_name": "Python [default]",
   "language": "python",
   "name": "python3"
  },
  "language_info": {
   "codemirror_mode": {
    "name": "ipython",
    "version": 3
   },
   "file_extension": ".py",
   "mimetype": "text/x-python",
   "name": "python",
   "nbconvert_exporter": "python",
   "pygments_lexer": "ipython3",
   "version": "3.7.1"
  }
 },
 "nbformat": 4,
 "nbformat_minor": 1
}
