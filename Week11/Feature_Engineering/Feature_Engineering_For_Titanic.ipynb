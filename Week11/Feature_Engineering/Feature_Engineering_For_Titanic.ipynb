{
 "cells": [
  {
   "cell_type": "markdown",
   "metadata": {},
   "source": [
    "# Feature Engineering Techniques For Titanic Dataset"
   ]
  },
  {
   "cell_type": "code",
   "execution_count": 1,
   "metadata": {},
   "outputs": [],
   "source": [
    "# import packges \n",
    "import pandas as pd\n",
    "import numpy as np\n",
    "import matplotlib.pyplot as plt\n",
    "import seaborn as sns\n",
    "\n",
    "from sklearn.model_selection import train_test_split\n",
    "from sklearn.linear_model import LogisticRegression\n",
    "from sklearn.pipeline import make_pipeline\n",
    "\n",
    "# Cost Functions\n",
    "from sklearn.metrics import  accuracy_score, recall_score, precision_score\n",
    "\n",
    "# Scalers\n",
    "from sklearn.preprocessing import StandardScaler\n",
    "from sklearn.preprocessing import RobustScaler\n",
    "from sklearn.preprocessing import MinMaxScaler\n",
    "\n",
    "# Feature Engineering\n",
    "from sklearn.preprocessing import OneHotEncoder\n",
    "from sklearn.preprocessing import OrdinalEncoder\n",
    "\n",
    "# Plot style\n",
    "plt.style.use(\"seaborn-whitegrid\")\n",
    "\n",
    "import warnings\n",
    "warnings.filterwarnings('ignore')\n",
    "import category_encoders as ce\n",
    "\n",
    "# Used for saving out models\n",
    "import joblib\n",
    "import datetime"
   ]
  },
  {
   "cell_type": "code",
   "execution_count": 2,
   "metadata": {},
   "outputs": [],
   "source": [
    "# load the titanic dataset\n",
    "df = sns.load_dataset(\"titanic\")"
   ]
  },
  {
   "cell_type": "code",
   "execution_count": 3,
   "metadata": {},
   "outputs": [],
   "source": [
    "# drop the duplicate columns and unused column\n",
    "df = df.drop(['pclass','alive','embark_town','deck'], axis = 1)\n",
    "\n",
    "# replacing missing values with mean for 'age' column\n",
    "df['age'] = df['age'].replace(np.NaN, round(df['age'].mean()))\n",
    "\n",
    "# Filling missing values using forward and backward fill for the 'embark_town' column\n",
    "df[\"embarked\"] = df[\"embarked\"].fillna(method='ffill').fillna(method='bfill')"
   ]
  },
  {
   "cell_type": "code",
   "execution_count": 4,
   "metadata": {},
   "outputs": [],
   "source": [
    "# Split Data\n",
    "train, test = train_test_split(\n",
    "    df, \n",
    "    train_size = .80,\n",
    "    test_size =.20,\n",
    "    random_state=42)"
   ]
  },
  {
   "cell_type": "code",
   "execution_count": 5,
   "metadata": {},
   "outputs": [
    {
     "data": {
      "text/plain": [
       "survived         int64\n",
       "sex             object\n",
       "age            float64\n",
       "sibsp            int64\n",
       "parch            int64\n",
       "fare           float64\n",
       "embarked        object\n",
       "class         category\n",
       "who             object\n",
       "adult_male        bool\n",
       "alone             bool\n",
       "dtype: object"
      ]
     },
     "execution_count": 5,
     "metadata": {},
     "output_type": "execute_result"
    }
   ],
   "source": [
    "# Model with only numeric features\n",
    "train.dtypes"
   ]
  },
  {
   "cell_type": "code",
   "execution_count": 6,
   "metadata": {},
   "outputs": [],
   "source": [
    "def cleaner(df):\n",
    "    \"Return Only Numeric Features\"\n",
    "    \n",
    "    # Create boolean array with only columns that are float64\n",
    "    columns_bool = (df.dtypes != \"category\").values & (df.dtypes != \"object\").values \n",
    "\n",
    "    # Return only numeric columns\n",
    "    df = df.iloc[:, columns_bool].dropna()\n",
    "\n",
    "    return df\n",
    "\n",
    "train_numeric = cleaner(train)\n",
    "test_numeric = cleaner(test)"
   ]
  },
  {
   "cell_type": "code",
   "execution_count": 7,
   "metadata": {},
   "outputs": [],
   "source": [
    "# Create X, y train and validation sets\n",
    "\n",
    "target = \"survived\"\n",
    "\n",
    "X_train = train_numeric.drop(target, axis=1)\n",
    "y_train = train_numeric[target]\n",
    "\n",
    "X_test = test_numeric.drop(target, axis=1)\n",
    "y_test = test_numeric[target]"
   ]
  },
  {
   "cell_type": "markdown",
   "metadata": {},
   "source": [
    "# Logistic Regression model"
   ]
  },
  {
   "cell_type": "code",
   "execution_count": 8,
   "metadata": {
    "scrolled": true
   },
   "outputs": [
    {
     "data": {
      "text/plain": [
       "0.8044692737430168"
      ]
     },
     "execution_count": 8,
     "metadata": {},
     "output_type": "execute_result"
    }
   ],
   "source": [
    "lr = LogisticRegression()\n",
    "lr.fit(X_train, y_train)\n",
    "lr.score(X_test, y_test)"
   ]
  },
  {
   "cell_type": "code",
   "execution_count": 9,
   "metadata": {},
   "outputs": [
    {
     "name": "stdout",
     "output_type": "stream",
     "text": [
      "Baseline\n",
      "Accuracy_Score: 0.6235955056179775\n",
      "Precision_Score: 0.0\n",
      "Recall_Score: 0.0\n",
      "\n",
      "Logistic Regression\n",
      "Accuracy_Score: 0.8258426966292135\n",
      "Precision_Score: 0.7950819672131147\n",
      "Recall_Score: 0.7238805970149254\n"
     ]
    }
   ],
   "source": [
    "def calc_cost(y_true, y_predict):\n",
    "    \n",
    "    \"Calculate Cost Functions and print output\"\n",
    "    \n",
    "    result_dict = {}\n",
    "\n",
    "    # calculate the scores from sklearn.metrics package\n",
    "    accuracy  = accuracy_score(y_true, y_predict)\n",
    "    precision = precision_score(y_true, y_predict)\n",
    "    recall    = recall_score(y_true, y_predict)\n",
    "    \n",
    "    ls = [accuracy, precision, recall]\n",
    "    ls2 = [\"Accuracy_Score\", \"Precision_Score\", \"Recall_Score\"]\n",
    "    \n",
    "    for x in range(len(ls)):\n",
    "        print(f\"{ls2[x]}: {ls[x]}\")\n",
    "        result_dict[ls2[x]] = ls[x]\n",
    "    \n",
    "    return result_dict\n",
    "\n",
    "# Save results to object and print results\n",
    "print(\"Baseline\")\n",
    "# baseline model (Majority Class) was 0 \n",
    "b_preds = [0 for x in range(len(y_train))]\n",
    "res0 = calc_cost(y_train, b_preds)\n",
    "\n",
    "print(\"\\nLogistic Regression\")\n",
    "res1 = calc_cost(y_train, lr.predict(X_train))"
   ]
  },
  {
   "cell_type": "markdown",
   "metadata": {},
   "source": [
    "# Feature Scaling\n",
    "### Standard Scaler"
   ]
  },
  {
   "cell_type": "code",
   "execution_count": 10,
   "metadata": {},
   "outputs": [
    {
     "data": {
      "text/plain": [
       "array([[ 1.22453038, -0.47072241, -0.47934164, -0.07868358,  0.80507649,\n",
       "         0.81220297],\n",
       "       [-0.50801097, -0.47072241, -0.47934164, -0.37714494,  0.80507649,\n",
       "         0.81220297],\n",
       "       [ 0.18500557, -0.47072241, -0.47934164, -0.47486697,  0.80507649,\n",
       "         0.81220297],\n",
       "       [-0.27700546,  0.37992316, -0.47934164, -0.47623026,  0.80507649,\n",
       "        -1.23121934],\n",
       "       [-1.81704221,  2.93185988,  2.04874166, -0.02524937, -1.24211801,\n",
       "        -1.23121934]])"
      ]
     },
     "execution_count": 10,
     "metadata": {},
     "output_type": "execute_result"
    }
   ],
   "source": [
    "# Instantiate Scaler Object\n",
    "scaler = StandardScaler()\n",
    "\n",
    "# Apply to X data\n",
    "X_train_scaled = scaler.fit_transform(X_train)\n",
    "X_test_scaled = scaler.transform(X_test)\n",
    "\n",
    "# Look at the transformed data\n",
    "X_train_scaled[:5]"
   ]
  },
  {
   "cell_type": "code",
   "execution_count": 11,
   "metadata": {},
   "outputs": [
    {
     "data": {
      "text/plain": [
       "0.8044692737430168"
      ]
     },
     "execution_count": 11,
     "metadata": {},
     "output_type": "execute_result"
    }
   ],
   "source": [
    "# Train the model\n",
    "lr2 = LogisticRegression()\n",
    "lr2.fit(X_train_scaled, y_train)\n",
    "lr2.score(X_test_scaled, y_test)"
   ]
  },
  {
   "cell_type": "code",
   "execution_count": 12,
   "metadata": {},
   "outputs": [
    {
     "name": "stdout",
     "output_type": "stream",
     "text": [
      "Accuracy_Score: 0.8044692737430168\n",
      "Precision_Score: 0.782608695652174\n",
      "Recall_Score: 0.7297297297297297\n"
     ]
    }
   ],
   "source": [
    "res2 = calc_cost(y_test, lr2.predict(X_test_scaled))"
   ]
  },
  {
   "cell_type": "markdown",
   "metadata": {},
   "source": [
    "### Robust Scaler"
   ]
  },
  {
   "cell_type": "code",
   "execution_count": 13,
   "metadata": {},
   "outputs": [
    {
     "data": {
      "text/plain": [
       "array([[ 1.19230769,  0.        ,  0.        ,  0.62218383,  0.        ,\n",
       "         0.        ],\n",
       "       [-0.53846154,  0.        ,  0.        , -0.06441639,  0.        ,\n",
       "         0.        ],\n",
       "       [ 0.15384615,  0.        ,  0.        , -0.28922259,  0.        ,\n",
       "         0.        ],\n",
       "       [-0.30769231,  1.        ,  0.        , -0.2923588 ,  0.        ,\n",
       "        -1.        ],\n",
       "       [-1.84615385,  4.        ,  2.        ,  0.74510742, -1.        ,\n",
       "        -1.        ]])"
      ]
     },
     "execution_count": 13,
     "metadata": {},
     "output_type": "execute_result"
    }
   ],
   "source": [
    "# Instantiate Scaler Object\n",
    "scaler2 = RobustScaler()\n",
    "\n",
    "# Apply to X data\n",
    "X_train_robust = scaler2.fit_transform(X_train)\n",
    "X_test_robust = scaler2.transform(X_test)\n",
    "\n",
    "# Look at the transformed data\n",
    "X_train_robust[:5]"
   ]
  },
  {
   "cell_type": "code",
   "execution_count": 14,
   "metadata": {},
   "outputs": [
    {
     "data": {
      "text/plain": [
       "0.8044692737430168"
      ]
     },
     "execution_count": 14,
     "metadata": {},
     "output_type": "execute_result"
    }
   ],
   "source": [
    "# Train the model\n",
    "lr3 = LogisticRegression()\n",
    "lr3.fit(X_train_robust, y_train)\n",
    "lr3.score(X_test_robust, y_test)"
   ]
  },
  {
   "cell_type": "code",
   "execution_count": 15,
   "metadata": {},
   "outputs": [
    {
     "name": "stdout",
     "output_type": "stream",
     "text": [
      "Accuracy_Score: 0.8044692737430168\n",
      "Precision_Score: 0.782608695652174\n",
      "Recall_Score: 0.7297297297297297\n"
     ]
    }
   ],
   "source": [
    "res3 = calc_cost(y_test, lr3.predict(X_test_robust))"
   ]
  },
  {
   "cell_type": "markdown",
   "metadata": {},
   "source": [
    "### Min Max Scaler"
   ]
  },
  {
   "cell_type": "code",
   "execution_count": 16,
   "metadata": {},
   "outputs": [
    {
     "data": {
      "text/plain": [
       "array([[0.56647399, 0.        , 0.        , 0.0556283 , 1.        ,\n",
       "        1.        ],\n",
       "       [0.28373963, 0.        , 0.        , 0.02537431, 1.        ,\n",
       "        1.        ],\n",
       "       [0.39683338, 0.        , 0.        , 0.01546857, 1.        ,\n",
       "        1.        ],\n",
       "       [0.32143755, 0.125     , 0.        , 0.01533038, 1.        ,\n",
       "        0.        ],\n",
       "       [0.07011812, 0.5       , 0.33333333, 0.06104473, 0.        ,\n",
       "        0.        ]])"
      ]
     },
     "execution_count": 16,
     "metadata": {},
     "output_type": "execute_result"
    }
   ],
   "source": [
    "# Instantiate Scaler Object\n",
    "scaler3 = MinMaxScaler()\n",
    "\n",
    "# Apply to X data\n",
    "X_train_mm = scaler3.fit_transform(X_train)\n",
    "X_test_mm = scaler3.transform(X_test)\n",
    "\n",
    "# Look at the transformed data\n",
    "X_train_mm[:5]"
   ]
  },
  {
   "cell_type": "code",
   "execution_count": 17,
   "metadata": {},
   "outputs": [
    {
     "data": {
      "text/plain": [
       "0.7988826815642458"
      ]
     },
     "execution_count": 17,
     "metadata": {},
     "output_type": "execute_result"
    }
   ],
   "source": [
    "# Train the model\n",
    "lr4 = LogisticRegression()\n",
    "lr4.fit(X_train_mm, y_train)\n",
    "lr4.score(X_test_mm, y_test)"
   ]
  },
  {
   "cell_type": "code",
   "execution_count": 18,
   "metadata": {},
   "outputs": [
    {
     "name": "stdout",
     "output_type": "stream",
     "text": [
      "Accuracy_Score: 0.7988826815642458\n",
      "Precision_Score: 0.7714285714285715\n",
      "Recall_Score: 0.7297297297297297\n"
     ]
    }
   ],
   "source": [
    "res4 = calc_cost(y_test, lr4.predict(X_test_mm))"
   ]
  },
  {
   "cell_type": "markdown",
   "metadata": {},
   "source": [
    "### One Hot Encoding"
   ]
  },
  {
   "cell_type": "code",
   "execution_count": 19,
   "metadata": {},
   "outputs": [
    {
     "data": {
      "text/html": [
       "<div>\n",
       "<style scoped>\n",
       "    .dataframe tbody tr th:only-of-type {\n",
       "        vertical-align: middle;\n",
       "    }\n",
       "\n",
       "    .dataframe tbody tr th {\n",
       "        vertical-align: top;\n",
       "    }\n",
       "\n",
       "    .dataframe thead th {\n",
       "        text-align: right;\n",
       "    }\n",
       "</style>\n",
       "<table border=\"1\" class=\"dataframe\">\n",
       "  <thead>\n",
       "    <tr style=\"text-align: right;\">\n",
       "      <th></th>\n",
       "      <th>sex</th>\n",
       "      <th>embarked</th>\n",
       "      <th>class</th>\n",
       "      <th>who</th>\n",
       "      <th>adult_male</th>\n",
       "      <th>alone</th>\n",
       "    </tr>\n",
       "  </thead>\n",
       "  <tbody>\n",
       "    <tr>\n",
       "      <th>count</th>\n",
       "      <td>712</td>\n",
       "      <td>712</td>\n",
       "      <td>712</td>\n",
       "      <td>712</td>\n",
       "      <td>712</td>\n",
       "      <td>712</td>\n",
       "    </tr>\n",
       "    <tr>\n",
       "      <th>unique</th>\n",
       "      <td>2</td>\n",
       "      <td>3</td>\n",
       "      <td>3</td>\n",
       "      <td>3</td>\n",
       "      <td>2</td>\n",
       "      <td>2</td>\n",
       "    </tr>\n",
       "    <tr>\n",
       "      <th>top</th>\n",
       "      <td>male</td>\n",
       "      <td>S</td>\n",
       "      <td>Third</td>\n",
       "      <td>man</td>\n",
       "      <td>True</td>\n",
       "      <td>True</td>\n",
       "    </tr>\n",
       "    <tr>\n",
       "      <th>freq</th>\n",
       "      <td>467</td>\n",
       "      <td>525</td>\n",
       "      <td>398</td>\n",
       "      <td>432</td>\n",
       "      <td>432</td>\n",
       "      <td>429</td>\n",
       "    </tr>\n",
       "  </tbody>\n",
       "</table>\n",
       "</div>"
      ],
      "text/plain": [
       "         sex embarked  class  who adult_male alone\n",
       "count    712      712    712  712        712   712\n",
       "unique     2        3      3    3          2     2\n",
       "top     male        S  Third  man       True  True\n",
       "freq     467      525    398  432        432   429"
      ]
     },
     "execution_count": 19,
     "metadata": {},
     "output_type": "execute_result"
    }
   ],
   "source": [
    "train.describe(exclude=\"number\")"
   ]
  },
  {
   "cell_type": "code",
   "execution_count": 20,
   "metadata": {},
   "outputs": [],
   "source": [
    "# Extract Date Times\n",
    "\n",
    "# Create our One Hot Encoder object\n",
    "one_hot = OneHotEncoder()\n",
    "\n",
    "col_names = [\"class\", \"who\", \"embarked\"]\n",
    "\n",
    "# One Hot encode the column\n",
    "one_hot_df = one_hot.fit_transform(train[col_names]).toarray()\n",
    "one_hot_df_test = one_hot.transform(test[col_names]).toarray()"
   ]
  },
  {
   "cell_type": "code",
   "execution_count": 21,
   "metadata": {},
   "outputs": [
    {
     "data": {
      "text/plain": [
       "[array(['First', 'Second', 'Third'], dtype=object),\n",
       " array(['child', 'man', 'woman'], dtype=object),\n",
       " array(['C', 'Q', 'S'], dtype=object)]"
      ]
     },
     "execution_count": 21,
     "metadata": {},
     "output_type": "execute_result"
    }
   ],
   "source": [
    "# Look at the categories\n",
    "one_hot.categories_"
   ]
  },
  {
   "cell_type": "code",
   "execution_count": 22,
   "metadata": {},
   "outputs": [
    {
     "data": {
      "text/plain": [
       "['class_First',\n",
       " 'class_Second',\n",
       " 'class_Third',\n",
       " 'who_child',\n",
       " 'who_man',\n",
       " 'who_woman',\n",
       " 'embarked_C',\n",
       " 'embarked_Q',\n",
       " 'embarked_S']"
      ]
     },
     "execution_count": 22,
     "metadata": {},
     "output_type": "execute_result"
    }
   ],
   "source": [
    "# Create column names list for one hot encoded features\n",
    "column_names = []\n",
    "\n",
    "for y in range(len(one_hot.categories_)):\n",
    "    for z in range(len(one_hot.categories_[y])):\n",
    "        # print(one_hot.categories_[y][z])\n",
    "        column_names.append(col_names[y]+\"_\"+one_hot.categories_[y][z])\n",
    "\n",
    "\n",
    "column_names"
   ]
  },
  {
   "cell_type": "code",
   "execution_count": 23,
   "metadata": {},
   "outputs": [],
   "source": [
    "def col_names(one_hot_model):\n",
    "    \n",
    "    \"Create columns names list for one hot encoded feature\"\n",
    "    \n",
    "    column_names = []\n",
    "    \n",
    "    col_names = [\"class\", \"who\", \"embarked\"]\n",
    "\n",
    "    for y in range(len(one_hot_model.categories_)):\n",
    "        for z in range(len(one_hot_model.categories_[y])):\n",
    "            # print(one_hot.categories_[y][z])\n",
    "            column_names.append(col_names[y]+\"_\"+one_hot_model.categories_[y][z])\n",
    "            \n",
    "    return column_names\n",
    "\n",
    "column_names = col_names(one_hot)"
   ]
  },
  {
   "cell_type": "code",
   "execution_count": 24,
   "metadata": {},
   "outputs": [
    {
     "data": {
      "text/plain": [
       "array([[1., 0., 0., ..., 0., 0., 1.],\n",
       "       [0., 1., 0., ..., 0., 0., 1.],\n",
       "       [0., 0., 1., ..., 0., 0., 1.],\n",
       "       ...,\n",
       "       [0., 0., 1., ..., 0., 0., 1.],\n",
       "       [1., 0., 0., ..., 0., 0., 1.],\n",
       "       [1., 0., 0., ..., 0., 0., 1.]])"
      ]
     },
     "execution_count": 24,
     "metadata": {},
     "output_type": "execute_result"
    }
   ],
   "source": [
    "# Values for each row\n",
    "one_hot_df"
   ]
  },
  {
   "cell_type": "code",
   "execution_count": 25,
   "metadata": {},
   "outputs": [
    {
     "name": "stdout",
     "output_type": "stream",
     "text": [
      "(712, 9)\n",
      "(179, 9)\n"
     ]
    }
   ],
   "source": [
    "# Cast One Hot Encoded values into a dataframe\n",
    "\n",
    "oh_df = pd.DataFrame(\n",
    "    one_hot_df,\n",
    "    index=train.index,\n",
    "    columns = column_names)\n",
    "\n",
    "oh_df_test = pd.DataFrame(\n",
    "    one_hot_df_test,\n",
    "    index=test.index,\n",
    "    columns = column_names)\n",
    "\n",
    "print(oh_df.shape)\n",
    "print(oh_df_test.shape)"
   ]
  },
  {
   "cell_type": "code",
   "execution_count": 26,
   "metadata": {},
   "outputs": [
    {
     "name": "stdout",
     "output_type": "stream",
     "text": [
      "(712, 17)\n",
      "(179, 17)\n"
     ]
    }
   ],
   "source": [
    "# Create train_new df by mergind train and one hot encoded df together and drop \"class\", \"who\" cols\n",
    "train_new = train.merge(oh_df, on=train.index).set_index(\"key_0\").drop([\"class\", \"who\", \"embarked\"], axis=1)\n",
    "test_new = test.merge(oh_df_test, on=test.index).set_index(\"key_0\").drop([\"class\", \"who\", \"embarked\"], axis=1)\n",
    "\n",
    "print(train_new.shape)\n",
    "print(test_new.shape)"
   ]
  },
  {
   "cell_type": "markdown",
   "metadata": {},
   "source": [
    "### Ordinal Encoder "
   ]
  },
  {
   "cell_type": "code",
   "execution_count": 27,
   "metadata": {},
   "outputs": [],
   "source": [
    "ordinal = OrdinalEncoder()\n",
    "\n",
    "col_names = [\"sex\"]\n",
    "\n",
    "# Ordinal encode the column\n",
    "ordinal_ls = ordinal.fit_transform(train[col_names])\n",
    "ordinal_ls_test = ordinal.transform(test[col_names])"
   ]
  },
  {
   "cell_type": "code",
   "execution_count": 28,
   "metadata": {},
   "outputs": [
    {
     "data": {
      "text/plain": [
       "[array(['female', 'male'], dtype=object)]"
      ]
     },
     "execution_count": 28,
     "metadata": {},
     "output_type": "execute_result"
    }
   ],
   "source": [
    "# Look at categories\n",
    "ordinal.categories_"
   ]
  },
  {
   "cell_type": "code",
   "execution_count": 29,
   "metadata": {},
   "outputs": [],
   "source": [
    "# Add oridnally encoded column to the data\n",
    "train_new[\"sex\"] = ordinal_ls\n",
    "test_new[\"sex\"] = ordinal_ls_test"
   ]
  },
  {
   "cell_type": "markdown",
   "metadata": {},
   "source": [
    "#### Model Using One Hot and Ordinally Encoded Features"
   ]
  },
  {
   "cell_type": "code",
   "execution_count": 30,
   "metadata": {},
   "outputs": [],
   "source": [
    "target = \"survived\"\n",
    "\n",
    "X_train = train_new.drop(target, axis=1)\n",
    "y_train = train_new[target]\n",
    "\n",
    "X_test = test_new.drop(target, axis=1)\n",
    "y_test = test_new[target]"
   ]
  },
  {
   "cell_type": "code",
   "execution_count": 31,
   "metadata": {},
   "outputs": [
    {
     "data": {
      "text/plain": [
       "0.8100558659217877"
      ]
     },
     "execution_count": 31,
     "metadata": {},
     "output_type": "execute_result"
    }
   ],
   "source": [
    "lr5 = LogisticRegression()\n",
    "\n",
    "lr5.fit(X_train, y_train)\n",
    "lr5.score(X_test, y_test)"
   ]
  },
  {
   "cell_type": "code",
   "execution_count": 32,
   "metadata": {},
   "outputs": [
    {
     "name": "stdout",
     "output_type": "stream",
     "text": [
      "Accuracy_Score: 0.8100558659217877\n",
      "Precision_Score: 0.7941176470588235\n",
      "Recall_Score: 0.7297297297297297\n"
     ]
    }
   ],
   "source": [
    "res4 = calc_cost(y_test, lr5.predict(X_test))"
   ]
  },
  {
   "cell_type": "markdown",
   "metadata": {},
   "source": [
    "## Combining Feature Scaling and Feature Engineering"
   ]
  },
  {
   "cell_type": "code",
   "execution_count": 33,
   "metadata": {},
   "outputs": [
    {
     "name": "stdout",
     "output_type": "stream",
     "text": [
      "(712, 16)\n"
     ]
    }
   ],
   "source": [
    "# Make a model with scaled and engineered features\n",
    "\n",
    "# Change column order to make addition of scaled features easier\n",
    "col_order_ls = ['age', 'sibsp', 'parch', 'fare', 'adult_male', 'alone', 'sex', 'class_First', 'class_Second',\n",
    "                'class_Third', 'who_child', 'who_man', 'who_woman', 'embarked_C', 'embarked_Q', 'embarked_S']\n",
    "\n",
    "# Re order columns\n",
    "X_train = X_train[col_order_ls]\n",
    "X_test = X_test[col_order_ls]\n",
    "\n",
    "# Replace column values with values from scaled data\n",
    "X_train[['age', 'sibsp', 'parch', 'fare', 'adult_male', 'alone']] = X_train_scaled\n",
    "X_test[['age', 'sibsp', 'parch', 'fare', 'adult_male', 'alone']] = X_test_scaled\n",
    "\n",
    "print(X_train.shape)"
   ]
  },
  {
   "cell_type": "code",
   "execution_count": 34,
   "metadata": {},
   "outputs": [
    {
     "data": {
      "text/plain": [
       "True"
      ]
     },
     "execution_count": 34,
     "metadata": {},
     "output_type": "execute_result"
    }
   ],
   "source": [
    "# Verify that index values match in both datasets\n",
    "# We expect to see the same number of rows in X_train as the sum value\n",
    "X_train.shape[0] == sum(X_train.index == y_train.index)"
   ]
  },
  {
   "cell_type": "code",
   "execution_count": 35,
   "metadata": {},
   "outputs": [
    {
     "data": {
      "text/plain": [
       "0.8100558659217877"
      ]
     },
     "execution_count": 35,
     "metadata": {},
     "output_type": "execute_result"
    }
   ],
   "source": [
    "# Model\n",
    "lr6 = LogisticRegression()\n",
    "\n",
    "lr6.fit(X_train, y_train)\n",
    "lr6.score(X_test, y_test)"
   ]
  },
  {
   "cell_type": "code",
   "execution_count": 36,
   "metadata": {},
   "outputs": [
    {
     "name": "stdout",
     "output_type": "stream",
     "text": [
      "Accuracy_Score: 0.8100558659217877\n",
      "Precision_Score: 0.7941176470588235\n",
      "Recall_Score: 0.7297297297297297\n"
     ]
    }
   ],
   "source": [
    "res5 = calc_cost(y_test, lr6.predict(X_test))"
   ]
  },
  {
   "cell_type": "markdown",
   "metadata": {},
   "source": [
    "## Percent Decrease in the Cost Function"
   ]
  },
  {
   "cell_type": "code",
   "execution_count": 37,
   "metadata": {},
   "outputs": [
    {
     "name": "stdout",
     "output_type": "stream",
     "text": [
      "Accuracy Score % decrease: 2\n",
      "Precision Score % decrease: 0\n",
      "Recall Score % decrease: -1\n"
     ]
    }
   ],
   "source": [
    "delta_Accuracy_Score = ((res1['Accuracy_Score']- res5['Accuracy_Score'])/res1['Accuracy_Score'])*100\n",
    "delta_Precision_Score = ((res1['Precision_Score']- res5['Precision_Score'])/res1['Precision_Score'])*100\n",
    "delta_Recall_Score = ((res1['Recall_Score']- res5['Recall_Score'])/res1['Recall_Score'])*100\n",
    "\n",
    "delta_ls = [round(delta_Accuracy_Score), round(delta_Precision_Score), round(delta_Recall_Score)]\n",
    "delta_ls2 = [\"Accuracy Score % decrease\", \"Precision Score % decrease\", \"Recall Score % decrease\"]\n",
    "    \n",
    "for x in range(len(delta_ls)):\n",
    "    print(f\"{delta_ls2[x]}: {delta_ls[x]}\")\n",
    "        "
   ]
  },
  {
   "cell_type": "markdown",
   "metadata": {},
   "source": [
    "# Saving and Loading"
   ]
  },
  {
   "cell_type": "code",
   "execution_count": 38,
   "metadata": {},
   "outputs": [
    {
     "data": {
      "text/plain": [
       "['C:\\\\Users\\\\-\\\\Downloads\\\\Feature_Engineering\\\\model_2021_06_22']"
      ]
     },
     "execution_count": 38,
     "metadata": {},
     "output_type": "execute_result"
    }
   ],
   "source": [
    "# Save the model as todays date\n",
    "today = str(datetime.datetime.today())[:10].replace(\"-\", \"_\")\n",
    "\n",
    "joblib.dump(scaler, f\"C:\\\\Users\\\\-\\\\Downloads\\\\Feature_Engineering\\\\scaler_{today}\")\n",
    "joblib.dump(one_hot, f\"C:\\\\Users\\\\-\\\\Downloads\\\\Feature_Engineering\\\\one_hot_{today}\")\n",
    "joblib.dump(ordinal, f\"C:\\\\Users\\\\-\\\\Downloads\\\\Feature_Engineering\\\\ordinal_{today}\")\n",
    "joblib.dump(lr6, f\"C:\\\\Users\\\\-\\\\Downloads\\\\Feature_Engineering\\\\model_{today}\")"
   ]
  },
  {
   "cell_type": "markdown",
   "metadata": {},
   "source": [
    "## Final Results"
   ]
  },
  {
   "cell_type": "code",
   "execution_count": 39,
   "metadata": {},
   "outputs": [
    {
     "data": {
      "image/png": "[encoded data removed]",
      "text/plain": [
       "<Figure size 432x288 with 1 Axes>"
      ]
     },
     "metadata": {},
     "output_type": "display_data"
    },
    {
     "data": {
      "image/png": "[encoded data removed]",
      "text/plain": [
       "<Figure size 432x288 with 1 Axes>"
      ]
     },
     "metadata": {},
     "output_type": "display_data"
    },
    {
     "data": {
      "image/png": "[encoded data removed]",
      "text/plain": [
       "<Figure size 432x288 with 1 Axes>"
      ]
     },
     "metadata": {},
     "output_type": "display_data"
    }
   ],
   "source": [
    "model_ls = [\"baseline\", \"Standard\", \"Robust\", \"MinMax\", \"Encoded\", \"Scaled & Engineered\"]\n",
    "result_ls = [res0, res1, res2, res3, res4, res5]\n",
    "\n",
    "res_df = pd.DataFrame(result_ls, index=model_ls)\n",
    "\n",
    "for x in [\"Accuracy_Score\", \"Precision_Score\", \"Recall_Score\"]:\n",
    "    res_df.loc[:,res_df.columns == x].sort_values(by=x).plot(kind=\"bar\", title=f\"Model Scores: {x}\")"
   ]
  }
 ],
 "metadata": {
  "kernelspec": {
   "display_name": "Python [default]",
   "language": "python",
   "name": "python3"
  },
  "language_info": {
   "codemirror_mode": {
    "name": "ipython",
    "version": 3
   },
   "file_extension": ".py",
   "mimetype": "text/x-python",
   "name": "python",
   "nbconvert_exporter": "python",
   "pygments_lexer": "ipython3",
   "version": "3.7.1"
  }
 },
 "nbformat": 4,
 "nbformat_minor": 4
}
