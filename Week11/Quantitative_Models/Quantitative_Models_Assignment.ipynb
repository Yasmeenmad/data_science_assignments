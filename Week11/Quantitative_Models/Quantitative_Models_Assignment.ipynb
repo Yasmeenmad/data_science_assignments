{
 "cells": [
  {
   "cell_type": "markdown",
   "metadata": {},
   "source": [
    "#  Feature Scaling & Feature Engineering\n",
    "\n",
    "![](https://static01.nyt.com/images/2020/11/29/fashion/24DIAMONDREPLICA2/24DIAMONDREPLICA2-superJumbo.jpg)\n",
    "\n",
    "Feature scaling is a method used to normalize the range of independent variables or features of data. In data processing, it is also known as data normalization and is generally performed during the data preprocessing step.\n",
    "\n",
    "Since the range of values of raw data varies widely, in some machine learning algorithms, objective functions will not work properly without normalization. For example, many classifiers calculate the distance between two points by the Euclidean distance. If one of the features has a broad range of values, the distance will be governed by this particular feature. Therefore, the range of all features should be normalized so that each feature contributes approximately proportionately to the final distance.\n",
    "\n",
    "Another reason why feature scaling is applied is that gradient descent converges much faster with feature scaling than without it.\n",
    "\n",
    "The idea with gradient descent is to take repeated steps in the opposite direction of the gradient (or approximate gradient) of the function at the current point, because this is the direction of steepest descent. Conversely, stepping in the direction of the gradient will lead to a local maximum of that function; the procedure is then known as gradient ascent.\n",
    "\n",
    "![](https://kevinbinz.files.wordpress.com/2019/05/gradient_descent_line_graph.gif)\n",
    "\n",
    "- [Feature Scaling Reference](https://en.wikipedia.org/wiki/Feature_scaling#:~:text=a%20distance%20measure.-,Application,scaling%20changes%20the%20SVM%20result.)\n",
    "- [Gradient Descent Reference](https://en.wikipedia.org/wiki/Gradient_descent)"
   ]
  },
  {
   "cell_type": "code",
   "execution_count": 1,
   "metadata": {},
   "outputs": [],
   "source": [
    "import pandas as pd\n",
    "import numpy as np\n",
    "import matplotlib.pyplot as plt\n",
    "import seaborn as sns\n",
    "\n",
    "from sklearn.model_selection import train_test_split\n",
    "from sklearn.linear_model import LinearRegression\n",
    "\n",
    "# Cost Functions\n",
    "from sklearn.metrics import mean_squared_error\n",
    "from sklearn.metrics import mean_absolute_error\n",
    "\n",
    "# Scalers\n",
    "from sklearn.preprocessing import StandardScaler\n",
    "from sklearn.preprocessing import RobustScaler\n",
    "from sklearn.preprocessing import MinMaxScaler\n",
    "\n",
    "# Feature Engineering\n",
    "from sklearn.preprocessing import OneHotEncoder\n",
    "from sklearn.preprocessing import OrdinalEncoder\n",
    "\n",
    "# Plot style\n",
    "plt.style.use(\"seaborn-whitegrid\")"
   ]
  },
  {
   "cell_type": "code",
   "execution_count": 2,
   "metadata": {},
   "outputs": [],
   "source": [
    "# Load Data\n",
    "df = sns.load_dataset(\"diamonds\")\n",
    "\n",
    "# original dataset (100 records 80%20%) --> init_train (80 records) and test (20 records)\n",
    "# init_train (80 records 80%20%) --> train_actual (64 records) and vali (16 records)\n",
    "\n",
    "# EDA will happen on init_train --> train the model on train_actual --> test in vali\n",
    "# keep looping until you are happy about the model performance \n",
    "\n",
    "# test the model on the bild dataset \"test\"\n",
    "\n",
    "\n",
    "# Split Data\n",
    "train, test = train_test_split(\n",
    "    df, \n",
    "    train_size = .80,\n",
    "    test_size =.20,\n",
    "    random_state=42\n",
    ")\n",
    "\n",
    "train, val = train_test_split(\n",
    "    train,\n",
    "    train_size = .80,\n",
    "    test_size = .20,\n",
    "    random_state=42\n",
    ")"
   ]
  },
  {
   "cell_type": "code",
   "execution_count": 3,
   "metadata": {
    "scrolled": false
   },
   "outputs": [
    {
     "data": {
      "text/html": [
       "<div>\n",
       "<style scoped>\n",
       "    .dataframe tbody tr th:only-of-type {\n",
       "        vertical-align: middle;\n",
       "    }\n",
       "\n",
       "    .dataframe tbody tr th {\n",
       "        vertical-align: top;\n",
       "    }\n",
       "\n",
       "    .dataframe thead th {\n",
       "        text-align: right;\n",
       "    }\n",
       "</style>\n",
       "<table border=\"1\" class=\"dataframe\">\n",
       "  <thead>\n",
       "    <tr style=\"text-align: right;\">\n",
       "      <th></th>\n",
       "      <th>carat</th>\n",
       "      <th>cut</th>\n",
       "      <th>color</th>\n",
       "      <th>clarity</th>\n",
       "      <th>depth</th>\n",
       "      <th>table</th>\n",
       "      <th>price</th>\n",
       "      <th>x</th>\n",
       "      <th>y</th>\n",
       "      <th>z</th>\n",
       "    </tr>\n",
       "  </thead>\n",
       "  <tbody>\n",
       "    <tr>\n",
       "      <th>6881</th>\n",
       "      <td>1.16</td>\n",
       "      <td>Good</td>\n",
       "      <td>F</td>\n",
       "      <td>SI2</td>\n",
       "      <td>60.8</td>\n",
       "      <td>65.0</td>\n",
       "      <td>4131</td>\n",
       "      <td>6.78</td>\n",
       "      <td>6.75</td>\n",
       "      <td>4.11</td>\n",
       "    </tr>\n",
       "    <tr>\n",
       "      <th>15412</th>\n",
       "      <td>1.51</td>\n",
       "      <td>Premium</td>\n",
       "      <td>I</td>\n",
       "      <td>SI2</td>\n",
       "      <td>61.3</td>\n",
       "      <td>55.0</td>\n",
       "      <td>6173</td>\n",
       "      <td>7.41</td>\n",
       "      <td>7.36</td>\n",
       "      <td>4.53</td>\n",
       "    </tr>\n",
       "    <tr>\n",
       "      <th>3782</th>\n",
       "      <td>1.01</td>\n",
       "      <td>Good</td>\n",
       "      <td>G</td>\n",
       "      <td>SI2</td>\n",
       "      <td>64.0</td>\n",
       "      <td>59.0</td>\n",
       "      <td>3461</td>\n",
       "      <td>6.34</td>\n",
       "      <td>6.31</td>\n",
       "      <td>4.05</td>\n",
       "    </tr>\n",
       "    <tr>\n",
       "      <th>34635</th>\n",
       "      <td>0.31</td>\n",
       "      <td>Ideal</td>\n",
       "      <td>E</td>\n",
       "      <td>VS2</td>\n",
       "      <td>61.9</td>\n",
       "      <td>55.0</td>\n",
       "      <td>872</td>\n",
       "      <td>4.39</td>\n",
       "      <td>4.36</td>\n",
       "      <td>2.71</td>\n",
       "    </tr>\n",
       "    <tr>\n",
       "      <th>37155</th>\n",
       "      <td>0.32</td>\n",
       "      <td>Ideal</td>\n",
       "      <td>D</td>\n",
       "      <td>VS2</td>\n",
       "      <td>61.0</td>\n",
       "      <td>57.0</td>\n",
       "      <td>972</td>\n",
       "      <td>4.46</td>\n",
       "      <td>4.42</td>\n",
       "      <td>2.71</td>\n",
       "    </tr>\n",
       "  </tbody>\n",
       "</table>\n",
       "</div>"
      ],
      "text/plain": [
       "       carat      cut color clarity  depth  table  price     x     y     z\n",
       "6881    1.16     Good     F     SI2   60.8   65.0   4131  6.78  6.75  4.11\n",
       "15412   1.51  Premium     I     SI2   61.3   55.0   6173  7.41  7.36  4.53\n",
       "3782    1.01     Good     G     SI2   64.0   59.0   3461  6.34  6.31  4.05\n",
       "34635   0.31    Ideal     E     VS2   61.9   55.0    872  4.39  4.36  2.71\n",
       "37155   0.32    Ideal     D     VS2   61.0   57.0    972  4.46  4.42  2.71"
      ]
     },
     "execution_count": 3,
     "metadata": {},
     "output_type": "execute_result"
    }
   ],
   "source": [
    "train.head()"
   ]
  },
  {
   "cell_type": "code",
   "execution_count": 4,
   "metadata": {},
   "outputs": [
    {
     "name": "stdout",
     "output_type": "stream",
     "text": [
      "<class 'pandas.core.frame.DataFrame'>\n",
      "Int64Index: 34521 entries, 6881 to 49854\n",
      "Data columns (total 10 columns):\n",
      " #   Column   Non-Null Count  Dtype   \n",
      "---  ------   --------------  -----   \n",
      " 0   carat    34521 non-null  float64 \n",
      " 1   cut      34521 non-null  category\n",
      " 2   color    34521 non-null  category\n",
      " 3   clarity  34521 non-null  category\n",
      " 4   depth    34521 non-null  float64 \n",
      " 5   table    34521 non-null  float64 \n",
      " 6   price    34521 non-null  int64   \n",
      " 7   x        34521 non-null  float64 \n",
      " 8   y        34521 non-null  float64 \n",
      " 9   z        34521 non-null  float64 \n",
      "dtypes: category(3), float64(6), int64(1)\n",
      "memory usage: 2.2 MB\n"
     ]
    }
   ],
   "source": [
    "train.info()"
   ]
  },
  {
   "cell_type": "code",
   "execution_count": 5,
   "metadata": {},
   "outputs": [
    {
     "data": {
      "text/plain": [
       "carat       float64\n",
       "cut        category\n",
       "color      category\n",
       "clarity    category\n",
       "depth       float64\n",
       "table       float64\n",
       "price         int64\n",
       "x           float64\n",
       "y           float64\n",
       "z           float64\n",
       "dtype: object"
      ]
     },
     "execution_count": 5,
     "metadata": {},
     "output_type": "execute_result"
    }
   ],
   "source": [
    "# Model with only numeric features\n",
    "train.dtypes"
   ]
  },
  {
   "cell_type": "code",
   "execution_count": 6,
   "metadata": {},
   "outputs": [
    {
     "data": {
      "text/plain": [
       "array([ True, False, False, False,  True,  True,  True,  True,  True,\n",
       "        True])"
      ]
     },
     "execution_count": 6,
     "metadata": {},
     "output_type": "execute_result"
    }
   ],
   "source": [
    "(df.dtypes != \"category\").values & (df.dtypes != \"object\").values "
   ]
  },
  {
   "cell_type": "code",
   "execution_count": 7,
   "metadata": {},
   "outputs": [],
   "source": [
    "def cleaner(df):\n",
    "    \n",
    "    \"Return Only Numeric Features\"\n",
    "    \n",
    "    # Create boolean array with only columns that are float64\n",
    "    columns_bool = (df.dtypes != \"category\").values & (df.dtypes != \"object\").values \n",
    "\n",
    "    # Return only numeric columns\n",
    "    df = df.iloc[:, columns_bool].dropna()\n",
    "\n",
    "    return df\n",
    "\n",
    "train_numeric = cleaner(train)\n",
    "test_numeric = cleaner(test)"
   ]
  },
  {
   "cell_type": "code",
   "execution_count": 8,
   "metadata": {},
   "outputs": [],
   "source": [
    "# Create X, y train and validation sets\n",
    "\n",
    "target = \"price\"\n",
    "\n",
    "# feature set --> everything except for price --> X_train\n",
    "# target set/column --> price --> y_train\n",
    "\n",
    "X_train = train_numeric.drop(target, axis=1)\n",
    "y_train = train_numeric[target]\n",
    "\n",
    "X_test = test_numeric.drop(target, axis=1)\n",
    "y_test = test_numeric[target]"
   ]
  },
  {
   "cell_type": "code",
   "execution_count": 9,
   "metadata": {},
   "outputs": [
    {
     "data": {
      "text/plain": [
       "0.8589396072085457"
      ]
     },
     "execution_count": 9,
     "metadata": {},
     "output_type": "execute_result"
    }
   ],
   "source": [
    "lr = LinearRegression()\n",
    "lr.fit(X_train, y_train)\n",
    "lr.score(X_test, y_test)"
   ]
  },
  {
   "cell_type": "code",
   "execution_count": 10,
   "metadata": {},
   "outputs": [
    {
     "data": {
      "text/plain": [
       "array([10648.67477587,  -200.44764091,  -105.60923409, -1273.05445187,\n",
       "          38.36164601,    54.22385327])"
      ]
     },
     "execution_count": 10,
     "metadata": {},
     "output_type": "execute_result"
    }
   ],
   "source": [
    "lr.coef_"
   ]
  },
  {
   "cell_type": "code",
   "execution_count": 11,
   "metadata": {},
   "outputs": [
    {
     "data": {
      "text/plain": [
       "20770.152708563564"
      ]
     },
     "execution_count": 11,
     "metadata": {},
     "output_type": "execute_result"
    }
   ],
   "source": [
    "lr.intercept_"
   ]
  },
  {
   "cell_type": "code",
   "execution_count": 12,
   "metadata": {
    "scrolled": true
   },
   "outputs": [
    {
     "data": {
      "text/html": [
       "<div>\n",
       "<style scoped>\n",
       "    .dataframe tbody tr th:only-of-type {\n",
       "        vertical-align: middle;\n",
       "    }\n",
       "\n",
       "    .dataframe tbody tr th {\n",
       "        vertical-align: top;\n",
       "    }\n",
       "\n",
       "    .dataframe thead th {\n",
       "        text-align: right;\n",
       "    }\n",
       "</style>\n",
       "<table border=\"1\" class=\"dataframe\">\n",
       "  <thead>\n",
       "    <tr style=\"text-align: right;\">\n",
       "      <th></th>\n",
       "      <th>carat</th>\n",
       "      <th>depth</th>\n",
       "      <th>table</th>\n",
       "      <th>x</th>\n",
       "      <th>y</th>\n",
       "      <th>z</th>\n",
       "      <th>price</th>\n",
       "    </tr>\n",
       "  </thead>\n",
       "  <tbody>\n",
       "    <tr>\n",
       "      <th>6881</th>\n",
       "      <td>1.16</td>\n",
       "      <td>60.8</td>\n",
       "      <td>65.0</td>\n",
       "      <td>6.78</td>\n",
       "      <td>6.75</td>\n",
       "      <td>4.11</td>\n",
       "      <td>4131</td>\n",
       "    </tr>\n",
       "    <tr>\n",
       "      <th>15412</th>\n",
       "      <td>1.51</td>\n",
       "      <td>61.3</td>\n",
       "      <td>55.0</td>\n",
       "      <td>7.41</td>\n",
       "      <td>7.36</td>\n",
       "      <td>4.53</td>\n",
       "      <td>6173</td>\n",
       "    </tr>\n",
       "    <tr>\n",
       "      <th>3782</th>\n",
       "      <td>1.01</td>\n",
       "      <td>64.0</td>\n",
       "      <td>59.0</td>\n",
       "      <td>6.34</td>\n",
       "      <td>6.31</td>\n",
       "      <td>4.05</td>\n",
       "      <td>3461</td>\n",
       "    </tr>\n",
       "    <tr>\n",
       "      <th>34635</th>\n",
       "      <td>0.31</td>\n",
       "      <td>61.9</td>\n",
       "      <td>55.0</td>\n",
       "      <td>4.39</td>\n",
       "      <td>4.36</td>\n",
       "      <td>2.71</td>\n",
       "      <td>872</td>\n",
       "    </tr>\n",
       "    <tr>\n",
       "      <th>37155</th>\n",
       "      <td>0.32</td>\n",
       "      <td>61.0</td>\n",
       "      <td>57.0</td>\n",
       "      <td>4.46</td>\n",
       "      <td>4.42</td>\n",
       "      <td>2.71</td>\n",
       "      <td>972</td>\n",
       "    </tr>\n",
       "    <tr>\n",
       "      <th>...</th>\n",
       "      <td>...</td>\n",
       "      <td>...</td>\n",
       "      <td>...</td>\n",
       "      <td>...</td>\n",
       "      <td>...</td>\n",
       "      <td>...</td>\n",
       "      <td>...</td>\n",
       "    </tr>\n",
       "    <tr>\n",
       "      <th>15653</th>\n",
       "      <td>1.54</td>\n",
       "      <td>61.5</td>\n",
       "      <td>61.0</td>\n",
       "      <td>7.41</td>\n",
       "      <td>7.31</td>\n",
       "      <td>4.53</td>\n",
       "      <td>6278</td>\n",
       "    </tr>\n",
       "    <tr>\n",
       "      <th>30039</th>\n",
       "      <td>0.32</td>\n",
       "      <td>61.3</td>\n",
       "      <td>56.0</td>\n",
       "      <td>4.40</td>\n",
       "      <td>4.44</td>\n",
       "      <td>2.71</td>\n",
       "      <td>719</td>\n",
       "    </tr>\n",
       "    <tr>\n",
       "      <th>47963</th>\n",
       "      <td>0.52</td>\n",
       "      <td>61.2</td>\n",
       "      <td>58.0</td>\n",
       "      <td>5.20</td>\n",
       "      <td>5.16</td>\n",
       "      <td>3.17</td>\n",
       "      <td>1919</td>\n",
       "    </tr>\n",
       "    <tr>\n",
       "      <th>48105</th>\n",
       "      <td>0.50</td>\n",
       "      <td>60.7</td>\n",
       "      <td>57.0</td>\n",
       "      <td>5.14</td>\n",
       "      <td>5.10</td>\n",
       "      <td>3.11</td>\n",
       "      <td>1935</td>\n",
       "    </tr>\n",
       "    <tr>\n",
       "      <th>49854</th>\n",
       "      <td>0.63</td>\n",
       "      <td>60.4</td>\n",
       "      <td>58.0</td>\n",
       "      <td>5.59</td>\n",
       "      <td>5.64</td>\n",
       "      <td>3.39</td>\n",
       "      <td>2171</td>\n",
       "    </tr>\n",
       "  </tbody>\n",
       "</table>\n",
       "<p>34521 rows × 7 columns</p>\n",
       "</div>"
      ],
      "text/plain": [
       "       carat  depth  table     x     y     z  price\n",
       "6881    1.16   60.8   65.0  6.78  6.75  4.11   4131\n",
       "15412   1.51   61.3   55.0  7.41  7.36  4.53   6173\n",
       "3782    1.01   64.0   59.0  6.34  6.31  4.05   3461\n",
       "34635   0.31   61.9   55.0  4.39  4.36  2.71    872\n",
       "37155   0.32   61.0   57.0  4.46  4.42  2.71    972\n",
       "...      ...    ...    ...   ...   ...   ...    ...\n",
       "15653   1.54   61.5   61.0  7.41  7.31  4.53   6278\n",
       "30039   0.32   61.3   56.0  4.40  4.44  2.71    719\n",
       "47963   0.52   61.2   58.0  5.20  5.16  3.17   1919\n",
       "48105   0.50   60.7   57.0  5.14  5.10  3.11   1935\n",
       "49854   0.63   60.4   58.0  5.59  5.64  3.39   2171\n",
       "\n",
       "[34521 rows x 7 columns]"
      ]
     },
     "execution_count": 12,
     "metadata": {},
     "output_type": "execute_result"
    }
   ],
   "source": [
    "pd.concat([X_train, y_train], axis = 1)"
   ]
  },
  {
   "cell_type": "markdown",
   "metadata": {},
   "source": [
    " # Using Model for one record prediction\n",
    " \n",
    " ## y = (a x1) + (b x2) + (c x3) + (d x4) + (e x5) + (f x6) + (g x7) + intercept\n",
    " \n",
    " ### where [a,b,c,d,e,f,g] are the coeffecients from lr.coef_"
   ]
  },
  {
   "cell_type": "code",
   "execution_count": 13,
   "metadata": {},
   "outputs": [
    {
     "data": {
      "text/plain": [
       "array([5921.])"
      ]
     },
     "execution_count": 13,
     "metadata": {},
     "output_type": "execute_result"
    }
   ],
   "source": [
    "# predicting resutls from the model\n",
    "\n",
    "np.round(lr.predict([[1.16, 60.8, 65, 6.78,6.75,4.11]]))"
   ]
  },
  {
   "cell_type": "code",
   "execution_count": 14,
   "metadata": {},
   "outputs": [
    {
     "name": "stdout",
     "output_type": "stream",
     "text": [
      "Baseline\n",
      "MSE: 15959446.675367089\n",
      "MAE: 3040.771604515672\n",
      "RMSE: 3994.927618288858\n",
      "\n",
      "Linear Regression\n",
      "MSE: 2273010.749657636\n",
      "MAE: 897.1133312353487\n",
      "RMSE: 1507.6507386187413\n"
     ]
    }
   ],
   "source": [
    "def calc_cost(y_true, y_predict):\n",
    "    \n",
    "    \"Calculate Cost Functions and print output\"\n",
    "    \n",
    "    result_dict = {}\n",
    "    \n",
    "    mse = mean_squared_error(y_true, y_predict)\n",
    "    mae = mean_absolute_error(y_true, y_predict)\n",
    "    rmse = mean_squared_error(y_true, y_predict, squared=False)\n",
    "    \n",
    "    ls = [mse, mae, rmse]\n",
    "    ls2 = [\"MSE\", \"MAE\", \"RMSE\"]\n",
    "    \n",
    "    for x in range(len(ls)):\n",
    "        print(f\"{ls2[x]}: {ls[x]}\")\n",
    "        result_dict[ls2[x]] = ls[x]\n",
    "    \n",
    "    return result_dict\n",
    "\n",
    "# Save results to object and print results\n",
    "print(\"Baseline\")\n",
    "b_preds = [y_train.mean() for x in range(len(y_train))]\n",
    "res0 = calc_cost(y_train, b_preds)\n",
    "\n",
    "print(\"\\nLinear Regression\")\n",
    "res1 = calc_cost(y_train, lr.predict(X_train))"
   ]
  },
  {
   "cell_type": "code",
   "execution_count": 15,
   "metadata": {},
   "outputs": [
    {
     "data": {
      "text/html": [
       "<div>\n",
       "<style scoped>\n",
       "    .dataframe tbody tr th:only-of-type {\n",
       "        vertical-align: middle;\n",
       "    }\n",
       "\n",
       "    .dataframe tbody tr th {\n",
       "        vertical-align: top;\n",
       "    }\n",
       "\n",
       "    .dataframe thead th {\n",
       "        text-align: right;\n",
       "    }\n",
       "</style>\n",
       "<table border=\"1\" class=\"dataframe\">\n",
       "  <thead>\n",
       "    <tr style=\"text-align: right;\">\n",
       "      <th></th>\n",
       "      <th>carat</th>\n",
       "      <th>depth</th>\n",
       "      <th>table</th>\n",
       "      <th>price</th>\n",
       "      <th>x</th>\n",
       "      <th>y</th>\n",
       "      <th>z</th>\n",
       "    </tr>\n",
       "  </thead>\n",
       "  <tbody>\n",
       "    <tr>\n",
       "      <th>count</th>\n",
       "      <td>53940.000000</td>\n",
       "      <td>53940.000000</td>\n",
       "      <td>53940.000000</td>\n",
       "      <td>53940.000000</td>\n",
       "      <td>53940.000000</td>\n",
       "      <td>53940.000000</td>\n",
       "      <td>53940.000000</td>\n",
       "    </tr>\n",
       "    <tr>\n",
       "      <th>mean</th>\n",
       "      <td>0.797940</td>\n",
       "      <td>61.749405</td>\n",
       "      <td>57.457184</td>\n",
       "      <td>3932.799722</td>\n",
       "      <td>5.731157</td>\n",
       "      <td>5.734526</td>\n",
       "      <td>3.538734</td>\n",
       "    </tr>\n",
       "    <tr>\n",
       "      <th>std</th>\n",
       "      <td>0.474011</td>\n",
       "      <td>1.432621</td>\n",
       "      <td>2.234491</td>\n",
       "      <td>3989.439738</td>\n",
       "      <td>1.121761</td>\n",
       "      <td>1.142135</td>\n",
       "      <td>0.705699</td>\n",
       "    </tr>\n",
       "    <tr>\n",
       "      <th>min</th>\n",
       "      <td>0.200000</td>\n",
       "      <td>43.000000</td>\n",
       "      <td>43.000000</td>\n",
       "      <td>326.000000</td>\n",
       "      <td>0.000000</td>\n",
       "      <td>0.000000</td>\n",
       "      <td>0.000000</td>\n",
       "    </tr>\n",
       "    <tr>\n",
       "      <th>25%</th>\n",
       "      <td>0.400000</td>\n",
       "      <td>61.000000</td>\n",
       "      <td>56.000000</td>\n",
       "      <td>950.000000</td>\n",
       "      <td>4.710000</td>\n",
       "      <td>4.720000</td>\n",
       "      <td>2.910000</td>\n",
       "    </tr>\n",
       "    <tr>\n",
       "      <th>50%</th>\n",
       "      <td>0.700000</td>\n",
       "      <td>61.800000</td>\n",
       "      <td>57.000000</td>\n",
       "      <td>2401.000000</td>\n",
       "      <td>5.700000</td>\n",
       "      <td>5.710000</td>\n",
       "      <td>3.530000</td>\n",
       "    </tr>\n",
       "    <tr>\n",
       "      <th>75%</th>\n",
       "      <td>1.040000</td>\n",
       "      <td>62.500000</td>\n",
       "      <td>59.000000</td>\n",
       "      <td>5324.250000</td>\n",
       "      <td>6.540000</td>\n",
       "      <td>6.540000</td>\n",
       "      <td>4.040000</td>\n",
       "    </tr>\n",
       "    <tr>\n",
       "      <th>max</th>\n",
       "      <td>5.010000</td>\n",
       "      <td>79.000000</td>\n",
       "      <td>95.000000</td>\n",
       "      <td>18823.000000</td>\n",
       "      <td>10.740000</td>\n",
       "      <td>58.900000</td>\n",
       "      <td>31.800000</td>\n",
       "    </tr>\n",
       "  </tbody>\n",
       "</table>\n",
       "</div>"
      ],
      "text/plain": [
       "              carat         depth         table         price             x  \\\n",
       "count  53940.000000  53940.000000  53940.000000  53940.000000  53940.000000   \n",
       "mean       0.797940     61.749405     57.457184   3932.799722      5.731157   \n",
       "std        0.474011      1.432621      2.234491   3989.439738      1.121761   \n",
       "min        0.200000     43.000000     43.000000    326.000000      0.000000   \n",
       "25%        0.400000     61.000000     56.000000    950.000000      4.710000   \n",
       "50%        0.700000     61.800000     57.000000   2401.000000      5.700000   \n",
       "75%        1.040000     62.500000     59.000000   5324.250000      6.540000   \n",
       "max        5.010000     79.000000     95.000000  18823.000000     10.740000   \n",
       "\n",
       "                  y             z  \n",
       "count  53940.000000  53940.000000  \n",
       "mean       5.734526      3.538734  \n",
       "std        1.142135      0.705699  \n",
       "min        0.000000      0.000000  \n",
       "25%        4.720000      2.910000  \n",
       "50%        5.710000      3.530000  \n",
       "75%        6.540000      4.040000  \n",
       "max       58.900000     31.800000  "
      ]
     },
     "execution_count": 15,
     "metadata": {},
     "output_type": "execute_result"
    }
   ],
   "source": [
    "df.describe()"
   ]
  },
  {
   "cell_type": "markdown",
   "metadata": {},
   "source": [
    "## Feature Scaling\n",
    "\n",
    "![](https://miro.medium.com/max/2625/1*yR54MSI1jjnf2QeGtt57PA.png)\n",
    "\n",
    "The `sklearn.preprocessing` package provides several common utility functions and transformer classes to change raw feature vectors into a representation that is more suitable for the downstream estimators.\n",
    "\n",
    "In general, learning algorithms benefit from standardization of the data set. If some outliers are present in the set, robust scalers or transformers are more appropriate. The behaviors of the different scalers, transformers, and normalizers on a dataset containing marginal outliers is highlighted in [Compare the effect of different scalers on data with outliers](https://scikit-learn.org/stable/auto_examples/preprocessing/plot_all_scaling.html#sphx-glr-auto-examples-preprocessing-plot-all-scaling-py).\n",
    "\n",
    "Standardization of datasets is a common requirement for many machine learning estimators implemented in scikit-learn; they might behave badly if the individual features do not more or less look like standard normally distributed data: Gaussian with zero mean and unit variance.\n",
    "\n",
    "In practice we often ignore the shape of the distribution and just transform the data to center it by removing the mean value of each feature, then scale it by dividing non-constant features by their standard deviation.\n",
    "\n",
    "For instance, many elements used in the objective function of a learning algorithm (such as the RBF kernel of Support Vector Machines or the l1 and l2 regularizers of linear models) assume that all features are centered around zero and have variance in the same order. If a feature has a variance that is orders of magnitude larger than others, it might dominate the objective function and make the estimator unable to learn from other features correctly as expected.\n",
    "\n",
    "Here is a list of ML algorithms that require feature scaling and some that dont.\n",
    "![](https://miro.medium.com/max/1184/1*5N0SXyZVXUV-MZuxb1mZ2g.png)"
   ]
  },
  {
   "cell_type": "markdown",
   "metadata": {},
   "source": [
    "#### Standard Scaler\n",
    "\n",
    "![](https://cdn-images-1.medium.com/max/800/0*vQEjz0mvylP--30Q.GIF)\n",
    "\n",
    "StandardScaler removes the mean and scales the data to unit variance. The scaling shrinks the range of the feature values as shown in the left figure below. However, the outliers have an influence when computing the empirical mean and standard deviation. Note in particular that because the outliers on each feature have different magnitudes, the spread of the transformed data on each feature is very different: most of the data lie in the [-2, 4] range for the transformed median income feature while the same data is squeezed in the smaller [-0.2, 0.2] range for the transformed number of households.\n",
    "\n",
    "StandardScaler therefore cannot guarantee balanced feature scales in the presence of outliers.\n",
    "\n",
    "![](https://scikit-learn.org/stable/_images/sphx_glr_plot_all_scaling_001.png)\n",
    "![](https://scikit-learn.org/stable/_images/sphx_glr_plot_all_scaling_002.png)\n",
    "\n",
    "The preprocessing module provides the StandardScaler utility class, which is a quick and easy way to perform the following operation on an array-like dataset:\n",
    "\n",
    "```python\n",
    ">>> from sklearn import preprocessing\n",
    ">>> import numpy as np\n",
    ">>> X_train = np.array([[ 1., -1.,  2.],\n",
    "...                     [ 2.,  0.,  0.],\n",
    "...                     [ 0.,  1., -1.]])\n",
    ">>> scaler = preprocessing.StandardScaler().fit(X_train)\n",
    ">>> scaler\n",
    "StandardScaler()\n",
    "\n",
    ">>> scaler.mean_\n",
    "array([1. ..., 0. ..., 0.33...])\n",
    "\n",
    ">>> scaler.scale_\n",
    "array([0.81..., 0.81..., 1.24...])\n",
    "\n",
    ">>> X_scaled = scaler.transform(X_train)\n",
    ">>> X_scaled\n",
    "array([[ 0.  ..., -1.22...,  1.33...],\n",
    "       [ 1.22...,  0.  ..., -0.26...],\n",
    "       [-1.22...,  1.22..., -1.06...]])\n",
    "```\n",
    "\n",
    "[Standard Scaler Docs](https://scikit-learn.org/stable/modules/generated/sklearn.preprocessing.StandardScaler.html)"
   ]
  },
  {
   "cell_type": "code",
   "execution_count": 16,
   "metadata": {},
   "outputs": [
    {
     "data": {
      "text/plain": [
       "array([[ 0.76065523, -0.65936779,  3.38008664,  0.93095265,  0.87228948,\n",
       "         0.79789836],\n",
       "       [ 1.50008953, -0.31065901, -1.10124667,  1.49329074,  1.39958645,\n",
       "         1.38787882],\n",
       "       [ 0.44375482,  1.57236842,  0.69128665,  0.53820859,  0.49194412,\n",
       "         0.71361543],\n",
       "       [-1.03511376,  0.10779153, -1.10124667, -1.20236168, -1.19367736,\n",
       "        -1.16870318],\n",
       "       [-1.01398707, -0.51988428, -0.20498001, -1.13987967, -1.14181208,\n",
       "        -1.16870318]])"
      ]
     },
     "execution_count": 16,
     "metadata": {},
     "output_type": "execute_result"
    }
   ],
   "source": [
    "# Instantiate Scaler Object\n",
    "scaler = StandardScaler()\n",
    "\n",
    "# Apply to X data\n",
    "X_train_scaled = scaler.fit_transform(X_train)\n",
    "X_test_scaled = scaler.transform(X_test)\n",
    "\n",
    "# Look at the transformed data\n",
    "X_train_scaled[:5]"
   ]
  },
  {
   "cell_type": "code",
   "execution_count": 17,
   "metadata": {},
   "outputs": [
    {
     "data": {
      "text/plain": [
       "0.8589396072085457"
      ]
     },
     "execution_count": 17,
     "metadata": {},
     "output_type": "execute_result"
    }
   ],
   "source": [
    "# Train the model\n",
    "lr2 = LinearRegression()\n",
    "lr2.fit(X_train_scaled, y_train)\n",
    "lr2.score(X_test_scaled, y_test)"
   ]
  },
  {
   "cell_type": "code",
   "execution_count": 18,
   "metadata": {},
   "outputs": [
    {
     "name": "stdout",
     "output_type": "stream",
     "text": [
      "MSE: 2242411.878050298\n",
      "MAE: 889.4218078106034\n",
      "RMSE: 1497.4684898355283\n"
     ]
    }
   ],
   "source": [
    "res2 = calc_cost(y_test, lr2.predict(X_test_scaled))"
   ]
  },
  {
   "cell_type": "code",
   "execution_count": 19,
   "metadata": {},
   "outputs": [
    {
     "data": {
      "text/plain": [
       "array([ 5040.38858449,  -287.41409738,  -235.66476004, -1426.23152   ,\n",
       "          44.37841515,    38.60130958])"
      ]
     },
     "execution_count": 19,
     "metadata": {},
     "output_type": "execute_result"
    }
   ],
   "source": [
    "lr2.coef_"
   ]
  },
  {
   "cell_type": "code",
   "execution_count": 20,
   "metadata": {},
   "outputs": [
    {
     "data": {
      "text/html": [
       "<div>\n",
       "<style scoped>\n",
       "    .dataframe tbody tr th:only-of-type {\n",
       "        vertical-align: middle;\n",
       "    }\n",
       "\n",
       "    .dataframe tbody tr th {\n",
       "        vertical-align: top;\n",
       "    }\n",
       "\n",
       "    .dataframe thead th {\n",
       "        text-align: right;\n",
       "    }\n",
       "</style>\n",
       "<table border=\"1\" class=\"dataframe\">\n",
       "  <thead>\n",
       "    <tr style=\"text-align: right;\">\n",
       "      <th></th>\n",
       "      <th>0</th>\n",
       "      <th>1</th>\n",
       "      <th>2</th>\n",
       "      <th>3</th>\n",
       "      <th>4</th>\n",
       "      <th>5</th>\n",
       "    </tr>\n",
       "  </thead>\n",
       "  <tbody>\n",
       "    <tr>\n",
       "      <th>count</th>\n",
       "      <td>3.452100e+04</td>\n",
       "      <td>3.452100e+04</td>\n",
       "      <td>3.452100e+04</td>\n",
       "      <td>3.452100e+04</td>\n",
       "      <td>3.452100e+04</td>\n",
       "      <td>3.452100e+04</td>\n",
       "    </tr>\n",
       "    <tr>\n",
       "      <th>mean</th>\n",
       "      <td>-3.980414e-16</td>\n",
       "      <td>-7.158949e-15</td>\n",
       "      <td>1.496753e-15</td>\n",
       "      <td>5.003208e-16</td>\n",
       "      <td>-2.210605e-16</td>\n",
       "      <td>-6.655051e-16</td>\n",
       "    </tr>\n",
       "    <tr>\n",
       "      <th>std</th>\n",
       "      <td>1.000014e+00</td>\n",
       "      <td>1.000014e+00</td>\n",
       "      <td>1.000014e+00</td>\n",
       "      <td>1.000014e+00</td>\n",
       "      <td>1.000014e+00</td>\n",
       "      <td>1.000014e+00</td>\n",
       "    </tr>\n",
       "    <tr>\n",
       "      <th>min</th>\n",
       "      <td>-1.267507e+00</td>\n",
       "      <td>-1.307340e+01</td>\n",
       "      <td>-3.790047e+00</td>\n",
       "      <td>-5.120876e+00</td>\n",
       "      <td>-4.962554e+00</td>\n",
       "      <td>-4.975482e+00</td>\n",
       "    </tr>\n",
       "    <tr>\n",
       "      <th>25%</th>\n",
       "      <td>-8.449735e-01</td>\n",
       "      <td>-5.198843e-01</td>\n",
       "      <td>-6.531133e-01</td>\n",
       "      <td>-9.078036e-01</td>\n",
       "      <td>-8.738415e-01</td>\n",
       "      <td>-8.877601e-01</td>\n",
       "    </tr>\n",
       "    <tr>\n",
       "      <th>50%</th>\n",
       "      <td>-2.111727e-01</td>\n",
       "      <td>3.804977e-02</td>\n",
       "      <td>-2.049800e-01</td>\n",
       "      <td>-3.305550e-02</td>\n",
       "      <td>-2.670864e-02</td>\n",
       "      <td>-1.683656e-02</td>\n",
       "    </tr>\n",
       "    <tr>\n",
       "      <th>75%</th>\n",
       "      <td>5.282616e-01</td>\n",
       "      <td>5.262421e-01</td>\n",
       "      <td>6.912867e-01</td>\n",
       "      <td>7.256546e-01</td>\n",
       "      <td>6.907610e-01</td>\n",
       "      <td>6.995683e-01</td>\n",
       "    </tr>\n",
       "    <tr>\n",
       "      <th>max</th>\n",
       "      <td>8.894432e+00</td>\n",
       "      <td>1.203363e+01</td>\n",
       "      <td>1.682409e+01</td>\n",
       "      <td>4.465649e+00</td>\n",
       "      <td>4.595186e+01</td>\n",
       "      <td>3.969447e+01</td>\n",
       "    </tr>\n",
       "  </tbody>\n",
       "</table>\n",
       "</div>"
      ],
      "text/plain": [
       "                  0             1             2             3             4  \\\n",
       "count  3.452100e+04  3.452100e+04  3.452100e+04  3.452100e+04  3.452100e+04   \n",
       "mean  -3.980414e-16 -7.158949e-15  1.496753e-15  5.003208e-16 -2.210605e-16   \n",
       "std    1.000014e+00  1.000014e+00  1.000014e+00  1.000014e+00  1.000014e+00   \n",
       "min   -1.267507e+00 -1.307340e+01 -3.790047e+00 -5.120876e+00 -4.962554e+00   \n",
       "25%   -8.449735e-01 -5.198843e-01 -6.531133e-01 -9.078036e-01 -8.738415e-01   \n",
       "50%   -2.111727e-01  3.804977e-02 -2.049800e-01 -3.305550e-02 -2.670864e-02   \n",
       "75%    5.282616e-01  5.262421e-01  6.912867e-01  7.256546e-01  6.907610e-01   \n",
       "max    8.894432e+00  1.203363e+01  1.682409e+01  4.465649e+00  4.595186e+01   \n",
       "\n",
       "                  5  \n",
       "count  3.452100e+04  \n",
       "mean  -6.655051e-16  \n",
       "std    1.000014e+00  \n",
       "min   -4.975482e+00  \n",
       "25%   -8.877601e-01  \n",
       "50%   -1.683656e-02  \n",
       "75%    6.995683e-01  \n",
       "max    3.969447e+01  "
      ]
     },
     "execution_count": 20,
     "metadata": {},
     "output_type": "execute_result"
    }
   ],
   "source": [
    "pd.DataFrame(X_train_scaled).describe()"
   ]
  },
  {
   "cell_type": "markdown",
   "metadata": {},
   "source": [
    "#### Looking at the Parameters of the Model (Weights)\n",
    "\n",
    "We can look at calculated parameters of the model side by side and notice the scales have changed. Looking at the parameters of the model can help us understand which features or more important. "
   ]
  },
  {
   "cell_type": "code",
   "execution_count": 21,
   "metadata": {},
   "outputs": [
    {
     "data": {
      "image/png": "[encoded data removed]",
      "text/plain": [
       "<Figure size 432x288 with 2 Axes>"
      ]
     },
     "metadata": {},
     "output_type": "display_data"
    }
   ],
   "source": [
    "fig, ax = plt.subplots(1,2)\n",
    "\n",
    "pd.Series(lr.coef_).plot(kind=\"bar\", title=\"Coefficients Lr1\", ax=ax[0])\n",
    "pd.Series(lr2.coef_).plot(kind=\"bar\", title=\"Coefficients Lr2\", ax=ax[1]);"
   ]
  },
  {
   "cell_type": "markdown",
   "metadata": {},
   "source": [
    "#### Robust Scaler\n",
    "\n",
    "Scale features using statistics that are robust to outliers.\n",
    "\n",
    "This Scaler removes the median and scales the data according to the quantile range (defaults to IQR: Interquartile Range). The IQR is the range between the 1st quartile (25th quantile) and the 3rd quartile (75th quantile).\n",
    "\n",
    "Centering and scaling happen independently on each feature by computing the relevant statistics on the samples in the training set. Median and interquartile range are then stored to be used on later data using the transform method.\n",
    "\n",
    "Standardization of a dataset is a common requirement for many machine learning estimators. Typically this is done by removing the mean and scaling to unit variance. However, outliers can often influence the sample mean / variance in a negative way. In such cases, the median and the interquartile range often give better results.\n",
    "\n",
    "[Robust Scaler Docs](https://scikit-learn.org/stable/modules/generated/sklearn.preprocessing.RobustScaler.html)"
   ]
  },
  {
   "cell_type": "code",
   "execution_count": 22,
   "metadata": {},
   "outputs": [
    {
     "data": {
      "text/plain": [
       "array([[ 0.70769231, -0.66666667,  2.66666667,  0.59016393,  0.57458564,\n",
       "         0.51327434],\n",
       "       [ 1.24615385, -0.33333333, -0.66666667,  0.93442623,  0.91160221,\n",
       "         0.88495575],\n",
       "       [ 0.47692308,  1.46666667,  0.66666667,  0.34972678,  0.33149171,\n",
       "         0.46017699],\n",
       "       [-0.6       ,  0.06666667, -0.66666667, -0.71584699, -0.74585635,\n",
       "        -0.72566372],\n",
       "       [-0.58461538, -0.53333333,  0.        , -0.67759563, -0.71270718,\n",
       "        -0.72566372]])"
      ]
     },
     "execution_count": 22,
     "metadata": {},
     "output_type": "execute_result"
    }
   ],
   "source": [
    "# Instantiate Scaler Object\n",
    "scaler2 = RobustScaler()\n",
    "\n",
    "# Apply to X data\n",
    "X_train_robust = scaler2.fit_transform(X_train)\n",
    "X_test_robust = scaler2.transform(X_test)\n",
    "\n",
    "# Look at the transformed data\n",
    "X_train_robust[:5]"
   ]
  },
  {
   "cell_type": "code",
   "execution_count": 23,
   "metadata": {},
   "outputs": [
    {
     "data": {
      "text/plain": [
       "0.8589396072085457"
      ]
     },
     "execution_count": 23,
     "metadata": {},
     "output_type": "execute_result"
    }
   ],
   "source": [
    "# Train the model\n",
    "lr3 = LinearRegression()\n",
    "lr3.fit(X_train_robust, y_train)\n",
    "lr3.score(X_test_robust, y_test)"
   ]
  },
  {
   "cell_type": "code",
   "execution_count": 24,
   "metadata": {},
   "outputs": [
    {
     "name": "stdout",
     "output_type": "stream",
     "text": [
      "MSE: 2242411.8780502984\n",
      "MAE: 889.4218078106052\n",
      "RMSE: 1497.4684898355285\n"
     ]
    }
   ],
   "source": [
    "res3 = calc_cost(y_test, lr3.predict(X_test_robust))"
   ]
  },
  {
   "cell_type": "code",
   "execution_count": 25,
   "metadata": {},
   "outputs": [
    {
     "data": {
      "text/plain": [
       "array([ 5040.38858449,  -287.41409738,  -235.66476004, -1426.23152   ,\n",
       "          44.37841515,    38.60130958])"
      ]
     },
     "execution_count": 25,
     "metadata": {},
     "output_type": "execute_result"
    }
   ],
   "source": [
    "lr2.coef_"
   ]
  },
  {
   "cell_type": "code",
   "execution_count": 26,
   "metadata": {},
   "outputs": [
    {
     "data": {
      "image/png": "[encoded data removed]",
      "text/plain": [
       "<Figure size 720x360 with 3 Axes>"
      ]
     },
     "metadata": {},
     "output_type": "display_data"
    }
   ],
   "source": [
    "fig, ax = plt.subplots(1,3)\n",
    "\n",
    "pd.Series(lr.coef_).plot(kind=\"bar\", title=\"Coefficients Lr\", ax=ax[0])\n",
    "pd.Series(lr2.coef_).plot(kind=\"bar\", title=\"Coefficients Lr2\", ax=ax[1])\n",
    "pd.Series(lr3.coef_).plot(kind=\"bar\", title=\"Coefficients Lr3\", ax=ax[2], figsize=(10,5))\n",
    "plt.tight_layout();"
   ]
  },
  {
   "cell_type": "markdown",
   "metadata": {},
   "source": [
    "#### Min Max Scaler\n",
    "\n",
    "Transform features by scaling each feature to a given range.\n",
    "\n",
    "This estimator scales and translates each feature individually such that it is in the given range on the training set, e.g. between zero and one.\n",
    "\n",
    "The transformation is given by:\n",
    "\n",
    "```python\n",
    "X_std = (X - X.min(axis=0)) / (X.max(axis=0) - X.min(axis=0))\n",
    "X_scaled = X_std * (max - min) + min\n",
    "```\n",
    "\n",
    "where min, max = feature_range.\n",
    "\n",
    "This transformation is often used as an alternative to zero mean, unit variance scaling.\n",
    "\n",
    "[Min Max Scaler Docs](https://scikit-learn.org/stable/modules/generated/sklearn.preprocessing.MinMaxScaler.html)"
   ]
  },
  {
   "cell_type": "code",
   "execution_count": 27,
   "metadata": {},
   "outputs": [
    {
     "data": {
      "text/plain": [
       "array([[0.1995842 , 0.49444444, 0.34782609, 0.63128492, 0.11460102,\n",
       "        0.12924528],\n",
       "       [0.27234927, 0.50833333, 0.13043478, 0.68994413, 0.12495756,\n",
       "        0.14245283],\n",
       "       [0.16839917, 0.58333333, 0.2173913 , 0.59031657, 0.10713073,\n",
       "        0.12735849],\n",
       "       [0.02286902, 0.525     , 0.13043478, 0.40875233, 0.07402377,\n",
       "        0.08522013],\n",
       "       [0.02494802, 0.5       , 0.17391304, 0.41527002, 0.07504244,\n",
       "        0.08522013]])"
      ]
     },
     "execution_count": 27,
     "metadata": {},
     "output_type": "execute_result"
    }
   ],
   "source": [
    "# Instantiate Scaler Object\n",
    "scaler3 = MinMaxScaler()\n",
    "\n",
    "# Apply to X data\n",
    "X_train_mm = scaler3.fit_transform(X_train)\n",
    "X_test_mm = scaler3.transform(X_test)\n",
    "\n",
    "# Look at the transformed data\n",
    "X_train_mm[:5]"
   ]
  },
  {
   "cell_type": "code",
   "execution_count": 28,
   "metadata": {},
   "outputs": [
    {
     "data": {
      "text/plain": [
       "0.8589396072085457"
      ]
     },
     "execution_count": 28,
     "metadata": {},
     "output_type": "execute_result"
    }
   ],
   "source": [
    "# Train the model\n",
    "lr4 = LinearRegression()\n",
    "lr4.fit(X_train_mm, y_train)\n",
    "lr4.score(X_test_mm, y_test)"
   ]
  },
  {
   "cell_type": "code",
   "execution_count": 29,
   "metadata": {},
   "outputs": [
    {
     "name": "stdout",
     "output_type": "stream",
     "text": [
      "MSE: 2242411.878050298\n",
      "MAE: 889.4218078106037\n",
      "RMSE: 1497.4684898355283\n"
     ]
    }
   ],
   "source": [
    "res4 = calc_cost(y_test, lr4.predict(X_test_mm))"
   ]
  },
  {
   "cell_type": "code",
   "execution_count": 30,
   "metadata": {},
   "outputs": [
    {
     "data": {
      "text/plain": [
       "array([ 51220.12567193,  -7216.11507285,  -4858.02476812, -13672.60481307,\n",
       "         2259.50094986,   1724.31853409])"
      ]
     },
     "execution_count": 30,
     "metadata": {},
     "output_type": "execute_result"
    }
   ],
   "source": [
    "lr4.coef_"
   ]
  },
  {
   "cell_type": "code",
   "execution_count": 31,
   "metadata": {},
   "outputs": [
    {
     "data": {
      "image/png": "[encoded data removed]",
      "text/plain": [
       "<Figure size 720x360 with 4 Axes>"
      ]
     },
     "metadata": {},
     "output_type": "display_data"
    }
   ],
   "source": [
    "fig, ax = plt.subplots(2,2)\n",
    "\n",
    "pd.Series(lr.coef_).plot(kind=\"bar\", title=\"Coefficients Lr1, No Scaler\", ax=ax[0,0])\n",
    "pd.Series(lr2.coef_).plot(kind=\"bar\", title=\"Coefficients Lr2, Standard Scaler\", ax=ax[0,1])\n",
    "pd.Series(lr3.coef_).plot(kind=\"bar\", title=\"Coefficients Lr3, Robust Scaler\", ax=ax[1,0])\n",
    "pd.Series(lr4.coef_).plot(kind=\"bar\", title=\"Coefficients Lr4, Min Max Scaler\", ax=ax[1,1], figsize=(10,5))\n",
    "\n",
    "plt.tight_layout();"
   ]
  },
  {
   "cell_type": "markdown",
   "metadata": {},
   "source": [
    "## Feature Engineering\n",
    "\n",
    "![](https://storage.googleapis.com/lds-media/images/feature-engineering-workflow.width-1200.jpg)\n",
    "\n",
    "We can create new features from old features in our dataset to help the model lower the cost function. Feature engineering consists of representing categorical features numerically and creating a feature based on one or more features. \n",
    "\n",
    "Scikit-learn offers various ways of generating features from your data. We will explore two very common methods for encoding categorical columns. By representing our categorical data numerically we will be able to pass in these features into our mode. \n",
    "\n",
    "Creating effective features will help your model reduce error, but we do not want to many features since each additional feature increases the amount of mathematical operations performed on our dataset. One goal of a useful model is to achieve the best score with the fewest amount of features."
   ]
  },
  {
   "cell_type": "markdown",
   "metadata": {},
   "source": [
    "#### One Hot Encoding\n",
    "\n",
    "![](https://i.imgur.com/mtimFxh.png)\n",
    "\n",
    "You can convert categorical features to features that can be used with scikit-learn estimators with one-hot or dummy encoding. This type of encoding can be obtained with the OneHotEncoder, which transforms each categorical feature with n_categories possible values into n_categories binary features, with one of them 1, and all others 0.\n",
    "\n",
    "```python\n",
    ">>> enc = preprocessing.OneHotEncoder()\n",
    ">>> X = [['male', 'from US', 'uses Safari'], ['female', 'from Europe', 'uses Firefox']]\n",
    ">>> enc.fit(X)\n",
    "OneHotEncoder()\n",
    ">>> enc.transform([['female', 'from US', 'uses Safari'],\n",
    "...                ['male', 'from Europe', 'uses Safari']]).toarray()\n",
    "array([[1., 0., 0., 1., 0., 1.],\n",
    "       [0., 1., 1., 0., 0., 1.]])\n",
    "```\n",
    "\n",
    "By default, the values each feature can take is inferred automatically from the dataset and can be found in the categories_ attribute:\n",
    "\n",
    "```python\n",
    ">>> enc.categories_\n",
    "[array(['female', 'male'], dtype=object), array(['from Europe', 'from US'], dtype=object), array(['uses Firefox', 'uses Safari'], dtype=object)]\n",
    "\n",
    "```\n",
    "\n",
    "[One-Hot Encoder Docs](https://scikit-learn.org/stable/modules/generated/sklearn.preprocessing.OneHotEncoder.html)"
   ]
  },
  {
   "cell_type": "code",
   "execution_count": 32,
   "metadata": {},
   "outputs": [
    {
     "data": {
      "text/html": [
       "<div>\n",
       "<style scoped>\n",
       "    .dataframe tbody tr th:only-of-type {\n",
       "        vertical-align: middle;\n",
       "    }\n",
       "\n",
       "    .dataframe tbody tr th {\n",
       "        vertical-align: top;\n",
       "    }\n",
       "\n",
       "    .dataframe thead th {\n",
       "        text-align: right;\n",
       "    }\n",
       "</style>\n",
       "<table border=\"1\" class=\"dataframe\">\n",
       "  <thead>\n",
       "    <tr style=\"text-align: right;\">\n",
       "      <th></th>\n",
       "      <th>cut</th>\n",
       "      <th>color</th>\n",
       "      <th>clarity</th>\n",
       "    </tr>\n",
       "  </thead>\n",
       "  <tbody>\n",
       "    <tr>\n",
       "      <th>count</th>\n",
       "      <td>34521</td>\n",
       "      <td>34521</td>\n",
       "      <td>34521</td>\n",
       "    </tr>\n",
       "    <tr>\n",
       "      <th>unique</th>\n",
       "      <td>5</td>\n",
       "      <td>7</td>\n",
       "      <td>8</td>\n",
       "    </tr>\n",
       "    <tr>\n",
       "      <th>top</th>\n",
       "      <td>Ideal</td>\n",
       "      <td>G</td>\n",
       "      <td>SI1</td>\n",
       "    </tr>\n",
       "    <tr>\n",
       "      <th>freq</th>\n",
       "      <td>13900</td>\n",
       "      <td>7188</td>\n",
       "      <td>8450</td>\n",
       "    </tr>\n",
       "  </tbody>\n",
       "</table>\n",
       "</div>"
      ],
      "text/plain": [
       "          cut  color clarity\n",
       "count   34521  34521   34521\n",
       "unique      5      7       8\n",
       "top     Ideal      G     SI1\n",
       "freq    13900   7188    8450"
      ]
     },
     "execution_count": 32,
     "metadata": {},
     "output_type": "execute_result"
    }
   ],
   "source": [
    "train.describe(exclude=\"number\")"
   ]
  },
  {
   "cell_type": "code",
   "execution_count": 33,
   "metadata": {},
   "outputs": [],
   "source": [
    "# Create our One Hot Encoder object\n",
    "one_hot = OneHotEncoder()\n",
    "\n",
    "col_names = [\"color\", \"clarity\"]\n",
    "\n",
    "# One Hot encode the column\n",
    "one_hot_df = one_hot.fit_transform(train[col_names]).toarray()\n",
    "one_hot_df_test = one_hot.transform(test[col_names]).toarray()"
   ]
  },
  {
   "cell_type": "code",
   "execution_count": 34,
   "metadata": {},
   "outputs": [
    {
     "data": {
      "text/plain": [
       "[array(['D', 'E', 'F', 'G', 'H', 'I', 'J'], dtype=object),\n",
       " array(['I1', 'IF', 'SI1', 'SI2', 'VS1', 'VS2', 'VVS1', 'VVS2'],\n",
       "       dtype=object)]"
      ]
     },
     "execution_count": 34,
     "metadata": {},
     "output_type": "execute_result"
    }
   ],
   "source": [
    "# Look at the categories\n",
    "one_hot.categories_"
   ]
  },
  {
   "cell_type": "code",
   "execution_count": 35,
   "metadata": {},
   "outputs": [
    {
     "data": {
      "text/plain": [
       "['color_D',\n",
       " 'color_E',\n",
       " 'color_F',\n",
       " 'color_G',\n",
       " 'color_H',\n",
       " 'color_I',\n",
       " 'color_J',\n",
       " 'clarity_I1',\n",
       " 'clarity_IF',\n",
       " 'clarity_SI1',\n",
       " 'clarity_SI2',\n",
       " 'clarity_VS1',\n",
       " 'clarity_VS2',\n",
       " 'clarity_VVS1',\n",
       " 'clarity_VVS2']"
      ]
     },
     "execution_count": 35,
     "metadata": {},
     "output_type": "execute_result"
    }
   ],
   "source": [
    "# Create column names list for one hot encoded features\n",
    "column_names = []\n",
    "\n",
    "for y in range(len(one_hot.categories_)):\n",
    "    for z in range(len(one_hot.categories_[y])):\n",
    "        # print(one_hot.categories_[y][z])\n",
    "        column_names.append(col_names[y]+\"_\"+one_hot.categories_[y][z])\n",
    "\n",
    "\n",
    "column_names"
   ]
  },
  {
   "cell_type": "code",
   "execution_count": 36,
   "metadata": {},
   "outputs": [],
   "source": [
    "def col_names(one_hot_model):\n",
    "    \n",
    "    \"Create columns names list for one hot encoded feature\"\n",
    "    \n",
    "    column_names = []\n",
    "    \n",
    "    col_names = [\"color\", \"clarity\"]\n",
    "\n",
    "    for y in range(len(one_hot_model.categories_)):\n",
    "        for z in range(len(one_hot_model.categories_[y])):\n",
    "            # print(one_hot.categories_[y][z])\n",
    "            column_names.append(col_names[y]+\"_\"+one_hot_model.categories_[y][z])\n",
    "            \n",
    "    return column_names\n",
    "\n",
    "column_names = col_names(one_hot)"
   ]
  },
  {
   "cell_type": "code",
   "execution_count": 37,
   "metadata": {},
   "outputs": [
    {
     "data": {
      "text/plain": [
       "array([[0., 0., 1., ..., 0., 0., 0.],\n",
       "       [0., 0., 0., ..., 0., 0., 0.],\n",
       "       [0., 0., 0., ..., 0., 0., 0.],\n",
       "       ...,\n",
       "       [1., 0., 0., ..., 1., 0., 0.],\n",
       "       [0., 0., 0., ..., 0., 0., 1.],\n",
       "       [0., 1., 0., ..., 0., 0., 0.]])"
      ]
     },
     "execution_count": 37,
     "metadata": {},
     "output_type": "execute_result"
    }
   ],
   "source": [
    "# Values for each row\n",
    "one_hot_df"
   ]
  },
  {
   "cell_type": "code",
   "execution_count": 38,
   "metadata": {},
   "outputs": [
    {
     "name": "stdout",
     "output_type": "stream",
     "text": [
      "(34521, 15)\n",
      "(10788, 15)\n"
     ]
    }
   ],
   "source": [
    "# Cast One Hot Encoded values into a dataframe\n",
    "\n",
    "oh_df = pd.DataFrame(\n",
    "    one_hot_df,\n",
    "    index=train.index,\n",
    "    columns = column_names\n",
    ")\n",
    "\n",
    "oh_df_test = pd.DataFrame(\n",
    "    one_hot_df_test,\n",
    "    index=test.index,\n",
    "    columns = column_names\n",
    ")\n",
    "\n",
    "print(oh_df.shape)\n",
    "print(oh_df_test.shape)"
   ]
  },
  {
   "cell_type": "code",
   "execution_count": 39,
   "metadata": {},
   "outputs": [
    {
     "name": "stdout",
     "output_type": "stream",
     "text": [
      "(34521, 23)\n",
      "(10788, 23)\n"
     ]
    }
   ],
   "source": [
    "# Create train_new df by merging train and one hot encoded df together and drop color and clarity cols\n",
    "train_new = train.merge(oh_df, on=train.index).set_index(\"key_0\").drop([\"color\", \"clarity\"], axis=1)\n",
    "test_new = test.merge(oh_df_test, on=test.index).set_index(\"key_0\").drop([\"color\", \"clarity\"], axis=1)\n",
    "\n",
    "print(train_new.shape)\n",
    "print(test_new.shape)"
   ]
  },
  {
   "cell_type": "markdown",
   "metadata": {},
   "source": [
    "#### Ordinal Encoder \n",
    "\n",
    "![](https://miro.medium.com/max/2736/0*T5jaa2othYfXZX9W.)\n",
    "\n",
    "Some features are not given as continuous values but categorical. For example a person could have features `[\"male\", \"female\"]`, `[\"from Europe\", \"from US\", \"from Asia\"]`, `[\"uses Firefox\", \"uses Chrome\", \"uses Safari\", \"uses Internet Explorer\"]`. Such features can be efficiently coded as integers, for instance `[\"male\", \"from US\", \"uses Internet Explorer\"]` could be expressed as `[0, 1, 3] while [\"female\", \"from Asia\", \"uses Chrome\"] would be [1, 2, 1]`.\n",
    "\n",
    "To convert categorical features to such integer codes, we can use the OrdinalEncoder. This estimator transforms each categorical feature to one new feature of integers (0 to n_categories - 1):\n",
    "\n",
    "```python\n",
    ">>> enc = preprocessing.OrdinalEncoder()\n",
    ">>> X = [['male', 'from US', 'uses Safari'], ['female', 'from Europe', 'uses Firefox']]\n",
    ">>> enc.fit(X)\n",
    "OrdinalEncoder()\n",
    ">>> enc.transform([['female', 'from US', 'uses Safari']])\n",
    "array([[0., 1., 1.]])\n",
    "```\n",
    "\n",
    "[Ordinal Encoder Docs](https://scikit-learn.org/stable/modules/generated/sklearn.preprocessing.OrdinalEncoder.html)"
   ]
  },
  {
   "cell_type": "code",
   "execution_count": 40,
   "metadata": {},
   "outputs": [],
   "source": [
    "ordinal = OrdinalEncoder()\n",
    "\n",
    "col_names = [\"cut\"]\n",
    "\n",
    "# Ordinal encode the column\n",
    "ordinal_ls = ordinal.fit_transform(train[col_names])\n",
    "ordinal_ls_test = ordinal.transform(test[col_names])"
   ]
  },
  {
   "cell_type": "code",
   "execution_count": 41,
   "metadata": {},
   "outputs": [
    {
     "data": {
      "text/plain": [
       "[array(['Fair', 'Good', 'Ideal', 'Premium', 'Very Good'], dtype=object)]"
      ]
     },
     "execution_count": 41,
     "metadata": {},
     "output_type": "execute_result"
    }
   ],
   "source": [
    "# Look at categories\n",
    "ordinal.categories_"
   ]
  },
  {
   "cell_type": "code",
   "execution_count": 42,
   "metadata": {},
   "outputs": [
    {
     "data": {
      "text/html": [
       "<div>\n",
       "<style scoped>\n",
       "    .dataframe tbody tr th:only-of-type {\n",
       "        vertical-align: middle;\n",
       "    }\n",
       "\n",
       "    .dataframe tbody tr th {\n",
       "        vertical-align: top;\n",
       "    }\n",
       "\n",
       "    .dataframe thead th {\n",
       "        text-align: right;\n",
       "    }\n",
       "</style>\n",
       "<table border=\"1\" class=\"dataframe\">\n",
       "  <thead>\n",
       "    <tr style=\"text-align: right;\">\n",
       "      <th></th>\n",
       "      <th>carat</th>\n",
       "      <th>cut</th>\n",
       "      <th>depth</th>\n",
       "      <th>table</th>\n",
       "      <th>price</th>\n",
       "      <th>x</th>\n",
       "      <th>y</th>\n",
       "      <th>z</th>\n",
       "      <th>color_D</th>\n",
       "      <th>color_E</th>\n",
       "      <th>...</th>\n",
       "      <th>color_I</th>\n",
       "      <th>color_J</th>\n",
       "      <th>clarity_I1</th>\n",
       "      <th>clarity_IF</th>\n",
       "      <th>clarity_SI1</th>\n",
       "      <th>clarity_SI2</th>\n",
       "      <th>clarity_VS1</th>\n",
       "      <th>clarity_VS2</th>\n",
       "      <th>clarity_VVS1</th>\n",
       "      <th>clarity_VVS2</th>\n",
       "    </tr>\n",
       "    <tr>\n",
       "      <th>key_0</th>\n",
       "      <th></th>\n",
       "      <th></th>\n",
       "      <th></th>\n",
       "      <th></th>\n",
       "      <th></th>\n",
       "      <th></th>\n",
       "      <th></th>\n",
       "      <th></th>\n",
       "      <th></th>\n",
       "      <th></th>\n",
       "      <th></th>\n",
       "      <th></th>\n",
       "      <th></th>\n",
       "      <th></th>\n",
       "      <th></th>\n",
       "      <th></th>\n",
       "      <th></th>\n",
       "      <th></th>\n",
       "      <th></th>\n",
       "      <th></th>\n",
       "      <th></th>\n",
       "    </tr>\n",
       "  </thead>\n",
       "  <tbody>\n",
       "    <tr>\n",
       "      <th>25133</th>\n",
       "      <td>1.77</td>\n",
       "      <td>4.0</td>\n",
       "      <td>60.2</td>\n",
       "      <td>58.0</td>\n",
       "      <td>13691</td>\n",
       "      <td>7.88</td>\n",
       "      <td>7.83</td>\n",
       "      <td>4.73</td>\n",
       "      <td>0.0</td>\n",
       "      <td>0.0</td>\n",
       "      <td>...</td>\n",
       "      <td>1.0</td>\n",
       "      <td>0.0</td>\n",
       "      <td>0.0</td>\n",
       "      <td>0.0</td>\n",
       "      <td>0.0</td>\n",
       "      <td>0.0</td>\n",
       "      <td>0.0</td>\n",
       "      <td>1.0</td>\n",
       "      <td>0.0</td>\n",
       "      <td>0.0</td>\n",
       "    </tr>\n",
       "    <tr>\n",
       "      <th>6094</th>\n",
       "      <td>0.81</td>\n",
       "      <td>2.0</td>\n",
       "      <td>61.5</td>\n",
       "      <td>57.0</td>\n",
       "      <td>3975</td>\n",
       "      <td>6.00</td>\n",
       "      <td>6.06</td>\n",
       "      <td>3.71</td>\n",
       "      <td>0.0</td>\n",
       "      <td>1.0</td>\n",
       "      <td>...</td>\n",
       "      <td>0.0</td>\n",
       "      <td>0.0</td>\n",
       "      <td>0.0</td>\n",
       "      <td>0.0</td>\n",
       "      <td>0.0</td>\n",
       "      <td>0.0</td>\n",
       "      <td>0.0</td>\n",
       "      <td>1.0</td>\n",
       "      <td>0.0</td>\n",
       "      <td>0.0</td>\n",
       "    </tr>\n",
       "    <tr>\n",
       "      <th>6898</th>\n",
       "      <td>0.73</td>\n",
       "      <td>2.0</td>\n",
       "      <td>60.7</td>\n",
       "      <td>57.0</td>\n",
       "      <td>4134</td>\n",
       "      <td>5.84</td>\n",
       "      <td>5.88</td>\n",
       "      <td>3.55</td>\n",
       "      <td>1.0</td>\n",
       "      <td>0.0</td>\n",
       "      <td>...</td>\n",
       "      <td>0.0</td>\n",
       "      <td>0.0</td>\n",
       "      <td>0.0</td>\n",
       "      <td>0.0</td>\n",
       "      <td>0.0</td>\n",
       "      <td>0.0</td>\n",
       "      <td>0.0</td>\n",
       "      <td>1.0</td>\n",
       "      <td>0.0</td>\n",
       "      <td>0.0</td>\n",
       "    </tr>\n",
       "    <tr>\n",
       "      <th>43230</th>\n",
       "      <td>0.40</td>\n",
       "      <td>2.0</td>\n",
       "      <td>62.4</td>\n",
       "      <td>57.0</td>\n",
       "      <td>1397</td>\n",
       "      <td>4.72</td>\n",
       "      <td>4.67</td>\n",
       "      <td>2.93</td>\n",
       "      <td>0.0</td>\n",
       "      <td>1.0</td>\n",
       "      <td>...</td>\n",
       "      <td>0.0</td>\n",
       "      <td>0.0</td>\n",
       "      <td>0.0</td>\n",
       "      <td>0.0</td>\n",
       "      <td>0.0</td>\n",
       "      <td>0.0</td>\n",
       "      <td>0.0</td>\n",
       "      <td>0.0</td>\n",
       "      <td>1.0</td>\n",
       "      <td>0.0</td>\n",
       "    </tr>\n",
       "    <tr>\n",
       "      <th>13647</th>\n",
       "      <td>1.22</td>\n",
       "      <td>2.0</td>\n",
       "      <td>60.6</td>\n",
       "      <td>56.0</td>\n",
       "      <td>5586</td>\n",
       "      <td>6.96</td>\n",
       "      <td>6.95</td>\n",
       "      <td>4.22</td>\n",
       "      <td>0.0</td>\n",
       "      <td>0.0</td>\n",
       "      <td>...</td>\n",
       "      <td>0.0</td>\n",
       "      <td>1.0</td>\n",
       "      <td>0.0</td>\n",
       "      <td>0.0</td>\n",
       "      <td>1.0</td>\n",
       "      <td>0.0</td>\n",
       "      <td>0.0</td>\n",
       "      <td>0.0</td>\n",
       "      <td>0.0</td>\n",
       "      <td>0.0</td>\n",
       "    </tr>\n",
       "  </tbody>\n",
       "</table>\n",
       "<p>5 rows × 23 columns</p>\n",
       "</div>"
      ],
      "text/plain": [
       "       carat  cut  depth  table  price     x     y     z  color_D  color_E  \\\n",
       "key_0                                                                        \n",
       "25133   1.77  4.0   60.2   58.0  13691  7.88  7.83  4.73      0.0      0.0   \n",
       "6094    0.81  2.0   61.5   57.0   3975  6.00  6.06  3.71      0.0      1.0   \n",
       "6898    0.73  2.0   60.7   57.0   4134  5.84  5.88  3.55      1.0      0.0   \n",
       "43230   0.40  2.0   62.4   57.0   1397  4.72  4.67  2.93      0.0      1.0   \n",
       "13647   1.22  2.0   60.6   56.0   5586  6.96  6.95  4.22      0.0      0.0   \n",
       "\n",
       "       ...  color_I  color_J  clarity_I1  clarity_IF  clarity_SI1  \\\n",
       "key_0  ...                                                          \n",
       "25133  ...      1.0      0.0         0.0         0.0          0.0   \n",
       "6094   ...      0.0      0.0         0.0         0.0          0.0   \n",
       "6898   ...      0.0      0.0         0.0         0.0          0.0   \n",
       "43230  ...      0.0      0.0         0.0         0.0          0.0   \n",
       "13647  ...      0.0      1.0         0.0         0.0          1.0   \n",
       "\n",
       "       clarity_SI2  clarity_VS1  clarity_VS2  clarity_VVS1  clarity_VVS2  \n",
       "key_0                                                                     \n",
       "25133          0.0          0.0          1.0           0.0           0.0  \n",
       "6094           0.0          0.0          1.0           0.0           0.0  \n",
       "6898           0.0          0.0          1.0           0.0           0.0  \n",
       "43230          0.0          0.0          0.0           1.0           0.0  \n",
       "13647          0.0          0.0          0.0           0.0           0.0  \n",
       "\n",
       "[5 rows x 23 columns]"
      ]
     },
     "execution_count": 42,
     "metadata": {},
     "output_type": "execute_result"
    }
   ],
   "source": [
    "# Add oridnally encoded column to the data\n",
    "train_new[\"cut\"] = ordinal_ls\n",
    "test_new[\"cut\"] = ordinal_ls_test\n",
    "\n",
    "train_new.sample(5)"
   ]
  },
  {
   "cell_type": "markdown",
   "metadata": {},
   "source": [
    "#### Model Using One Hot and Ordinally Encoded Features"
   ]
  },
  {
   "cell_type": "code",
   "execution_count": 43,
   "metadata": {},
   "outputs": [],
   "source": [
    "target = \"price\"\n",
    "\n",
    "X_train = train_new.drop(target, axis=1)\n",
    "y_train = train_new[target]\n",
    "\n",
    "X_test = test_new.drop(target, axis=1)\n",
    "y_test = test_new[target]"
   ]
  },
  {
   "cell_type": "code",
   "execution_count": 44,
   "metadata": {},
   "outputs": [
    {
     "data": {
      "text/plain": [
       "0.9182653737780205"
      ]
     },
     "execution_count": 44,
     "metadata": {},
     "output_type": "execute_result"
    }
   ],
   "source": [
    "lr5 = LinearRegression()\n",
    "\n",
    "lr5.fit(X_train, y_train)\n",
    "lr5.score(X_test, y_test)"
   ]
  },
  {
   "cell_type": "code",
   "execution_count": 45,
   "metadata": {},
   "outputs": [
    {
     "name": "stdout",
     "output_type": "stream",
     "text": [
      "MSE: 1299320.7594362497\n",
      "MAE: 743.569896575557\n",
      "RMSE: 1139.877519488936\n"
     ]
    }
   ],
   "source": [
    "res4 = calc_cost(y_test, lr5.predict(X_test))"
   ]
  },
  {
   "cell_type": "code",
   "execution_count": 46,
   "metadata": {},
   "outputs": [
    {
     "data": {
      "text/plain": [
       "<matplotlib.axes._subplots.AxesSubplot at 0x21dac286780>"
      ]
     },
     "execution_count": 46,
     "metadata": {},
     "output_type": "execute_result"
    },
    {
     "data": {
      "image/png": "[encoded data removed]",
      "text/plain": [
       "<Figure size 720x360 with 1 Axes>"
      ]
     },
     "metadata": {},
     "output_type": "display_data"
    }
   ],
   "source": [
    "pd.Series(lr5.coef_).plot(kind=\"bar\", title=\"Coefficients Lr5, Features Engineered\",figsize=(10,5))"
   ]
  },
  {
   "cell_type": "markdown",
   "metadata": {},
   "source": [
    "## Combining Feature Scaling and Feature Engineering"
   ]
  },
  {
   "cell_type": "code",
   "execution_count": 47,
   "metadata": {},
   "outputs": [
    {
     "name": "stdout",
     "output_type": "stream",
     "text": [
      "(34521, 22)\n"
     ]
    },
    {
     "data": {
      "text/html": [
       "<div>\n",
       "<style scoped>\n",
       "    .dataframe tbody tr th:only-of-type {\n",
       "        vertical-align: middle;\n",
       "    }\n",
       "\n",
       "    .dataframe tbody tr th {\n",
       "        vertical-align: top;\n",
       "    }\n",
       "\n",
       "    .dataframe thead th {\n",
       "        text-align: right;\n",
       "    }\n",
       "</style>\n",
       "<table border=\"1\" class=\"dataframe\">\n",
       "  <thead>\n",
       "    <tr style=\"text-align: right;\">\n",
       "      <th></th>\n",
       "      <th>carat</th>\n",
       "      <th>depth</th>\n",
       "      <th>table</th>\n",
       "      <th>x</th>\n",
       "      <th>y</th>\n",
       "      <th>z</th>\n",
       "      <th>cut</th>\n",
       "      <th>color_D</th>\n",
       "      <th>color_E</th>\n",
       "      <th>color_F</th>\n",
       "      <th>...</th>\n",
       "      <th>color_I</th>\n",
       "      <th>color_J</th>\n",
       "      <th>clarity_I1</th>\n",
       "      <th>clarity_IF</th>\n",
       "      <th>clarity_SI1</th>\n",
       "      <th>clarity_SI2</th>\n",
       "      <th>clarity_VS1</th>\n",
       "      <th>clarity_VS2</th>\n",
       "      <th>clarity_VVS1</th>\n",
       "      <th>clarity_VVS2</th>\n",
       "    </tr>\n",
       "    <tr>\n",
       "      <th>key_0</th>\n",
       "      <th></th>\n",
       "      <th></th>\n",
       "      <th></th>\n",
       "      <th></th>\n",
       "      <th></th>\n",
       "      <th></th>\n",
       "      <th></th>\n",
       "      <th></th>\n",
       "      <th></th>\n",
       "      <th></th>\n",
       "      <th></th>\n",
       "      <th></th>\n",
       "      <th></th>\n",
       "      <th></th>\n",
       "      <th></th>\n",
       "      <th></th>\n",
       "      <th></th>\n",
       "      <th></th>\n",
       "      <th></th>\n",
       "      <th></th>\n",
       "      <th></th>\n",
       "    </tr>\n",
       "  </thead>\n",
       "  <tbody>\n",
       "    <tr>\n",
       "      <th>6881</th>\n",
       "      <td>0.760655</td>\n",
       "      <td>-0.659368</td>\n",
       "      <td>3.380087</td>\n",
       "      <td>0.930953</td>\n",
       "      <td>0.872289</td>\n",
       "      <td>0.797898</td>\n",
       "      <td>1.0</td>\n",
       "      <td>0.0</td>\n",
       "      <td>0.0</td>\n",
       "      <td>1.0</td>\n",
       "      <td>...</td>\n",
       "      <td>0.0</td>\n",
       "      <td>0.0</td>\n",
       "      <td>0.0</td>\n",
       "      <td>0.0</td>\n",
       "      <td>0.0</td>\n",
       "      <td>1.0</td>\n",
       "      <td>0.0</td>\n",
       "      <td>0.0</td>\n",
       "      <td>0.0</td>\n",
       "      <td>0.0</td>\n",
       "    </tr>\n",
       "    <tr>\n",
       "      <th>15412</th>\n",
       "      <td>1.500090</td>\n",
       "      <td>-0.310659</td>\n",
       "      <td>-1.101247</td>\n",
       "      <td>1.493291</td>\n",
       "      <td>1.399586</td>\n",
       "      <td>1.387879</td>\n",
       "      <td>3.0</td>\n",
       "      <td>0.0</td>\n",
       "      <td>0.0</td>\n",
       "      <td>0.0</td>\n",
       "      <td>...</td>\n",
       "      <td>1.0</td>\n",
       "      <td>0.0</td>\n",
       "      <td>0.0</td>\n",
       "      <td>0.0</td>\n",
       "      <td>0.0</td>\n",
       "      <td>1.0</td>\n",
       "      <td>0.0</td>\n",
       "      <td>0.0</td>\n",
       "      <td>0.0</td>\n",
       "      <td>0.0</td>\n",
       "    </tr>\n",
       "    <tr>\n",
       "      <th>3782</th>\n",
       "      <td>0.443755</td>\n",
       "      <td>1.572368</td>\n",
       "      <td>0.691287</td>\n",
       "      <td>0.538209</td>\n",
       "      <td>0.491944</td>\n",
       "      <td>0.713615</td>\n",
       "      <td>1.0</td>\n",
       "      <td>0.0</td>\n",
       "      <td>0.0</td>\n",
       "      <td>0.0</td>\n",
       "      <td>...</td>\n",
       "      <td>0.0</td>\n",
       "      <td>0.0</td>\n",
       "      <td>0.0</td>\n",
       "      <td>0.0</td>\n",
       "      <td>0.0</td>\n",
       "      <td>1.0</td>\n",
       "      <td>0.0</td>\n",
       "      <td>0.0</td>\n",
       "      <td>0.0</td>\n",
       "      <td>0.0</td>\n",
       "    </tr>\n",
       "    <tr>\n",
       "      <th>34635</th>\n",
       "      <td>-1.035114</td>\n",
       "      <td>0.107792</td>\n",
       "      <td>-1.101247</td>\n",
       "      <td>-1.202362</td>\n",
       "      <td>-1.193677</td>\n",
       "      <td>-1.168703</td>\n",
       "      <td>2.0</td>\n",
       "      <td>0.0</td>\n",
       "      <td>1.0</td>\n",
       "      <td>0.0</td>\n",
       "      <td>...</td>\n",
       "      <td>0.0</td>\n",
       "      <td>0.0</td>\n",
       "      <td>0.0</td>\n",
       "      <td>0.0</td>\n",
       "      <td>0.0</td>\n",
       "      <td>0.0</td>\n",
       "      <td>0.0</td>\n",
       "      <td>1.0</td>\n",
       "      <td>0.0</td>\n",
       "      <td>0.0</td>\n",
       "    </tr>\n",
       "    <tr>\n",
       "      <th>37155</th>\n",
       "      <td>-1.013987</td>\n",
       "      <td>-0.519884</td>\n",
       "      <td>-0.204980</td>\n",
       "      <td>-1.139880</td>\n",
       "      <td>-1.141812</td>\n",
       "      <td>-1.168703</td>\n",
       "      <td>2.0</td>\n",
       "      <td>1.0</td>\n",
       "      <td>0.0</td>\n",
       "      <td>0.0</td>\n",
       "      <td>...</td>\n",
       "      <td>0.0</td>\n",
       "      <td>0.0</td>\n",
       "      <td>0.0</td>\n",
       "      <td>0.0</td>\n",
       "      <td>0.0</td>\n",
       "      <td>0.0</td>\n",
       "      <td>0.0</td>\n",
       "      <td>1.0</td>\n",
       "      <td>0.0</td>\n",
       "      <td>0.0</td>\n",
       "    </tr>\n",
       "  </tbody>\n",
       "</table>\n",
       "<p>5 rows × 22 columns</p>\n",
       "</div>"
      ],
      "text/plain": [
       "          carat     depth     table         x         y         z  cut  \\\n",
       "key_0                                                                    \n",
       "6881   0.760655 -0.659368  3.380087  0.930953  0.872289  0.797898  1.0   \n",
       "15412  1.500090 -0.310659 -1.101247  1.493291  1.399586  1.387879  3.0   \n",
       "3782   0.443755  1.572368  0.691287  0.538209  0.491944  0.713615  1.0   \n",
       "34635 -1.035114  0.107792 -1.101247 -1.202362 -1.193677 -1.168703  2.0   \n",
       "37155 -1.013987 -0.519884 -0.204980 -1.139880 -1.141812 -1.168703  2.0   \n",
       "\n",
       "       color_D  color_E  color_F  ...  color_I  color_J  clarity_I1  \\\n",
       "key_0                             ...                                 \n",
       "6881       0.0      0.0      1.0  ...      0.0      0.0         0.0   \n",
       "15412      0.0      0.0      0.0  ...      1.0      0.0         0.0   \n",
       "3782       0.0      0.0      0.0  ...      0.0      0.0         0.0   \n",
       "34635      0.0      1.0      0.0  ...      0.0      0.0         0.0   \n",
       "37155      1.0      0.0      0.0  ...      0.0      0.0         0.0   \n",
       "\n",
       "       clarity_IF  clarity_SI1  clarity_SI2  clarity_VS1  clarity_VS2  \\\n",
       "key_0                                                                   \n",
       "6881          0.0          0.0          1.0          0.0          0.0   \n",
       "15412         0.0          0.0          1.0          0.0          0.0   \n",
       "3782          0.0          0.0          1.0          0.0          0.0   \n",
       "34635         0.0          0.0          0.0          0.0          1.0   \n",
       "37155         0.0          0.0          0.0          0.0          1.0   \n",
       "\n",
       "       clarity_VVS1  clarity_VVS2  \n",
       "key_0                              \n",
       "6881            0.0           0.0  \n",
       "15412           0.0           0.0  \n",
       "3782            0.0           0.0  \n",
       "34635           0.0           0.0  \n",
       "37155           0.0           0.0  \n",
       "\n",
       "[5 rows x 22 columns]"
      ]
     },
     "execution_count": 47,
     "metadata": {},
     "output_type": "execute_result"
    }
   ],
   "source": [
    "# Make a model with scaled and engineered features\n",
    "\n",
    "# Change column order to make addition of scaled features easier\n",
    "col_order_ls = ['carat','depth', 'table', 'x', 'y', 'z', 'cut', 'color_D', 'color_E',\n",
    "       'color_F', 'color_G', 'color_H', 'color_I', 'color_J', 'clarity_I1',\n",
    "       'clarity_IF', 'clarity_SI1', 'clarity_SI2', 'clarity_VS1',\n",
    "       'clarity_VS2', 'clarity_VVS1', 'clarity_VVS2']\n",
    "\n",
    "# Re order columns\n",
    "X_train = X_train[col_order_ls]\n",
    "X_test = X_test[col_order_ls]\n",
    "\n",
    "# Replace column values with values from scaled data\n",
    "X_train[['carat','depth', 'table', 'x', 'y', 'z']] = X_train_scaled\n",
    "X_test[['carat','depth', 'table', 'x', 'y', 'z']] = X_test_scaled\n",
    "\n",
    "print(X_train.shape)\n",
    "X_train.head()"
   ]
  },
  {
   "cell_type": "code",
   "execution_count": 48,
   "metadata": {},
   "outputs": [
    {
     "data": {
      "text/plain": [
       "True"
      ]
     },
     "execution_count": 48,
     "metadata": {},
     "output_type": "execute_result"
    }
   ],
   "source": [
    "# Verify that index values match in both datasets\n",
    "# We expect to see the same number of rows in X_train as the sum value\n",
    "X_train.shape[0] == sum(X_train.index == y_train.index)"
   ]
  },
  {
   "cell_type": "code",
   "execution_count": 49,
   "metadata": {},
   "outputs": [
    {
     "data": {
      "text/plain": [
       "0.9182653737780205"
      ]
     },
     "execution_count": 49,
     "metadata": {},
     "output_type": "execute_result"
    }
   ],
   "source": [
    "# Model\n",
    "lr6 = LinearRegression()\n",
    "\n",
    "lr6.fit(X_train, y_train)\n",
    "lr6.score(X_test, y_test)"
   ]
  },
  {
   "cell_type": "code",
   "execution_count": 50,
   "metadata": {},
   "outputs": [
    {
     "name": "stdout",
     "output_type": "stream",
     "text": [
      "MSE: 1299320.7594362495\n",
      "MAE: 743.569896575557\n",
      "RMSE: 1139.8775194889358\n"
     ]
    }
   ],
   "source": [
    "res5 = calc_cost(y_test, lr6.predict(X_test))"
   ]
  },
  {
   "cell_type": "markdown",
   "metadata": {},
   "source": [
    "## Percent Decrease in the Cost Function"
   ]
  },
  {
   "cell_type": "code",
   "execution_count": 51,
   "metadata": {},
   "outputs": [
    {
     "name": "stdout",
     "output_type": "stream",
     "text": [
      "MSE % decrease: 43\n",
      "MAE % decrease: 17\n",
      "RMSE % decrease: 24\n"
     ]
    }
   ],
   "source": [
    "delta_mse = ((res1['MSE']- res5['MSE'])/res1['MSE'])*100\n",
    "delta_mae = ((res1['MAE']- res5['MAE'])/res1['MAE'])*100\n",
    "delta_rmse = ((res1['RMSE']- res5['RMSE'])/res1['RMSE'])*100\n",
    "\n",
    "delta_ls = [round(delta_mse), round(delta_mae), round(delta_rmse)]\n",
    "delta_ls2 = [\"MSE % decrease\", \"MAE % decrease\", \"RMSE % decrease\"]\n",
    "    \n",
    "for x in range(len(delta_ls)):\n",
    "    print(f\"{delta_ls2[x]}: {delta_ls[x]}\")\n",
    "        \n",
    "    "
   ]
  },
  {
   "cell_type": "code",
   "execution_count": 52,
   "metadata": {},
   "outputs": [
    {
     "data": {
      "image/png": "[encoded data removed]",
      "text/plain": [
       "<Figure size 720x720 with 2 Axes>"
      ]
     },
     "metadata": {},
     "output_type": "display_data"
    }
   ],
   "source": [
    "# plot results between scaled and unscaled\n",
    "\n",
    "fig, ax = plt.subplots(2,1)\n",
    "\n",
    "pd.Series(lr5.coef_).plot(\n",
    "    kind=\"bar\",\n",
    "    title=\"Coefficients Lr5, Features Engineered\",\n",
    "    ax=ax[0]\n",
    ")\n",
    "\n",
    "\n",
    "pd.Series(lr6.coef_).plot(\n",
    "    kind=\"bar\", \n",
    "    title=\"Coefficients Lr6, Features Engineered & Features Scaled\",\n",
    "    ax=ax[1],\n",
    "    figsize=(10,10)\n",
    ")\n",
    "\n",
    "ax[0].set_xticklabels(X_train.columns)\n",
    "ax[1].set_xticklabels(X_train.columns)\n",
    "plt.tight_layout()"
   ]
  },
  {
   "cell_type": "markdown",
   "metadata": {},
   "source": [
    "# Fianal Results"
   ]
  },
  {
   "cell_type": "code",
   "execution_count": 54,
   "metadata": {},
   "outputs": [
    {
     "name": "stdout",
     "output_type": "stream",
     "text": [
      "Baseline\n",
      "MSE: 15959446.675367089\n",
      "MAE: 3040.771604515672\n",
      "RMSE: 3994.927618288858\n",
      "\n",
      "Linear Regression MSE: 2273010.749657636, MAE: 897.1133312353487, RMSE: 1507.6507386187413\n",
      "\n",
      "UStandard Scaler\n",
      "MSE: 2242411.878050298\n",
      "MAE: 889.4218078106034\n",
      "RMSE: 1497.4684898355283\n",
      "\n",
      "Robust Scaler\n",
      "MSE: 2242411.8780502984\n",
      "MAE: 889.4218078106052\n",
      "RMSE: 1497.4684898355285\n",
      "\n",
      "Min Max Scaler\n",
      "MSE: 2242411.878050298\n",
      "MAE: 889.4218078106037\n",
      "RMSE: 1497.4684898355283\n",
      "\n",
      "Model Using One Hot and Ordinally Encoded Features\n",
      "MSE: 77491217.44895336\n",
      "MAE: 6419.825669296717\n",
      "RMSE: 8802.909601316678\n",
      "\n",
      "Combining Feature Scaling and Feature Engineering\n",
      "MSE: 1299320.7594362495\n",
      "MAE: 743.569896575557\n",
      "RMSE: 1139.8775194889358\n"
     ]
    }
   ],
   "source": [
    "# Save results to object and print results\n",
    "print(\"Baseline\")\n",
    "b_preds = [y_train.mean() for x in range(len(y_train))]\n",
    "res0 = calc_cost(y_train, b_preds)\n",
    "\n",
    "print(\"\\nLinear Regression MSE: 2273010.749657636, MAE: 897.1133312353487, RMSE: 1507.6507386187413\")\n",
    "\n",
    "print(\"\\nUStandard Scaler\")\n",
    "res2 = calc_cost(y_test, lr2.predict(X_test_scaled))\n",
    "\n",
    "print(\"\\nRobust Scaler\")\n",
    "res3 = calc_cost(y_test, lr3.predict(X_test_robust))\n",
    "\n",
    "print(\"\\nMin Max Scaler\")\n",
    "res4 = calc_cost(y_test, lr4.predict(X_test_mm))\n",
    "\n",
    "print(\"\\nModel Using One Hot and Ordinally Encoded Features\")\n",
    "res4 = calc_cost(y_test, lr5.predict(X_test))\n",
    "\n",
    "print(\"\\nCombining Feature Scaling and Feature Engineering\")\n",
    "res5 = calc_cost(y_test, lr6.predict(X_test))"
   ]
  }
 ],
 "metadata": {
  "kernelspec": {
   "display_name": "Python [default]",
   "language": "python",
   "name": "python3"
  },
  "language_info": {
   "codemirror_mode": {
    "name": "ipython",
    "version": 3
   },
   "file_extension": ".py",
   "mimetype": "text/x-python",
   "name": "python",
   "nbconvert_exporter": "python",
   "pygments_lexer": "ipython3",
   "version": "3.7.1"
  }
 },
 "nbformat": 4,
 "nbformat_minor": 4
}
