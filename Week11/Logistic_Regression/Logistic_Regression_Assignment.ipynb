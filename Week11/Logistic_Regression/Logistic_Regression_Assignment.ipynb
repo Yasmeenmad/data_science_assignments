{
 "cells": [
  {
   "cell_type": "markdown",
   "metadata": {},
   "source": [
    "# Logistic Regression For Tips Dataset"
   ]
  },
  {
   "cell_type": "markdown",
   "metadata": {},
   "source": [
    "Use the tips dataset and apply a logistic regression model to the tips dataset. Bin a continuous variable (tips column into 3 different categories).\n",
    "\n",
    "Your 3 categories for your continuous variable will be: (Bad Tipper, Good Tipper, Excellent Tipper)"
   ]
  },
  {
   "cell_type": "code",
   "execution_count": 1,
   "metadata": {},
   "outputs": [],
   "source": [
    "# import packeges\n",
    "import pandas as pd\n",
    "import numpy as np\n",
    "import matplotlib.pyplot as plt\n",
    "import seaborn as sns\n",
    "from sklearn.preprocessing import StandardScaler\n",
    "from sklearn.linear_model import LinearRegression, LogisticRegression\n",
    "from sklearn.model_selection import train_test_split"
   ]
  },
  {
   "cell_type": "code",
   "execution_count": 2,
   "metadata": {},
   "outputs": [],
   "source": [
    "# load data\n",
    "df_logistic = sns.load_dataset(\"tips\")"
   ]
  },
  {
   "cell_type": "code",
   "execution_count": 3,
   "metadata": {},
   "outputs": [],
   "source": [
    "# create a function that classified the 'tip' column into these categories: (Bad Tipper, Good Tipper, Excellent Tipper)\n",
    "def categories(col):\n",
    "\n",
    "    preds = []\n",
    "    for x in range(len(col)):\n",
    "        # if the tip in this interval [1, 4) then classify the tipper as Bad Tipper\n",
    "        if (col.iloc[x] >= col.min() and col.iloc[x] < (col.min()+3)):\n",
    "                preds.append('Bad Tipper')\n",
    "        # if the tip in this interval [4, 7) then classify the tipper as Good Tipper\n",
    "        elif (col.iloc[x] >= (col.min()+3) and col.iloc[x] < (col.min()+6)):\n",
    "                preds.append('Good Tipper')\n",
    "        \n",
    "        # if the tip in this interval [7, 10] then classify the tipper as Excellent Tipper\n",
    "        else:\n",
    "                preds.append('Excellent Tipper')\n",
    "    \n",
    "    return preds"
   ]
  },
  {
   "cell_type": "code",
   "execution_count": 4,
   "metadata": {},
   "outputs": [],
   "source": [
    "# create a new column to classify the tipper\n",
    "df_logistic[\"tip_categories\"] = categories(df_logistic['tip'])"
   ]
  },
  {
   "cell_type": "code",
   "execution_count": 5,
   "metadata": {},
   "outputs": [],
   "source": [
    "# convert all categorical columns to numeric columns\n",
    "df_logistic['sex'] = pd.factorize( df_logistic['sex'].values )[0]\n",
    "df_logistic['smoker'] = pd.factorize( df_logistic['smoker'].values )[0]\n",
    "df_logistic['day'] = pd.factorize( df_logistic['day'].values )[0]\n",
    "df_logistic['time'] = pd.factorize( df_logistic['time'].values )[0]"
   ]
  },
  {
   "cell_type": "code",
   "execution_count": 6,
   "metadata": {
    "scrolled": true
   },
   "outputs": [
    {
     "data": {
      "text/html": [
       "<div>\n",
       "<style scoped>\n",
       "    .dataframe tbody tr th:only-of-type {\n",
       "        vertical-align: middle;\n",
       "    }\n",
       "\n",
       "    .dataframe tbody tr th {\n",
       "        vertical-align: top;\n",
       "    }\n",
       "\n",
       "    .dataframe thead th {\n",
       "        text-align: right;\n",
       "    }\n",
       "</style>\n",
       "<table border=\"1\" class=\"dataframe\">\n",
       "  <thead>\n",
       "    <tr style=\"text-align: right;\">\n",
       "      <th></th>\n",
       "      <th>total_bill</th>\n",
       "      <th>tip</th>\n",
       "      <th>sex</th>\n",
       "      <th>smoker</th>\n",
       "      <th>day</th>\n",
       "      <th>time</th>\n",
       "      <th>size</th>\n",
       "      <th>tip_categories</th>\n",
       "    </tr>\n",
       "  </thead>\n",
       "  <tbody>\n",
       "    <tr>\n",
       "      <th>0</th>\n",
       "      <td>16.99</td>\n",
       "      <td>1.01</td>\n",
       "      <td>0</td>\n",
       "      <td>0</td>\n",
       "      <td>0</td>\n",
       "      <td>0</td>\n",
       "      <td>2</td>\n",
       "      <td>Bad Tipper</td>\n",
       "    </tr>\n",
       "    <tr>\n",
       "      <th>1</th>\n",
       "      <td>10.34</td>\n",
       "      <td>1.66</td>\n",
       "      <td>1</td>\n",
       "      <td>0</td>\n",
       "      <td>0</td>\n",
       "      <td>0</td>\n",
       "      <td>3</td>\n",
       "      <td>Bad Tipper</td>\n",
       "    </tr>\n",
       "    <tr>\n",
       "      <th>2</th>\n",
       "      <td>21.01</td>\n",
       "      <td>3.50</td>\n",
       "      <td>1</td>\n",
       "      <td>0</td>\n",
       "      <td>0</td>\n",
       "      <td>0</td>\n",
       "      <td>3</td>\n",
       "      <td>Bad Tipper</td>\n",
       "    </tr>\n",
       "    <tr>\n",
       "      <th>3</th>\n",
       "      <td>23.68</td>\n",
       "      <td>3.31</td>\n",
       "      <td>1</td>\n",
       "      <td>0</td>\n",
       "      <td>0</td>\n",
       "      <td>0</td>\n",
       "      <td>2</td>\n",
       "      <td>Bad Tipper</td>\n",
       "    </tr>\n",
       "    <tr>\n",
       "      <th>4</th>\n",
       "      <td>24.59</td>\n",
       "      <td>3.61</td>\n",
       "      <td>0</td>\n",
       "      <td>0</td>\n",
       "      <td>0</td>\n",
       "      <td>0</td>\n",
       "      <td>4</td>\n",
       "      <td>Bad Tipper</td>\n",
       "    </tr>\n",
       "  </tbody>\n",
       "</table>\n",
       "</div>"
      ],
      "text/plain": [
       "   total_bill   tip  sex  smoker  day  time  size tip_categories\n",
       "0       16.99  1.01    0       0    0     0     2     Bad Tipper\n",
       "1       10.34  1.66    1       0    0     0     3     Bad Tipper\n",
       "2       21.01  3.50    1       0    0     0     3     Bad Tipper\n",
       "3       23.68  3.31    1       0    0     0     2     Bad Tipper\n",
       "4       24.59  3.61    0       0    0     0     4     Bad Tipper"
      ]
     },
     "execution_count": 6,
     "metadata": {},
     "output_type": "execute_result"
    }
   ],
   "source": [
    "# show the head\n",
    "df_logistic.head()"
   ]
  },
  {
   "cell_type": "code",
   "execution_count": 7,
   "metadata": {},
   "outputs": [],
   "source": [
    "# Split the data\n",
    "X_train, X_test, y_train, y_test = train_test_split(\n",
    "    df_logistic.drop(['tip_categories','tip'], axis=1),\n",
    "    df_logistic['tip_categories'], \n",
    "    test_size = 0.30, \n",
    "    random_state = 40)"
   ]
  },
  {
   "cell_type": "code",
   "execution_count": 8,
   "metadata": {},
   "outputs": [],
   "source": [
    "# apply the StandardScaler to fit the model\n",
    "sc = StandardScaler()\n",
    "X_train = sc.fit_transform(X_train)\n",
    "X_test = sc.transform(X_test)"
   ]
  },
  {
   "cell_type": "code",
   "execution_count": 9,
   "metadata": {},
   "outputs": [
    {
     "data": {
      "text/plain": [
       "LogisticRegression()"
      ]
     },
     "execution_count": 9,
     "metadata": {},
     "output_type": "execute_result"
    }
   ],
   "source": [
    "# LogisticRegression model\n",
    "classifier = LogisticRegression()\n",
    "classifier.fit(X_train, y_train)"
   ]
  },
  {
   "cell_type": "code",
   "execution_count": 10,
   "metadata": {},
   "outputs": [],
   "source": [
    "# predict the 'tip_categories' column\n",
    "y_pred = classifier.predict(X_test)"
   ]
  },
  {
   "cell_type": "code",
   "execution_count": 11,
   "metadata": {},
   "outputs": [
    {
     "data": {
      "text/html": [
       "<div>\n",
       "<style scoped>\n",
       "    .dataframe tbody tr th:only-of-type {\n",
       "        vertical-align: middle;\n",
       "    }\n",
       "\n",
       "    .dataframe tbody tr th {\n",
       "        vertical-align: top;\n",
       "    }\n",
       "\n",
       "    .dataframe thead th {\n",
       "        text-align: right;\n",
       "    }\n",
       "</style>\n",
       "<table border=\"1\" class=\"dataframe\">\n",
       "  <thead>\n",
       "    <tr style=\"text-align: right;\">\n",
       "      <th></th>\n",
       "      <th>0</th>\n",
       "      <th>1</th>\n",
       "      <th>2</th>\n",
       "      <th>3</th>\n",
       "      <th>4</th>\n",
       "      <th>5</th>\n",
       "      <th>Actual_Tip</th>\n",
       "      <th>Predict_Tip</th>\n",
       "    </tr>\n",
       "  </thead>\n",
       "  <tbody>\n",
       "    <tr>\n",
       "      <th>0</th>\n",
       "      <td>0.000841</td>\n",
       "      <td>-1.407997</td>\n",
       "      <td>-0.777029</td>\n",
       "      <td>-0.068819</td>\n",
       "      <td>-0.545628</td>\n",
       "      <td>-0.575720</td>\n",
       "      <td>Bad Tipper</td>\n",
       "      <td>Bad Tipper</td>\n",
       "    </tr>\n",
       "    <tr>\n",
       "      <th>1</th>\n",
       "      <td>-0.120529</td>\n",
       "      <td>-1.407997</td>\n",
       "      <td>-0.777029</td>\n",
       "      <td>0.994741</td>\n",
       "      <td>1.832750</td>\n",
       "      <td>0.488111</td>\n",
       "      <td>Bad Tipper</td>\n",
       "      <td>Bad Tipper</td>\n",
       "    </tr>\n",
       "    <tr>\n",
       "      <th>2</th>\n",
       "      <td>-1.097496</td>\n",
       "      <td>0.710229</td>\n",
       "      <td>-0.777029</td>\n",
       "      <td>-0.068819</td>\n",
       "      <td>-0.545628</td>\n",
       "      <td>-0.575720</td>\n",
       "      <td>Bad Tipper</td>\n",
       "      <td>Bad Tipper</td>\n",
       "    </tr>\n",
       "    <tr>\n",
       "      <th>3</th>\n",
       "      <td>-0.321209</td>\n",
       "      <td>-1.407997</td>\n",
       "      <td>-0.777029</td>\n",
       "      <td>-1.132379</td>\n",
       "      <td>-0.545628</td>\n",
       "      <td>0.488111</td>\n",
       "      <td>Bad Tipper</td>\n",
       "      <td>Bad Tipper</td>\n",
       "    </tr>\n",
       "    <tr>\n",
       "      <th>4</th>\n",
       "      <td>-1.018185</td>\n",
       "      <td>-1.407997</td>\n",
       "      <td>-0.777029</td>\n",
       "      <td>0.994741</td>\n",
       "      <td>1.832750</td>\n",
       "      <td>-0.575720</td>\n",
       "      <td>Bad Tipper</td>\n",
       "      <td>Bad Tipper</td>\n",
       "    </tr>\n",
       "  </tbody>\n",
       "</table>\n",
       "</div>"
      ],
      "text/plain": [
       "          0         1         2         3         4         5  Actual_Tip  \\\n",
       "0  0.000841 -1.407997 -0.777029 -0.068819 -0.545628 -0.575720  Bad Tipper   \n",
       "1 -0.120529 -1.407997 -0.777029  0.994741  1.832750  0.488111  Bad Tipper   \n",
       "2 -1.097496  0.710229 -0.777029 -0.068819 -0.545628 -0.575720  Bad Tipper   \n",
       "3 -0.321209 -1.407997 -0.777029 -1.132379 -0.545628  0.488111  Bad Tipper   \n",
       "4 -1.018185 -1.407997 -0.777029  0.994741  1.832750 -0.575720  Bad Tipper   \n",
       "\n",
       "  Predict_Tip  \n",
       "0  Bad Tipper  \n",
       "1  Bad Tipper  \n",
       "2  Bad Tipper  \n",
       "3  Bad Tipper  \n",
       "4  Bad Tipper  "
      ]
     },
     "execution_count": 11,
     "metadata": {},
     "output_type": "execute_result"
    }
   ],
   "source": [
    "# combined the y_pred with X_test\n",
    "test_dataset = pd.DataFrame(X_test)\n",
    "\n",
    "test_dataset['Actual_Tip'] = y_test.to_numpy()\n",
    "test_dataset['Predict_Tip'] = y_pred\n",
    "\n",
    "#show the head\n",
    "test_dataset.head()"
   ]
  },
  {
   "cell_type": "code",
   "execution_count": 12,
   "metadata": {},
   "outputs": [
    {
     "data": {
      "text/plain": [
       "True     58\n",
       "False    16\n",
       "dtype: int64"
      ]
     },
     "execution_count": 12,
     "metadata": {},
     "output_type": "execute_result"
    }
   ],
   "source": [
    "# check if values matches in these columns\n",
    "(test_dataset['Actual_Tip'] == test_dataset['Predict_Tip']).value_counts()"
   ]
  },
  {
   "cell_type": "markdown",
   "metadata": {},
   "source": [
    "# Linear Regression For The Tips Dataset"
   ]
  },
  {
   "cell_type": "markdown",
   "metadata": {},
   "source": [
    "create a linear regression that predicts the tips column.\n",
    "\n",
    "Compare your results from your linear and logistic regression using the following criteria:\n",
    "- If your predicted regression is over 10% tolerance (error) then consider it a false prediction, otherwise, it is true Example: If the actual value is 1 and your prediction is [0.9, 1.10] this is true, otherwise it is false."
   ]
  },
  {
   "cell_type": "code",
   "execution_count": 13,
   "metadata": {},
   "outputs": [],
   "source": [
    "# load the data\n",
    "df_linear = sns.load_dataset(\"tips\")"
   ]
  },
  {
   "cell_type": "code",
   "execution_count": 14,
   "metadata": {},
   "outputs": [],
   "source": [
    "# convert all categorical columns to numeric columns\n",
    "df_linear['sex'] = pd.factorize( df_linear['sex'].values )[0]\n",
    "df_linear['smoker'] = pd.factorize( df_linear['smoker'].values )[0]\n",
    "df_linear['day'] = pd.factorize( df_linear['day'].values )[0]\n",
    "df_linear['time'] = pd.factorize( df_linear['time'].values )[0]"
   ]
  },
  {
   "cell_type": "code",
   "execution_count": 15,
   "metadata": {},
   "outputs": [
    {
     "data": {
      "text/html": [
       "<div>\n",
       "<style scoped>\n",
       "    .dataframe tbody tr th:only-of-type {\n",
       "        vertical-align: middle;\n",
       "    }\n",
       "\n",
       "    .dataframe tbody tr th {\n",
       "        vertical-align: top;\n",
       "    }\n",
       "\n",
       "    .dataframe thead th {\n",
       "        text-align: right;\n",
       "    }\n",
       "</style>\n",
       "<table border=\"1\" class=\"dataframe\">\n",
       "  <thead>\n",
       "    <tr style=\"text-align: right;\">\n",
       "      <th></th>\n",
       "      <th>total_bill</th>\n",
       "      <th>tip</th>\n",
       "      <th>sex</th>\n",
       "      <th>smoker</th>\n",
       "      <th>day</th>\n",
       "      <th>time</th>\n",
       "      <th>size</th>\n",
       "    </tr>\n",
       "  </thead>\n",
       "  <tbody>\n",
       "    <tr>\n",
       "      <th>0</th>\n",
       "      <td>16.99</td>\n",
       "      <td>1.01</td>\n",
       "      <td>0</td>\n",
       "      <td>0</td>\n",
       "      <td>0</td>\n",
       "      <td>0</td>\n",
       "      <td>2</td>\n",
       "    </tr>\n",
       "    <tr>\n",
       "      <th>1</th>\n",
       "      <td>10.34</td>\n",
       "      <td>1.66</td>\n",
       "      <td>1</td>\n",
       "      <td>0</td>\n",
       "      <td>0</td>\n",
       "      <td>0</td>\n",
       "      <td>3</td>\n",
       "    </tr>\n",
       "    <tr>\n",
       "      <th>2</th>\n",
       "      <td>21.01</td>\n",
       "      <td>3.50</td>\n",
       "      <td>1</td>\n",
       "      <td>0</td>\n",
       "      <td>0</td>\n",
       "      <td>0</td>\n",
       "      <td>3</td>\n",
       "    </tr>\n",
       "    <tr>\n",
       "      <th>3</th>\n",
       "      <td>23.68</td>\n",
       "      <td>3.31</td>\n",
       "      <td>1</td>\n",
       "      <td>0</td>\n",
       "      <td>0</td>\n",
       "      <td>0</td>\n",
       "      <td>2</td>\n",
       "    </tr>\n",
       "    <tr>\n",
       "      <th>4</th>\n",
       "      <td>24.59</td>\n",
       "      <td>3.61</td>\n",
       "      <td>0</td>\n",
       "      <td>0</td>\n",
       "      <td>0</td>\n",
       "      <td>0</td>\n",
       "      <td>4</td>\n",
       "    </tr>\n",
       "  </tbody>\n",
       "</table>\n",
       "</div>"
      ],
      "text/plain": [
       "   total_bill   tip  sex  smoker  day  time  size\n",
       "0       16.99  1.01    0       0    0     0     2\n",
       "1       10.34  1.66    1       0    0     0     3\n",
       "2       21.01  3.50    1       0    0     0     3\n",
       "3       23.68  3.31    1       0    0     0     2\n",
       "4       24.59  3.61    0       0    0     0     4"
      ]
     },
     "execution_count": 15,
     "metadata": {},
     "output_type": "execute_result"
    }
   ],
   "source": [
    "# show the head\n",
    "df_linear.head()"
   ]
  },
  {
   "cell_type": "code",
   "execution_count": 16,
   "metadata": {},
   "outputs": [],
   "source": [
    "# Split the data\n",
    "X_train, X_test, y_train, y_test = train_test_split(\n",
    "    df_linear.drop(['tip'], axis=1),\n",
    "    df_linear['tip'], \n",
    "    test_size = 0.30, \n",
    "    random_state = 40)"
   ]
  },
  {
   "cell_type": "code",
   "execution_count": 17,
   "metadata": {},
   "outputs": [
    {
     "data": {
      "text/plain": [
       "LinearRegression()"
      ]
     },
     "execution_count": 17,
     "metadata": {},
     "output_type": "execute_result"
    }
   ],
   "source": [
    "#  LinearRegression model\n",
    "lr = LinearRegression()\n",
    "lr.fit(X_train, y_train)"
   ]
  },
  {
   "cell_type": "code",
   "execution_count": 18,
   "metadata": {},
   "outputs": [],
   "source": [
    "# predict the 'tip' column\n",
    "y_pred = lr.predict(X_test)"
   ]
  },
  {
   "cell_type": "code",
   "execution_count": 19,
   "metadata": {},
   "outputs": [
    {
     "data": {
      "text/html": [
       "<div>\n",
       "<style scoped>\n",
       "    .dataframe tbody tr th:only-of-type {\n",
       "        vertical-align: middle;\n",
       "    }\n",
       "\n",
       "    .dataframe tbody tr th {\n",
       "        vertical-align: top;\n",
       "    }\n",
       "\n",
       "    .dataframe thead th {\n",
       "        text-align: right;\n",
       "    }\n",
       "</style>\n",
       "<table border=\"1\" class=\"dataframe\">\n",
       "  <thead>\n",
       "    <tr style=\"text-align: right;\">\n",
       "      <th></th>\n",
       "      <th>total_bill</th>\n",
       "      <th>sex</th>\n",
       "      <th>smoker</th>\n",
       "      <th>day</th>\n",
       "      <th>time</th>\n",
       "      <th>size</th>\n",
       "      <th>Actual_Tip</th>\n",
       "      <th>Predict_Tip</th>\n",
       "    </tr>\n",
       "  </thead>\n",
       "  <tbody>\n",
       "    <tr>\n",
       "      <th>29</th>\n",
       "      <td>19.65</td>\n",
       "      <td>0</td>\n",
       "      <td>0</td>\n",
       "      <td>1</td>\n",
       "      <td>0</td>\n",
       "      <td>2</td>\n",
       "      <td>3.00</td>\n",
       "      <td>3.005646</td>\n",
       "    </tr>\n",
       "    <tr>\n",
       "      <th>146</th>\n",
       "      <td>18.64</td>\n",
       "      <td>0</td>\n",
       "      <td>0</td>\n",
       "      <td>2</td>\n",
       "      <td>1</td>\n",
       "      <td>3</td>\n",
       "      <td>1.36</td>\n",
       "      <td>3.109629</td>\n",
       "    </tr>\n",
       "    <tr>\n",
       "      <th>75</th>\n",
       "      <td>10.51</td>\n",
       "      <td>1</td>\n",
       "      <td>0</td>\n",
       "      <td>1</td>\n",
       "      <td>0</td>\n",
       "      <td>2</td>\n",
       "      <td>1.25</td>\n",
       "      <td>2.092216</td>\n",
       "    </tr>\n",
       "    <tr>\n",
       "      <th>18</th>\n",
       "      <td>16.97</td>\n",
       "      <td>0</td>\n",
       "      <td>0</td>\n",
       "      <td>0</td>\n",
       "      <td>0</td>\n",
       "      <td>3</td>\n",
       "      <td>3.50</td>\n",
       "      <td>2.914557</td>\n",
       "    </tr>\n",
       "    <tr>\n",
       "      <th>132</th>\n",
       "      <td>11.17</td>\n",
       "      <td>0</td>\n",
       "      <td>0</td>\n",
       "      <td>2</td>\n",
       "      <td>1</td>\n",
       "      <td>2</td>\n",
       "      <td>1.50</td>\n",
       "      <td>2.303958</td>\n",
       "    </tr>\n",
       "  </tbody>\n",
       "</table>\n",
       "</div>"
      ],
      "text/plain": [
       "     total_bill  sex  smoker  day  time  size  Actual_Tip  Predict_Tip\n",
       "29        19.65    0       0    1     0     2        3.00     3.005646\n",
       "146       18.64    0       0    2     1     3        1.36     3.109629\n",
       "75        10.51    1       0    1     0     2        1.25     2.092216\n",
       "18        16.97    0       0    0     0     3        3.50     2.914557\n",
       "132       11.17    0       0    2     1     2        1.50     2.303958"
      ]
     },
     "execution_count": 19,
     "metadata": {},
     "output_type": "execute_result"
    }
   ],
   "source": [
    "# combined the y_pred with X_test \n",
    "test_dataset = pd.DataFrame(X_test)\n",
    "\n",
    "test_dataset['Actual_Tip'] = y_test.to_numpy()\n",
    "test_dataset['Predict_Tip'] = y_pred\n",
    "\n",
    "# show the head\n",
    "test_dataset.head()"
   ]
  },
  {
   "cell_type": "code",
   "execution_count": 20,
   "metadata": {},
   "outputs": [],
   "source": [
    "# create a function that check If your predicted regression is over 10% tolerance (error)\n",
    "def error_tolerance(col1,col2):\n",
    "\n",
    "    preds = []\n",
    "    for x in range(len(col1)):\n",
    "        # If your predicted regression is in 10% tolerance (error) will append True\n",
    "        if (col2.iloc[x] >= (col1.iloc[x]*0.9) and col2.iloc[x] <= (col1.iloc[x]*1.1)):\n",
    "            preds.append('True')\n",
    "        \n",
    "        # If your predicted regression is over 10% tolerance (error) will append False\n",
    "        else:\n",
    "            preds.append('False')\n",
    "    \n",
    "    return preds"
   ]
  },
  {
   "cell_type": "code",
   "execution_count": 21,
   "metadata": {},
   "outputs": [],
   "source": [
    "# create a new column for 10% tolerance (error)\n",
    "test_dataset[\"in_10error\"] = error_tolerance(test_dataset['Actual_Tip'],test_dataset['Predict_Tip'])"
   ]
  },
  {
   "cell_type": "code",
   "execution_count": 22,
   "metadata": {},
   "outputs": [
    {
     "data": {
      "text/html": [
       "<div>\n",
       "<style scoped>\n",
       "    .dataframe tbody tr th:only-of-type {\n",
       "        vertical-align: middle;\n",
       "    }\n",
       "\n",
       "    .dataframe tbody tr th {\n",
       "        vertical-align: top;\n",
       "    }\n",
       "\n",
       "    .dataframe thead th {\n",
       "        text-align: right;\n",
       "    }\n",
       "</style>\n",
       "<table border=\"1\" class=\"dataframe\">\n",
       "  <thead>\n",
       "    <tr style=\"text-align: right;\">\n",
       "      <th></th>\n",
       "      <th>total_bill</th>\n",
       "      <th>sex</th>\n",
       "      <th>smoker</th>\n",
       "      <th>day</th>\n",
       "      <th>time</th>\n",
       "      <th>size</th>\n",
       "      <th>Actual_Tip</th>\n",
       "      <th>Predict_Tip</th>\n",
       "      <th>in_10error</th>\n",
       "    </tr>\n",
       "  </thead>\n",
       "  <tbody>\n",
       "    <tr>\n",
       "      <th>29</th>\n",
       "      <td>19.65</td>\n",
       "      <td>0</td>\n",
       "      <td>0</td>\n",
       "      <td>1</td>\n",
       "      <td>0</td>\n",
       "      <td>2</td>\n",
       "      <td>3.00</td>\n",
       "      <td>3.005646</td>\n",
       "      <td>True</td>\n",
       "    </tr>\n",
       "    <tr>\n",
       "      <th>146</th>\n",
       "      <td>18.64</td>\n",
       "      <td>0</td>\n",
       "      <td>0</td>\n",
       "      <td>2</td>\n",
       "      <td>1</td>\n",
       "      <td>3</td>\n",
       "      <td>1.36</td>\n",
       "      <td>3.109629</td>\n",
       "      <td>False</td>\n",
       "    </tr>\n",
       "    <tr>\n",
       "      <th>75</th>\n",
       "      <td>10.51</td>\n",
       "      <td>1</td>\n",
       "      <td>0</td>\n",
       "      <td>1</td>\n",
       "      <td>0</td>\n",
       "      <td>2</td>\n",
       "      <td>1.25</td>\n",
       "      <td>2.092216</td>\n",
       "      <td>False</td>\n",
       "    </tr>\n",
       "    <tr>\n",
       "      <th>18</th>\n",
       "      <td>16.97</td>\n",
       "      <td>0</td>\n",
       "      <td>0</td>\n",
       "      <td>0</td>\n",
       "      <td>0</td>\n",
       "      <td>3</td>\n",
       "      <td>3.50</td>\n",
       "      <td>2.914557</td>\n",
       "      <td>False</td>\n",
       "    </tr>\n",
       "    <tr>\n",
       "      <th>132</th>\n",
       "      <td>11.17</td>\n",
       "      <td>0</td>\n",
       "      <td>0</td>\n",
       "      <td>2</td>\n",
       "      <td>1</td>\n",
       "      <td>2</td>\n",
       "      <td>1.50</td>\n",
       "      <td>2.303958</td>\n",
       "      <td>False</td>\n",
       "    </tr>\n",
       "  </tbody>\n",
       "</table>\n",
       "</div>"
      ],
      "text/plain": [
       "     total_bill  sex  smoker  day  time  size  Actual_Tip  Predict_Tip  \\\n",
       "29        19.65    0       0    1     0     2        3.00     3.005646   \n",
       "146       18.64    0       0    2     1     3        1.36     3.109629   \n",
       "75        10.51    1       0    1     0     2        1.25     2.092216   \n",
       "18        16.97    0       0    0     0     3        3.50     2.914557   \n",
       "132       11.17    0       0    2     1     2        1.50     2.303958   \n",
       "\n",
       "    in_10error  \n",
       "29        True  \n",
       "146      False  \n",
       "75       False  \n",
       "18       False  \n",
       "132      False  "
      ]
     },
     "execution_count": 22,
     "metadata": {},
     "output_type": "execute_result"
    }
   ],
   "source": [
    "#show the head\n",
    "test_dataset.head()"
   ]
  },
  {
   "cell_type": "code",
   "execution_count": 23,
   "metadata": {},
   "outputs": [
    {
     "data": {
      "text/plain": [
       "False    53\n",
       "True     21\n",
       "Name: in_10error, dtype: int64"
      ]
     },
     "execution_count": 23,
     "metadata": {},
     "output_type": "execute_result"
    }
   ],
   "source": [
    "# count the values in 'in_10error' column\n",
    "test_dataset['in_10error'].value_counts()"
   ]
  },
  {
   "cell_type": "markdown",
   "metadata": {},
   "source": [
    "# Results\n",
    "Compare the false prediction between your classification and regression models and see which one performed better.\n",
    "\n",
    "We can see that the number of False in the Linear Regression is much higher than the Logistic Regression, which is in the Linear Regression 53 False and in the Logistic Regression 16 False.\n",
    "\n",
    "Based on this result, in the future I will use Logistic Regression for sure."
   ]
  }
 ],
 "metadata": {
  "kernelspec": {
   "display_name": "Python [default]",
   "language": "python",
   "name": "python3"
  },
  "language_info": {
   "codemirror_mode": {
    "name": "ipython",
    "version": 3
   },
   "file_extension": ".py",
   "mimetype": "text/x-python",
   "name": "python",
   "nbconvert_exporter": "python",
   "pygments_lexer": "ipython3",
   "version": "3.7.1"
  }
 },
 "nbformat": 4,
 "nbformat_minor": 2
}
